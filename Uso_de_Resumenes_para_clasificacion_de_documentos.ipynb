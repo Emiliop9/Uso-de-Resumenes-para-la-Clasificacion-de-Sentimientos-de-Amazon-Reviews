{
  "cells": [
    {
      "cell_type": "markdown",
      "source": [
        "#El uso del resumen para la construccion de un clasificador de sentimiento"
      ],
      "metadata": {
        "id": "f1zAQv_mKyoM"
      }
    },
    {
      "cell_type": "markdown",
      "source": [
        "Dado que el enfoque que tomaré para mi Tesis es la construcción de un clasificador de ideología política a partir de opiniones o tweets, consideré una buena oportunidad el utilizar las técnicas vistas en esta optativa como un punto de inicio e incluso un Baseline para mi Tesis."
      ],
      "metadata": {
        "id": "P8llvRtqLF6R"
      }
    },
    {
      "cell_type": "markdown",
      "source": [
        "Cargamos la direccion donde almacenamos nuestros datos"
      ],
      "metadata": {
        "id": "uqq5cMd2MBrf"
      }
    },
    {
      "cell_type": "code",
      "execution_count": null,
      "metadata": {
        "colab": {
          "base_uri": "https://localhost:8080/"
        },
        "id": "VmVFaYXd5_J2",
        "outputId": "b9d34425-5a33-495a-8e4f-566048287a12"
      },
      "outputs": [
        {
          "output_type": "stream",
          "name": "stdout",
          "text": [
            "Mounted at /content/drive\n"
          ]
        }
      ],
      "source": [
        "from google.colab import drive\n",
        "drive.mount('/content/drive')"
      ]
    },
    {
      "cell_type": "markdown",
      "source": [
        "##Conjunto de datos\n",
        "\n",
        "Dentro de la libreria \"datasets\" se encuentra un conjunto de reseñas de Amazon en español, la cual nos provee de un titulo, review, puntuacion y categoría del producto\n"
      ],
      "metadata": {
        "id": "3UUH7qcqMISN"
      }
    },
    {
      "cell_type": "code",
      "execution_count": null,
      "metadata": {
        "id": "80u5W9FDw_1B"
      },
      "outputs": [],
      "source": [
        "!pip install datasets"
      ]
    },
    {
      "cell_type": "markdown",
      "source": [],
      "metadata": {
        "id": "r9QvW3fuMiTJ"
      }
    },
    {
      "cell_type": "code",
      "source": [
        "import pandas as pd\n",
        "from datasets import load_dataset, get_dataset_config_names\n",
        "from IPython.display import display, HTML\n",
        "\n",
        "#Tomamos el nombre del conjunto de opiniones generales\n",
        "dataset_name = \"amazon_reviews_multi\"\n",
        "#Unicamente tomamos las que estan relacionadas al Español\n",
        "dataset = load_dataset(path=dataset_name, name=\"es\")\n",
        "#Una vez cargadas le damos el formato de un dataframe de pandas\n",
        "dataset.set_format(\"pandas\")\n",
        "\n",
        "#Tomamos el conjunto de entrenamiento\n",
        "df = dataset[\"train\"][:]\n",
        "#sample = df.sample(n=8, random_state=42)\n",
        "#display(HTML(sample.to_html()))\n",
        "\n",
        "#tomamos el conjunto de prueba\n",
        "df1=dataset['test'][:]"
      ],
      "metadata": {
        "id": "HMrr4rlGlEWu"
      },
      "execution_count": null,
      "outputs": []
    },
    {
      "cell_type": "markdown",
      "source": [
        "Descartamos las columnas que no nos interesan, y conservamos unicamente las relacionadas a la opinion, y las estrellas es decir qué tan positiva o negativa es la reseña."
      ],
      "metadata": {
        "id": "zDbnoCGJNHof"
      }
    },
    {
      "cell_type": "code",
      "execution_count": null,
      "metadata": {
        "id": "7VT-xKHzwcDO"
      },
      "outputs": [],
      "source": [
        "df=df.drop(columns=['review_id', 'product_id', 'reviewer_id', 'review_title', 'language', 'product_category'])"
      ]
    },
    {
      "cell_type": "markdown",
      "source": [
        "Obseerve que solo queda la calificación numerica de la opinión y el cuerpo de la opinón"
      ],
      "metadata": {
        "id": "Ut4S7XsGNS3f"
      }
    },
    {
      "cell_type": "code",
      "execution_count": null,
      "metadata": {
        "colab": {
          "base_uri": "https://localhost:8080/",
          "height": 206
        },
        "id": "vsnmzNE5wtWj",
        "outputId": "c55f3848-1d26-4d3a-9a86-b17eb8b36b28"
      },
      "outputs": [
        {
          "output_type": "execute_result",
          "data": {
            "text/plain": [
              "   stars                                        review_body\n",
              "0      1  Nada bueno se me fue ka pantalla en menos de 8...\n",
              "1      1  Horrible, nos tuvimos que comprar otro porque ...\n",
              "2      1  Te obligan a comprar dos unidades y te llega s...\n",
              "3      1  No entro en descalificar al vendedor, solo pue...\n",
              "4      1               Llega tarde y co la talla equivocada"
            ],
            "text/html": [
              "\n",
              "  <div id=\"df-3b0c4108-9d5c-4382-8010-4339eb617144\">\n",
              "    <div class=\"colab-df-container\">\n",
              "      <div>\n",
              "<style scoped>\n",
              "    .dataframe tbody tr th:only-of-type {\n",
              "        vertical-align: middle;\n",
              "    }\n",
              "\n",
              "    .dataframe tbody tr th {\n",
              "        vertical-align: top;\n",
              "    }\n",
              "\n",
              "    .dataframe thead th {\n",
              "        text-align: right;\n",
              "    }\n",
              "</style>\n",
              "<table border=\"1\" class=\"dataframe\">\n",
              "  <thead>\n",
              "    <tr style=\"text-align: right;\">\n",
              "      <th></th>\n",
              "      <th>stars</th>\n",
              "      <th>review_body</th>\n",
              "    </tr>\n",
              "  </thead>\n",
              "  <tbody>\n",
              "    <tr>\n",
              "      <th>0</th>\n",
              "      <td>1</td>\n",
              "      <td>Nada bueno se me fue ka pantalla en menos de 8...</td>\n",
              "    </tr>\n",
              "    <tr>\n",
              "      <th>1</th>\n",
              "      <td>1</td>\n",
              "      <td>Horrible, nos tuvimos que comprar otro porque ...</td>\n",
              "    </tr>\n",
              "    <tr>\n",
              "      <th>2</th>\n",
              "      <td>1</td>\n",
              "      <td>Te obligan a comprar dos unidades y te llega s...</td>\n",
              "    </tr>\n",
              "    <tr>\n",
              "      <th>3</th>\n",
              "      <td>1</td>\n",
              "      <td>No entro en descalificar al vendedor, solo pue...</td>\n",
              "    </tr>\n",
              "    <tr>\n",
              "      <th>4</th>\n",
              "      <td>1</td>\n",
              "      <td>Llega tarde y co la talla equivocada</td>\n",
              "    </tr>\n",
              "  </tbody>\n",
              "</table>\n",
              "</div>\n",
              "      <button class=\"colab-df-convert\" onclick=\"convertToInteractive('df-3b0c4108-9d5c-4382-8010-4339eb617144')\"\n",
              "              title=\"Convert this dataframe to an interactive table.\"\n",
              "              style=\"display:none;\">\n",
              "        \n",
              "  <svg xmlns=\"http://www.w3.org/2000/svg\" height=\"24px\"viewBox=\"0 0 24 24\"\n",
              "       width=\"24px\">\n",
              "    <path d=\"M0 0h24v24H0V0z\" fill=\"none\"/>\n",
              "    <path d=\"M18.56 5.44l.94 2.06.94-2.06 2.06-.94-2.06-.94-.94-2.06-.94 2.06-2.06.94zm-11 1L8.5 8.5l.94-2.06 2.06-.94-2.06-.94L8.5 2.5l-.94 2.06-2.06.94zm10 10l.94 2.06.94-2.06 2.06-.94-2.06-.94-.94-2.06-.94 2.06-2.06.94z\"/><path d=\"M17.41 7.96l-1.37-1.37c-.4-.4-.92-.59-1.43-.59-.52 0-1.04.2-1.43.59L10.3 9.45l-7.72 7.72c-.78.78-.78 2.05 0 2.83L4 21.41c.39.39.9.59 1.41.59.51 0 1.02-.2 1.41-.59l7.78-7.78 2.81-2.81c.8-.78.8-2.07 0-2.86zM5.41 20L4 18.59l7.72-7.72 1.47 1.35L5.41 20z\"/>\n",
              "  </svg>\n",
              "      </button>\n",
              "      \n",
              "  <style>\n",
              "    .colab-df-container {\n",
              "      display:flex;\n",
              "      flex-wrap:wrap;\n",
              "      gap: 12px;\n",
              "    }\n",
              "\n",
              "    .colab-df-convert {\n",
              "      background-color: #E8F0FE;\n",
              "      border: none;\n",
              "      border-radius: 50%;\n",
              "      cursor: pointer;\n",
              "      display: none;\n",
              "      fill: #1967D2;\n",
              "      height: 32px;\n",
              "      padding: 0 0 0 0;\n",
              "      width: 32px;\n",
              "    }\n",
              "\n",
              "    .colab-df-convert:hover {\n",
              "      background-color: #E2EBFA;\n",
              "      box-shadow: 0px 1px 2px rgba(60, 64, 67, 0.3), 0px 1px 3px 1px rgba(60, 64, 67, 0.15);\n",
              "      fill: #174EA6;\n",
              "    }\n",
              "\n",
              "    [theme=dark] .colab-df-convert {\n",
              "      background-color: #3B4455;\n",
              "      fill: #D2E3FC;\n",
              "    }\n",
              "\n",
              "    [theme=dark] .colab-df-convert:hover {\n",
              "      background-color: #434B5C;\n",
              "      box-shadow: 0px 1px 3px 1px rgba(0, 0, 0, 0.15);\n",
              "      filter: drop-shadow(0px 1px 2px rgba(0, 0, 0, 0.3));\n",
              "      fill: #FFFFFF;\n",
              "    }\n",
              "  </style>\n",
              "\n",
              "      <script>\n",
              "        const buttonEl =\n",
              "          document.querySelector('#df-3b0c4108-9d5c-4382-8010-4339eb617144 button.colab-df-convert');\n",
              "        buttonEl.style.display =\n",
              "          google.colab.kernel.accessAllowed ? 'block' : 'none';\n",
              "\n",
              "        async function convertToInteractive(key) {\n",
              "          const element = document.querySelector('#df-3b0c4108-9d5c-4382-8010-4339eb617144');\n",
              "          const dataTable =\n",
              "            await google.colab.kernel.invokeFunction('convertToInteractive',\n",
              "                                                     [key], {});\n",
              "          if (!dataTable) return;\n",
              "\n",
              "          const docLinkHtml = 'Like what you see? Visit the ' +\n",
              "            '<a target=\"_blank\" href=https://colab.research.google.com/notebooks/data_table.ipynb>data table notebook</a>'\n",
              "            + ' to learn more about interactive tables.';\n",
              "          element.innerHTML = '';\n",
              "          dataTable['output_type'] = 'display_data';\n",
              "          await google.colab.output.renderOutput(dataTable, element);\n",
              "          const docLink = document.createElement('div');\n",
              "          docLink.innerHTML = docLinkHtml;\n",
              "          element.appendChild(docLink);\n",
              "        }\n",
              "      </script>\n",
              "    </div>\n",
              "  </div>\n",
              "  "
            ]
          },
          "metadata": {},
          "execution_count": 38
        }
      ],
      "source": [
        "df.head()"
      ]
    },
    {
      "cell_type": "markdown",
      "source": [
        "##Muestreo\n",
        "\n",
        "Vamos a tomar un conjunto de 20 mil opiniones para el entrenamiento de nuestros clasificadores, mientras que se toman 5 mil opiniones para el conjunto de prueba. Como tenemos 5 distintas cantidades de estrellas, entonces eso quiere decir que para el entrenamiento, se tienen que tomar 4 mil observaciones de cada cantidad de estrellas.\n"
      ],
      "metadata": {
        "id": "0i_PLHtLNgYQ"
      }
    },
    {
      "cell_type": "code",
      "execution_count": null,
      "metadata": {
        "id": "gjyYtORdpucQ"
      },
      "outputs": [],
      "source": [
        "#Tomamos los elementos del dataframe que coincidan con ese numero de estrellas\n",
        "unos=df[df['stars']==1].sample(4000)\n",
        "dos=df[df['stars']==2].sample(4000)\n",
        "tres=df[df['stars']==3].sample(4000)\n",
        "cuatro=df[df['stars']==4].sample(4000)\n",
        "cinco=df[df['stars']==5].sample(4000)\n",
        "\n",
        "#Creamos el nuevo dataframe correspondiente y le damos el formato necesario\n",
        "df=pd.concat([unos,dos,tres,cuatro,cinco], axis=0)\n",
        "df=df.reset_index().drop(columns=['index'])"
      ]
    },
    {
      "cell_type": "markdown",
      "source": [
        "## **Criterio para el sentimiento**"
      ],
      "metadata": {
        "id": "ecXWE4AWQbWd"
      }
    },
    {
      "cell_type": "markdown",
      "metadata": {
        "id": "2CH9mdU6zJYy"
      },
      "source": [
        "Lo que queremos hacer, es convertir elementos de este conjunto de datos en un atributo  util para clasificar las opiniones de algunos clientes para saber si la opinion es **positiva o negativa**:\n",
        "\n",
        "* **Una opinion es positiva si cuenta con 3 o mas estrellas**\n",
        "* **Una opinion es negativa si cuenta con 2 o menos estrellas**"
      ]
    },
    {
      "cell_type": "code",
      "source": [
        "rate=np.where(df['stars']< 3 , 1, 0)\n",
        "df['class']=rate"
      ],
      "metadata": {
        "id": "sOVoIcULjilz"
      },
      "execution_count": null,
      "outputs": []
    },
    {
      "cell_type": "code",
      "execution_count": null,
      "metadata": {
        "colab": {
          "base_uri": "https://localhost:8080/",
          "height": 206
        },
        "id": "PGouSUd_2-wX",
        "outputId": "c8f3af02-26b8-4371-a4b5-d7abd2785047"
      },
      "outputs": [
        {
          "data": {
            "text/html": [
              "\n",
              "  <div id=\"df-8061eb23-99d9-4a1e-b313-acaa7945a499\">\n",
              "    <div class=\"colab-df-container\">\n",
              "      <div>\n",
              "<style scoped>\n",
              "    .dataframe tbody tr th:only-of-type {\n",
              "        vertical-align: middle;\n",
              "    }\n",
              "\n",
              "    .dataframe tbody tr th {\n",
              "        vertical-align: top;\n",
              "    }\n",
              "\n",
              "    .dataframe thead th {\n",
              "        text-align: right;\n",
              "    }\n",
              "</style>\n",
              "<table border=\"1\" class=\"dataframe\">\n",
              "  <thead>\n",
              "    <tr style=\"text-align: right;\">\n",
              "      <th></th>\n",
              "      <th>stars</th>\n",
              "      <th>review_body</th>\n",
              "      <th>class</th>\n",
              "    </tr>\n",
              "  </thead>\n",
              "  <tbody>\n",
              "    <tr>\n",
              "      <th>0</th>\n",
              "      <td>1</td>\n",
              "      <td>no me llego el articulo me lo mando por correo...</td>\n",
              "      <td>0</td>\n",
              "    </tr>\n",
              "    <tr>\n",
              "      <th>1</th>\n",
              "      <td>1</td>\n",
              "      <td>la mensajería horrible, no compro mas</td>\n",
              "      <td>0</td>\n",
              "    </tr>\n",
              "    <tr>\n",
              "      <th>2</th>\n",
              "      <td>1</td>\n",
              "      <td>Estoy muy decepcionado con el vendedor ya que ...</td>\n",
              "      <td>0</td>\n",
              "    </tr>\n",
              "    <tr>\n",
              "      <th>3</th>\n",
              "      <td>1</td>\n",
              "      <td>Mi valoración no es sobre el producto sino sob...</td>\n",
              "      <td>0</td>\n",
              "    </tr>\n",
              "    <tr>\n",
              "      <th>4</th>\n",
              "      <td>1</td>\n",
              "      <td>Pues tenía interés en este libro y probé la ve...</td>\n",
              "      <td>0</td>\n",
              "    </tr>\n",
              "  </tbody>\n",
              "</table>\n",
              "</div>\n",
              "      <button class=\"colab-df-convert\" onclick=\"convertToInteractive('df-8061eb23-99d9-4a1e-b313-acaa7945a499')\"\n",
              "              title=\"Convert this dataframe to an interactive table.\"\n",
              "              style=\"display:none;\">\n",
              "        \n",
              "  <svg xmlns=\"http://www.w3.org/2000/svg\" height=\"24px\"viewBox=\"0 0 24 24\"\n",
              "       width=\"24px\">\n",
              "    <path d=\"M0 0h24v24H0V0z\" fill=\"none\"/>\n",
              "    <path d=\"M18.56 5.44l.94 2.06.94-2.06 2.06-.94-2.06-.94-.94-2.06-.94 2.06-2.06.94zm-11 1L8.5 8.5l.94-2.06 2.06-.94-2.06-.94L8.5 2.5l-.94 2.06-2.06.94zm10 10l.94 2.06.94-2.06 2.06-.94-2.06-.94-.94-2.06-.94 2.06-2.06.94z\"/><path d=\"M17.41 7.96l-1.37-1.37c-.4-.4-.92-.59-1.43-.59-.52 0-1.04.2-1.43.59L10.3 9.45l-7.72 7.72c-.78.78-.78 2.05 0 2.83L4 21.41c.39.39.9.59 1.41.59.51 0 1.02-.2 1.41-.59l7.78-7.78 2.81-2.81c.8-.78.8-2.07 0-2.86zM5.41 20L4 18.59l7.72-7.72 1.47 1.35L5.41 20z\"/>\n",
              "  </svg>\n",
              "      </button>\n",
              "      \n",
              "  <style>\n",
              "    .colab-df-container {\n",
              "      display:flex;\n",
              "      flex-wrap:wrap;\n",
              "      gap: 12px;\n",
              "    }\n",
              "\n",
              "    .colab-df-convert {\n",
              "      background-color: #E8F0FE;\n",
              "      border: none;\n",
              "      border-radius: 50%;\n",
              "      cursor: pointer;\n",
              "      display: none;\n",
              "      fill: #1967D2;\n",
              "      height: 32px;\n",
              "      padding: 0 0 0 0;\n",
              "      width: 32px;\n",
              "    }\n",
              "\n",
              "    .colab-df-convert:hover {\n",
              "      background-color: #E2EBFA;\n",
              "      box-shadow: 0px 1px 2px rgba(60, 64, 67, 0.3), 0px 1px 3px 1px rgba(60, 64, 67, 0.15);\n",
              "      fill: #174EA6;\n",
              "    }\n",
              "\n",
              "    [theme=dark] .colab-df-convert {\n",
              "      background-color: #3B4455;\n",
              "      fill: #D2E3FC;\n",
              "    }\n",
              "\n",
              "    [theme=dark] .colab-df-convert:hover {\n",
              "      background-color: #434B5C;\n",
              "      box-shadow: 0px 1px 3px 1px rgba(0, 0, 0, 0.15);\n",
              "      filter: drop-shadow(0px 1px 2px rgba(0, 0, 0, 0.3));\n",
              "      fill: #FFFFFF;\n",
              "    }\n",
              "  </style>\n",
              "\n",
              "      <script>\n",
              "        const buttonEl =\n",
              "          document.querySelector('#df-8061eb23-99d9-4a1e-b313-acaa7945a499 button.colab-df-convert');\n",
              "        buttonEl.style.display =\n",
              "          google.colab.kernel.accessAllowed ? 'block' : 'none';\n",
              "\n",
              "        async function convertToInteractive(key) {\n",
              "          const element = document.querySelector('#df-8061eb23-99d9-4a1e-b313-acaa7945a499');\n",
              "          const dataTable =\n",
              "            await google.colab.kernel.invokeFunction('convertToInteractive',\n",
              "                                                     [key], {});\n",
              "          if (!dataTable) return;\n",
              "\n",
              "          const docLinkHtml = 'Like what you see? Visit the ' +\n",
              "            '<a target=\"_blank\" href=https://colab.research.google.com/notebooks/data_table.ipynb>data table notebook</a>'\n",
              "            + ' to learn more about interactive tables.';\n",
              "          element.innerHTML = '';\n",
              "          dataTable['output_type'] = 'display_data';\n",
              "          await google.colab.output.renderOutput(dataTable, element);\n",
              "          const docLink = document.createElement('div');\n",
              "          docLink.innerHTML = docLinkHtml;\n",
              "          element.appendChild(docLink);\n",
              "        }\n",
              "      </script>\n",
              "    </div>\n",
              "  </div>\n",
              "  "
            ],
            "text/plain": [
              "   stars                                        review_body  class\n",
              "0      1  no me llego el articulo me lo mando por correo...      0\n",
              "1      1              la mensajería horrible, no compro mas      0\n",
              "2      1  Estoy muy decepcionado con el vendedor ya que ...      0\n",
              "3      1  Mi valoración no es sobre el producto sino sob...      0\n",
              "4      1  Pues tenía interés en este libro y probé la ve...      0"
            ]
          },
          "execution_count": 10,
          "metadata": {},
          "output_type": "execute_result"
        }
      ],
      "source": [
        "rate=[]\n",
        "for i in range(df.shape[0]):\n",
        "  if(df['stars'][i] < 3):\n",
        "    rate.append(0)\n",
        "  else:\n",
        "    rate.append(1)\n",
        "df['class']=rate\n",
        "df.head()"
      ]
    },
    {
      "cell_type": "markdown",
      "source": [
        "##Preprocesamiento de las opiniones"
      ],
      "metadata": {
        "id": "o_qYbzS5Qm50"
      }
    },
    {
      "cell_type": "markdown",
      "metadata": {
        "id": "PVUOFVi13YQn"
      },
      "source": [
        "Vamos a preprocesar nuestros textos, en este caso trabajaremos unicamente con:\n",
        "* Todas las palabras pasan a minúsculas\n",
        "* Al no necesitar hipervinculos, emojis, se conservan únicamente caracteres alfanuméricos\n",
        "* Se descarta la idea de remover las stopwords, debido a que podríamos perder información importante\n",
        "\n",
        "Para hacer todo esto se habia hecho manualmente, pero al ser posible el paralelilzarlo se usa ese recurso, disminuyendo la ejecucion de 5 min a menos de 30 segundos."
      ]
    },
    {
      "cell_type": "markdown",
      "source": [
        "**Instalacion del contexto spark**"
      ],
      "metadata": {
        "id": "dqdFsGPmYQme"
      }
    },
    {
      "cell_type": "code",
      "source": [
        "#resumen=[generate_summary(texto) for texto in df['Procesado']]\n",
        "# innstall java\n",
        "!apt-get install openjdk-8-jdk-headless -qq > /dev/null\n",
        "\n",
        "# install spark (change the version number if needed)\n",
        "!wget -q https://archive.apache.org/dist/spark/spark-3.0.0/spark-3.0.0-bin-hadoop3.2.tgz\n",
        "\n",
        "# unzip the spark file to the current folder\n",
        "!tar xf spark-3.0.0-bin-hadoop3.2.tgz\n",
        "# install findspark using pip\n",
        "!pip install -q findspark\n",
        "\n",
        "# set your spark folder to your system path environment.\n",
        "import os\n",
        "os.environ[\"JAVA_HOME\"] = \"/usr/lib/jvm/java-8-openjdk-amd64\"\n",
        "os.environ[\"SPARK_HOME\"] = \"/content/spark-3.0.0-bin-hadoop3.2\"\n",
        "\n",
        "import findspark\n",
        "findspark.init()\n",
        "\n",
        "from pyspark import SparkContext\n",
        "sc = SparkContext()"
      ],
      "metadata": {
        "id": "GEl8df3rkf-H"
      },
      "execution_count": null,
      "outputs": []
    },
    {
      "cell_type": "code",
      "source": [
        "#En su mayoria usamos los elementos de la libreria NLTK para todo el preprocesamiento y tokenizacion\n",
        "import re\n",
        "import nltk\n",
        "from nltk.tokenize import word_tokenize\n",
        "nltk.download('punkt')"
      ],
      "metadata": {
        "id": "5lBOl7bQROqT",
        "colab": {
          "base_uri": "https://localhost:8080/"
        },
        "outputId": "94aa28e0-63ea-4ba1-c614-bbcec6798aac"
      },
      "execution_count": null,
      "outputs": [
        {
          "output_type": "stream",
          "name": "stderr",
          "text": [
            "[nltk_data] Downloading package punkt to /root/nltk_data...\n",
            "[nltk_data]   Unzipping tokenizers/punkt.zip.\n"
          ]
        },
        {
          "output_type": "execute_result",
          "data": {
            "text/plain": [
              "True"
            ]
          },
          "metadata": {},
          "execution_count": 44
        }
      ]
    },
    {
      "cell_type": "markdown",
      "source": [
        "Funcion que toma como entrada un string y lo devuelve procesado"
      ],
      "metadata": {
        "id": "LVFam9MIYTDD"
      }
    },
    {
      "cell_type": "code",
      "source": [
        "def procesar(texto):\n",
        "  texto=re.sub(r'\\w+:\\/{2}[\\d\\w-]+(\\.[\\d\\w-]+)*(?:(?:\\/[^\\s/]*))*', '', texto )\n",
        "  text_tokens = word_tokenize(texto)\n",
        "  tokens_without_sw = [word.lower() for word in text_tokens if word.isalpha()]\n",
        "  return(' '.join(tokens_without_sw))"
      ],
      "metadata": {
        "id": "QIAFAZoJ2ias"
      },
      "execution_count": null,
      "outputs": []
    },
    {
      "cell_type": "markdown",
      "source": [
        "*Paralelizamos el objeto que contiene las opiniones que queremos procesar*"
      ],
      "metadata": {
        "id": "sAJ1j9w2lyZB"
      }
    },
    {
      "cell_type": "code",
      "source": [
        "x_rdd=sc.parallelize(df['review_body'])"
      ],
      "metadata": {
        "id": "WFj25rF4khVI"
      },
      "execution_count": null,
      "outputs": []
    },
    {
      "cell_type": "markdown",
      "source": [
        "Guardamos las opiniones procesadas"
      ],
      "metadata": {
        "id": "k27bjvigYZIv"
      }
    },
    {
      "cell_type": "code",
      "source": [
        "review=x_rdd.map(procesar).collect()"
      ],
      "metadata": {
        "id": "JLK3bJbuk2CF"
      },
      "execution_count": null,
      "outputs": []
    },
    {
      "cell_type": "markdown",
      "source": [
        "**Ejemplo del preproceso**"
      ],
      "metadata": {
        "id": "BMs3fbFTl4gq"
      }
    },
    {
      "cell_type": "code",
      "source": [
        "print(df['review_body'][100])\n",
        "print(review[100])"
      ],
      "metadata": {
        "colab": {
          "base_uri": "https://localhost:8080/"
        },
        "id": "KT9Vw_GFkcCy",
        "outputId": "f6de0a8f-2ab8-4b09-d8ff-6fbfe8e94386"
      },
      "execution_count": null,
      "outputs": [
        {
          "output_type": "stream",
          "name": "stdout",
          "text": [
            "Hola, no pone que cobran gastos de envío en la web y después si los cobran y vale muchos mas que el producto.\n",
            "hola no pone que cobran gastos de envío en la web y después si los cobran y vale muchos mas que el producto\n"
          ]
        }
      ]
    },
    {
      "cell_type": "markdown",
      "source": [
        "*El objeto actual luce algo asi:*"
      ],
      "metadata": {
        "id": "NA-znGOwmGjP"
      }
    },
    {
      "cell_type": "code",
      "execution_count": null,
      "metadata": {
        "colab": {
          "base_uri": "https://localhost:8080/",
          "height": 206
        },
        "id": "WGH5tiaAMc3j",
        "outputId": "864e8567-bb05-4fe4-8a40-2cb46f5bb88b"
      },
      "outputs": [
        {
          "output_type": "execute_result",
          "data": {
            "text/plain": [
              "   stars                                        review_body  \\\n",
              "0      1  Es un plástico, no un hule como estoy acostumb...   \n",
              "1      1  No aconsejo su compra, ya que es un producto o...   \n",
              "2      1  El producto no corresponde con la imagen. No e...   \n",
              "3      1  En Bkool Pro 2, duran menos de 800 km, algo qu...   \n",
              "4      1  Siento decir que no me ha ayudado en nada. Tom...   \n",
              "\n",
              "                                           Procesado  \n",
              "0  es un plástico no un hule como estoy acostumbr...  \n",
              "1  no aconsejo su compra ya que es un producto or...  \n",
              "2  el producto no corresponde con la imagen no el...  \n",
              "3  en bkool pro duran menos de km algo que la hac...  \n",
              "4  siento decir que no me ha ayudado en nada toma...  "
            ],
            "text/html": [
              "\n",
              "  <div id=\"df-899560d4-3fe4-4c7f-8da2-13dd0a757038\">\n",
              "    <div class=\"colab-df-container\">\n",
              "      <div>\n",
              "<style scoped>\n",
              "    .dataframe tbody tr th:only-of-type {\n",
              "        vertical-align: middle;\n",
              "    }\n",
              "\n",
              "    .dataframe tbody tr th {\n",
              "        vertical-align: top;\n",
              "    }\n",
              "\n",
              "    .dataframe thead th {\n",
              "        text-align: right;\n",
              "    }\n",
              "</style>\n",
              "<table border=\"1\" class=\"dataframe\">\n",
              "  <thead>\n",
              "    <tr style=\"text-align: right;\">\n",
              "      <th></th>\n",
              "      <th>stars</th>\n",
              "      <th>review_body</th>\n",
              "      <th>Procesado</th>\n",
              "    </tr>\n",
              "  </thead>\n",
              "  <tbody>\n",
              "    <tr>\n",
              "      <th>0</th>\n",
              "      <td>1</td>\n",
              "      <td>Es un plástico, no un hule como estoy acostumb...</td>\n",
              "      <td>es un plástico no un hule como estoy acostumbr...</td>\n",
              "    </tr>\n",
              "    <tr>\n",
              "      <th>1</th>\n",
              "      <td>1</td>\n",
              "      <td>No aconsejo su compra, ya que es un producto o...</td>\n",
              "      <td>no aconsejo su compra ya que es un producto or...</td>\n",
              "    </tr>\n",
              "    <tr>\n",
              "      <th>2</th>\n",
              "      <td>1</td>\n",
              "      <td>El producto no corresponde con la imagen. No e...</td>\n",
              "      <td>el producto no corresponde con la imagen no el...</td>\n",
              "    </tr>\n",
              "    <tr>\n",
              "      <th>3</th>\n",
              "      <td>1</td>\n",
              "      <td>En Bkool Pro 2, duran menos de 800 km, algo qu...</td>\n",
              "      <td>en bkool pro duran menos de km algo que la hac...</td>\n",
              "    </tr>\n",
              "    <tr>\n",
              "      <th>4</th>\n",
              "      <td>1</td>\n",
              "      <td>Siento decir que no me ha ayudado en nada. Tom...</td>\n",
              "      <td>siento decir que no me ha ayudado en nada toma...</td>\n",
              "    </tr>\n",
              "  </tbody>\n",
              "</table>\n",
              "</div>\n",
              "      <button class=\"colab-df-convert\" onclick=\"convertToInteractive('df-899560d4-3fe4-4c7f-8da2-13dd0a757038')\"\n",
              "              title=\"Convert this dataframe to an interactive table.\"\n",
              "              style=\"display:none;\">\n",
              "        \n",
              "  <svg xmlns=\"http://www.w3.org/2000/svg\" height=\"24px\"viewBox=\"0 0 24 24\"\n",
              "       width=\"24px\">\n",
              "    <path d=\"M0 0h24v24H0V0z\" fill=\"none\"/>\n",
              "    <path d=\"M18.56 5.44l.94 2.06.94-2.06 2.06-.94-2.06-.94-.94-2.06-.94 2.06-2.06.94zm-11 1L8.5 8.5l.94-2.06 2.06-.94-2.06-.94L8.5 2.5l-.94 2.06-2.06.94zm10 10l.94 2.06.94-2.06 2.06-.94-2.06-.94-.94-2.06-.94 2.06-2.06.94z\"/><path d=\"M17.41 7.96l-1.37-1.37c-.4-.4-.92-.59-1.43-.59-.52 0-1.04.2-1.43.59L10.3 9.45l-7.72 7.72c-.78.78-.78 2.05 0 2.83L4 21.41c.39.39.9.59 1.41.59.51 0 1.02-.2 1.41-.59l7.78-7.78 2.81-2.81c.8-.78.8-2.07 0-2.86zM5.41 20L4 18.59l7.72-7.72 1.47 1.35L5.41 20z\"/>\n",
              "  </svg>\n",
              "      </button>\n",
              "      \n",
              "  <style>\n",
              "    .colab-df-container {\n",
              "      display:flex;\n",
              "      flex-wrap:wrap;\n",
              "      gap: 12px;\n",
              "    }\n",
              "\n",
              "    .colab-df-convert {\n",
              "      background-color: #E8F0FE;\n",
              "      border: none;\n",
              "      border-radius: 50%;\n",
              "      cursor: pointer;\n",
              "      display: none;\n",
              "      fill: #1967D2;\n",
              "      height: 32px;\n",
              "      padding: 0 0 0 0;\n",
              "      width: 32px;\n",
              "    }\n",
              "\n",
              "    .colab-df-convert:hover {\n",
              "      background-color: #E2EBFA;\n",
              "      box-shadow: 0px 1px 2px rgba(60, 64, 67, 0.3), 0px 1px 3px 1px rgba(60, 64, 67, 0.15);\n",
              "      fill: #174EA6;\n",
              "    }\n",
              "\n",
              "    [theme=dark] .colab-df-convert {\n",
              "      background-color: #3B4455;\n",
              "      fill: #D2E3FC;\n",
              "    }\n",
              "\n",
              "    [theme=dark] .colab-df-convert:hover {\n",
              "      background-color: #434B5C;\n",
              "      box-shadow: 0px 1px 3px 1px rgba(0, 0, 0, 0.15);\n",
              "      filter: drop-shadow(0px 1px 2px rgba(0, 0, 0, 0.3));\n",
              "      fill: #FFFFFF;\n",
              "    }\n",
              "  </style>\n",
              "\n",
              "      <script>\n",
              "        const buttonEl =\n",
              "          document.querySelector('#df-899560d4-3fe4-4c7f-8da2-13dd0a757038 button.colab-df-convert');\n",
              "        buttonEl.style.display =\n",
              "          google.colab.kernel.accessAllowed ? 'block' : 'none';\n",
              "\n",
              "        async function convertToInteractive(key) {\n",
              "          const element = document.querySelector('#df-899560d4-3fe4-4c7f-8da2-13dd0a757038');\n",
              "          const dataTable =\n",
              "            await google.colab.kernel.invokeFunction('convertToInteractive',\n",
              "                                                     [key], {});\n",
              "          if (!dataTable) return;\n",
              "\n",
              "          const docLinkHtml = 'Like what you see? Visit the ' +\n",
              "            '<a target=\"_blank\" href=https://colab.research.google.com/notebooks/data_table.ipynb>data table notebook</a>'\n",
              "            + ' to learn more about interactive tables.';\n",
              "          element.innerHTML = '';\n",
              "          dataTable['output_type'] = 'display_data';\n",
              "          await google.colab.output.renderOutput(dataTable, element);\n",
              "          const docLink = document.createElement('div');\n",
              "          docLink.innerHTML = docLinkHtml;\n",
              "          element.appendChild(docLink);\n",
              "        }\n",
              "      </script>\n",
              "    </div>\n",
              "  </div>\n",
              "  "
            ]
          },
          "metadata": {},
          "execution_count": 53
        }
      ],
      "source": [
        "df['Procesado']=review\n",
        "df.head()"
      ]
    },
    {
      "cell_type": "markdown",
      "source": [
        "##Análisis de las opiniones"
      ],
      "metadata": {
        "id": "QuZ0t-a6Rc8j"
      }
    },
    {
      "cell_type": "markdown",
      "source": [
        "Vamos a crear un objeto que nos ayude a almacenar las longitudes de las distintas reseñas"
      ],
      "metadata": {
        "id": "8syLBW0ERm8w"
      }
    },
    {
      "cell_type": "code",
      "execution_count": null,
      "metadata": {
        "id": "UZ3rvoRTNBvy"
      },
      "outputs": [],
      "source": [
        "#Una lista que para cada elemento en el dataframe almacene la longitud de la opinion procesada\n",
        "longitud=[]\n",
        "for i in range(df.shape[0]):\n",
        "  longitud.append(len(df['Procesado'][i].split()))\n",
        "\n",
        "#Otro camino\n",
        "#longitud=[len(x.split()) for x in df['Procesado'] ]"
      ]
    },
    {
      "cell_type": "code",
      "execution_count": null,
      "metadata": {
        "colab": {
          "base_uri": "https://localhost:8080/",
          "height": 206
        },
        "id": "rb8_SMfzNj18",
        "outputId": "db8674fa-4b1f-4594-a465-4c155d735986"
      },
      "outputs": [
        {
          "output_type": "execute_result",
          "data": {
            "text/plain": [
              "   stars                                        review_body  \\\n",
              "0      1  Es un plástico, no un hule como estoy acostumb...   \n",
              "1      1  No aconsejo su compra, ya que es un producto o...   \n",
              "2      1  El producto no corresponde con la imagen. No e...   \n",
              "3      1  En Bkool Pro 2, duran menos de 800 km, algo qu...   \n",
              "4      1  Siento decir que no me ha ayudado en nada. Tom...   \n",
              "\n",
              "                                           Procesado  Longitud  \n",
              "0  es un plástico no un hule como estoy acostumbr...        16  \n",
              "1  no aconsejo su compra ya que es un producto or...        21  \n",
              "2  el producto no corresponde con la imagen no el...        46  \n",
              "3  en bkool pro duran menos de km algo que la hac...        27  \n",
              "4  siento decir que no me ha ayudado en nada toma...        26  "
            ],
            "text/html": [
              "\n",
              "  <div id=\"df-2c573163-0b4b-49d3-8b07-3284c80a7fba\">\n",
              "    <div class=\"colab-df-container\">\n",
              "      <div>\n",
              "<style scoped>\n",
              "    .dataframe tbody tr th:only-of-type {\n",
              "        vertical-align: middle;\n",
              "    }\n",
              "\n",
              "    .dataframe tbody tr th {\n",
              "        vertical-align: top;\n",
              "    }\n",
              "\n",
              "    .dataframe thead th {\n",
              "        text-align: right;\n",
              "    }\n",
              "</style>\n",
              "<table border=\"1\" class=\"dataframe\">\n",
              "  <thead>\n",
              "    <tr style=\"text-align: right;\">\n",
              "      <th></th>\n",
              "      <th>stars</th>\n",
              "      <th>review_body</th>\n",
              "      <th>Procesado</th>\n",
              "      <th>Longitud</th>\n",
              "    </tr>\n",
              "  </thead>\n",
              "  <tbody>\n",
              "    <tr>\n",
              "      <th>0</th>\n",
              "      <td>1</td>\n",
              "      <td>Es un plástico, no un hule como estoy acostumb...</td>\n",
              "      <td>es un plástico no un hule como estoy acostumbr...</td>\n",
              "      <td>16</td>\n",
              "    </tr>\n",
              "    <tr>\n",
              "      <th>1</th>\n",
              "      <td>1</td>\n",
              "      <td>No aconsejo su compra, ya que es un producto o...</td>\n",
              "      <td>no aconsejo su compra ya que es un producto or...</td>\n",
              "      <td>21</td>\n",
              "    </tr>\n",
              "    <tr>\n",
              "      <th>2</th>\n",
              "      <td>1</td>\n",
              "      <td>El producto no corresponde con la imagen. No e...</td>\n",
              "      <td>el producto no corresponde con la imagen no el...</td>\n",
              "      <td>46</td>\n",
              "    </tr>\n",
              "    <tr>\n",
              "      <th>3</th>\n",
              "      <td>1</td>\n",
              "      <td>En Bkool Pro 2, duran menos de 800 km, algo qu...</td>\n",
              "      <td>en bkool pro duran menos de km algo que la hac...</td>\n",
              "      <td>27</td>\n",
              "    </tr>\n",
              "    <tr>\n",
              "      <th>4</th>\n",
              "      <td>1</td>\n",
              "      <td>Siento decir que no me ha ayudado en nada. Tom...</td>\n",
              "      <td>siento decir que no me ha ayudado en nada toma...</td>\n",
              "      <td>26</td>\n",
              "    </tr>\n",
              "  </tbody>\n",
              "</table>\n",
              "</div>\n",
              "      <button class=\"colab-df-convert\" onclick=\"convertToInteractive('df-2c573163-0b4b-49d3-8b07-3284c80a7fba')\"\n",
              "              title=\"Convert this dataframe to an interactive table.\"\n",
              "              style=\"display:none;\">\n",
              "        \n",
              "  <svg xmlns=\"http://www.w3.org/2000/svg\" height=\"24px\"viewBox=\"0 0 24 24\"\n",
              "       width=\"24px\">\n",
              "    <path d=\"M0 0h24v24H0V0z\" fill=\"none\"/>\n",
              "    <path d=\"M18.56 5.44l.94 2.06.94-2.06 2.06-.94-2.06-.94-.94-2.06-.94 2.06-2.06.94zm-11 1L8.5 8.5l.94-2.06 2.06-.94-2.06-.94L8.5 2.5l-.94 2.06-2.06.94zm10 10l.94 2.06.94-2.06 2.06-.94-2.06-.94-.94-2.06-.94 2.06-2.06.94z\"/><path d=\"M17.41 7.96l-1.37-1.37c-.4-.4-.92-.59-1.43-.59-.52 0-1.04.2-1.43.59L10.3 9.45l-7.72 7.72c-.78.78-.78 2.05 0 2.83L4 21.41c.39.39.9.59 1.41.59.51 0 1.02-.2 1.41-.59l7.78-7.78 2.81-2.81c.8-.78.8-2.07 0-2.86zM5.41 20L4 18.59l7.72-7.72 1.47 1.35L5.41 20z\"/>\n",
              "  </svg>\n",
              "      </button>\n",
              "      \n",
              "  <style>\n",
              "    .colab-df-container {\n",
              "      display:flex;\n",
              "      flex-wrap:wrap;\n",
              "      gap: 12px;\n",
              "    }\n",
              "\n",
              "    .colab-df-convert {\n",
              "      background-color: #E8F0FE;\n",
              "      border: none;\n",
              "      border-radius: 50%;\n",
              "      cursor: pointer;\n",
              "      display: none;\n",
              "      fill: #1967D2;\n",
              "      height: 32px;\n",
              "      padding: 0 0 0 0;\n",
              "      width: 32px;\n",
              "    }\n",
              "\n",
              "    .colab-df-convert:hover {\n",
              "      background-color: #E2EBFA;\n",
              "      box-shadow: 0px 1px 2px rgba(60, 64, 67, 0.3), 0px 1px 3px 1px rgba(60, 64, 67, 0.15);\n",
              "      fill: #174EA6;\n",
              "    }\n",
              "\n",
              "    [theme=dark] .colab-df-convert {\n",
              "      background-color: #3B4455;\n",
              "      fill: #D2E3FC;\n",
              "    }\n",
              "\n",
              "    [theme=dark] .colab-df-convert:hover {\n",
              "      background-color: #434B5C;\n",
              "      box-shadow: 0px 1px 3px 1px rgba(0, 0, 0, 0.15);\n",
              "      filter: drop-shadow(0px 1px 2px rgba(0, 0, 0, 0.3));\n",
              "      fill: #FFFFFF;\n",
              "    }\n",
              "  </style>\n",
              "\n",
              "      <script>\n",
              "        const buttonEl =\n",
              "          document.querySelector('#df-2c573163-0b4b-49d3-8b07-3284c80a7fba button.colab-df-convert');\n",
              "        buttonEl.style.display =\n",
              "          google.colab.kernel.accessAllowed ? 'block' : 'none';\n",
              "\n",
              "        async function convertToInteractive(key) {\n",
              "          const element = document.querySelector('#df-2c573163-0b4b-49d3-8b07-3284c80a7fba');\n",
              "          const dataTable =\n",
              "            await google.colab.kernel.invokeFunction('convertToInteractive',\n",
              "                                                     [key], {});\n",
              "          if (!dataTable) return;\n",
              "\n",
              "          const docLinkHtml = 'Like what you see? Visit the ' +\n",
              "            '<a target=\"_blank\" href=https://colab.research.google.com/notebooks/data_table.ipynb>data table notebook</a>'\n",
              "            + ' to learn more about interactive tables.';\n",
              "          element.innerHTML = '';\n",
              "          dataTable['output_type'] = 'display_data';\n",
              "          await google.colab.output.renderOutput(dataTable, element);\n",
              "          const docLink = document.createElement('div');\n",
              "          docLink.innerHTML = docLinkHtml;\n",
              "          element.appendChild(docLink);\n",
              "        }\n",
              "      </script>\n",
              "    </div>\n",
              "  </div>\n",
              "  "
            ]
          },
          "metadata": {},
          "execution_count": 55
        }
      ],
      "source": [
        "df['Longitud']=longitud\n",
        "df.head()"
      ]
    },
    {
      "cell_type": "markdown",
      "source": [
        "Veamos mediante una gráfica de barras, en donde se acumulan estas longitudes"
      ],
      "metadata": {
        "id": "o7iLkGgCSi-g"
      }
    },
    {
      "cell_type": "markdown",
      "source": [
        "**No hay duda que solo una parte pequeña de todas las opiniones, apenas y supera las 100 palabras, por lo que se necesita alguna forma de uniformizar todos estos textos sin tener que descartar opiniones**"
      ],
      "metadata": {
        "id": "2DmSYnD4S4Kh"
      }
    },
    {
      "cell_type": "code",
      "execution_count": null,
      "metadata": {
        "colab": {
          "base_uri": "https://localhost:8080/",
          "height": 282
        },
        "id": "vFoZ5mWVOgxk",
        "outputId": "894277a9-a6ce-4f88-fefb-69eb393a835f"
      },
      "outputs": [
        {
          "data": {
            "text/plain": [
              "<matplotlib.axes._subplots.AxesSubplot at 0x7f32aef55390>"
            ]
          },
          "execution_count": 18,
          "metadata": {},
          "output_type": "execute_result"
        },
        {
          "data": {
            "image/png": "[encoded data removed]",
            "text/plain": [
              "<Figure size 432x288 with 1 Axes>"
            ]
          },
          "metadata": {},
          "output_type": "display_data"
        }
      ],
      "source": [
        "df['Longitud'].hist(bins=[50,100,150,200,250,300])"
      ]
    },
    {
      "cell_type": "markdown",
      "source": [
        "**Dentro del intervalo de 10 a 100 palabras, incluso hay una gran diferencia acumulandose  por debajo de las 30 palabras, por lo cual el descartar observaciones no es una opción**"
      ],
      "metadata": {
        "id": "mpq5ISHUTa1b"
      }
    },
    {
      "cell_type": "code",
      "execution_count": null,
      "metadata": {
        "colab": {
          "base_uri": "https://localhost:8080/",
          "height": 282
        },
        "id": "7Ae4yCmoPJKu",
        "outputId": "38270c94-2ec9-47f5-eff9-13c822ad7622"
      },
      "outputs": [
        {
          "data": {
            "text/plain": [
              "<matplotlib.axes._subplots.AxesSubplot at 0x7f32e8b05690>"
            ]
          },
          "execution_count": 19,
          "metadata": {},
          "output_type": "execute_result"
        },
        {
          "data": {
            "image/png": "[encoded data removed]",
            "text/plain": [
              "<Figure size 432x288 with 1 Axes>"
            ]
          },
          "metadata": {},
          "output_type": "display_data"
        }
      ],
      "source": [
        "df['Longitud'].hist(bins=[10,20,30,40,50,60,70,80,90,100])"
      ]
    },
    {
      "cell_type": "code",
      "execution_count": null,
      "metadata": {
        "id": "RAc9mHT4NaDC"
      },
      "outputs": [],
      "source": [
        "df.to_csv('/content/drive/MyDrive/DATA.csv')"
      ]
    },
    {
      "cell_type": "markdown",
      "source": [
        "##Propuesta\n",
        "\n",
        "Así como existen técnicas de reducción de dimensión a nivel técnico o selección de características al tratar con matrices de datos numéricos, creo que se pueden usar otras técnicas que aprovechen la representación textual de las opiniones antes de obtener una representacion matricial de los mismos y aplicar otras técnicas\n"
      ],
      "metadata": {
        "id": "PyMS-wkmUUmL"
      }
    },
    {
      "cell_type": "markdown",
      "source": [
        "## Modelos de resumen automáticos basados en transformers\n",
        "\n",
        "El obtener una representación mas corta de todas nuestras opiniones es una tarea que un modelo de Resúmen automático puede resolver y no solo eso sino que establece una longitud mínima y máxima de secuencias.\n",
        "\n",
        "Los modelos basados en transformers están completamente basados en la atención, entonces es una buena pregunta si este tipo de modelos puede ajustarse a aquellos elementos realmente importantes de la opinón y no perder tanta información."
      ],
      "metadata": {
        "id": "ErCCNlUBXhPi"
      }
    },
    {
      "cell_type": "code",
      "execution_count": null,
      "metadata": {
        "id": "xd4rf4TjJ1zh"
      },
      "outputs": [],
      "source": [
        "!pip install transformers"
      ]
    },
    {
      "cell_type": "markdown",
      "source": [
        "##Modelo de resumen automático\n",
        "\n",
        "El modelo elegido fue extraído de la comunidad de \"Hugging face\", el cual se trata de un modelo BERT adaptado para entrenarse con un corpus en Español, el cual se usó como baseline para otro trabajo, entonces me parece un buen punto de partida\n"
      ],
      "metadata": {
        "id": "p894ZaOaZWo3"
      }
    },
    {
      "cell_type": "code",
      "source": [
        "#Otra version que se logro, fue un fine tuned del modelo mencionado, basta con copiar la siguiente linea en la variable ckpt y parece tener mjores resultados\n",
        "#EP9/bert2bert_shared-spanish-finetuned-summarization-finetuned-xsum"
      ],
      "metadata": {
        "id": "W2qkp5hrcmBc"
      },
      "execution_count": null,
      "outputs": []
    },
    {
      "cell_type": "markdown",
      "source": [
        "Las siguientes lineas son suficientes para utilizar el modelo"
      ],
      "metadata": {
        "id": "FRAc6ztMc3fP"
      }
    },
    {
      "cell_type": "code",
      "execution_count": null,
      "metadata": {
        "colab": {
          "base_uri": "https://localhost:8080/",
          "height": 215,
          "referenced_widgets": [
            "0fa2256eddff45f4b570ee0ebf29eff1",
            "50a06fea06024a8fb1da81e83821f631",
            "0add8e5933aa43ca972f5e25dc591206",
            "84916b4e7bc046f3ba03e818ddb52dae",
            "7c4a92159e3144b0b3138dc83eae5239",
            "b6ec8f91912345ff91eabc3d0326b395",
            "8a23d630a4fd42f2aea4b47cbaa7aff4",
            "0ad3508ce2164e14b071d38ecd569b2f",
            "d15f8f2ba0634b689dd79360862c7525",
            "444965ab70a54147ac2dbe8c5d0a1eb0",
            "d0d32439b60e4816abe49818f891c5f2",
            "508ba4c5d51c4240a665a0b098575c22",
            "ebf62e482b45492bb7c30454d08be3b7",
            "66e02d82175b4dcb8654196c414ab993",
            "09ab9480b97b41c9b15ee62e11f632bc",
            "efc93dca4c014d0794efa0d1bc360c14",
            "9c52a30f5a58481e96960ba20997edfd",
            "683a492a65d047a6a52751c775f7572a",
            "5f0b042abbb6460ab41a7697912a9045",
            "021a3bd798c04763ba32fd8e0bdc8785",
            "54c89e86d691425ca0fb4fb9d1646715",
            "81b8b14d25d6408f93653884e3a098ed",
            "3081f36420844453a2260d54b873f320",
            "d903ffaad4b14bd4a236e54666016791",
            "112ff6d2b45e4cb391dde479d434aa1f",
            "685f60acdc1a49ce817b8947cf2e9014",
            "5830a07a2a544701870ee82dddc191fe",
            "a2798b7756a34f889d5aa65b6958983c",
            "1a3e416a552642fca6c011b66c4955e7",
            "4602882c35e44ba79f283719c6763c1b",
            "4b1a33a8ae37480291c07d2c72f9a47b",
            "0751680cc37944db8245b4efb694d89d",
            "7adc9ec398294079be355c7364ee2aec",
            "e00674c18a844ea9bcc6fde7c825c7d4",
            "8a9206eef7294cf6becef11f6bb911c4",
            "ae5234b5f7124cf6aa8c001c4752a4fc",
            "bb3f1c6c64094ced88effeb56ec65177",
            "507bda55128f40f69a3c90f55f4a338b",
            "df62b2aefa7b45e0a2a789f271a9c59e",
            "f9466a31726546059661827671ded60d",
            "c50ee2f7e4c948d9871d7523793f59cb",
            "8dbe8c7460254f29a893a76dc959d624",
            "5e263e6c35124ebabe23c181146c660b",
            "b6239042c7d1420daf62c075a7c0e251",
            "cc386c7a549b4d6eaa9fc72d7bc7d5bc",
            "2ca0c93e95a34a2da4014e97eb1da240",
            "42c91914f76d4fb89124691b1e6e741f",
            "644565b5bfb64a26b4249afbfa782f85",
            "1da44b13c17942a39f15fb5bb6edc333",
            "868c7746688e46dfb2d6eb02be2a0f59",
            "aca9c62368a7463f91622ef74a61d5f0",
            "2ebc6f69aae0462e819f9daec0a300d7",
            "795d6c1d75b74c5984dff80ee9f27af6",
            "18478c7db3dc430c8de8b0d95c70b532",
            "f5df0ecfa36149bca09d498ad91ad226"
          ]
        },
        "id": "L3DLIKIPJ0BT",
        "outputId": "a5331f2e-f0c2-4720-bac9-495497e69bb1"
      },
      "outputs": [
        {
          "data": {
            "application/vnd.jupyter.widget-view+json": {
              "model_id": "0fa2256eddff45f4b570ee0ebf29eff1",
              "version_major": 2,
              "version_minor": 0
            },
            "text/plain": [
              "Downloading:   0%|          | 0.00/520 [00:00<?, ?B/s]"
            ]
          },
          "metadata": {},
          "output_type": "display_data"
        },
        {
          "data": {
            "application/vnd.jupyter.widget-view+json": {
              "model_id": "508ba4c5d51c4240a665a0b098575c22",
              "version_major": 2,
              "version_minor": 0
            },
            "text/plain": [
              "Downloading:   0%|          | 0.00/242k [00:00<?, ?B/s]"
            ]
          },
          "metadata": {},
          "output_type": "display_data"
        },
        {
          "data": {
            "application/vnd.jupyter.widget-view+json": {
              "model_id": "3081f36420844453a2260d54b873f320",
              "version_major": 2,
              "version_minor": 0
            },
            "text/plain": [
              "Downloading:   0%|          | 0.00/112 [00:00<?, ?B/s]"
            ]
          },
          "metadata": {},
          "output_type": "display_data"
        },
        {
          "data": {
            "application/vnd.jupyter.widget-view+json": {
              "model_id": "e00674c18a844ea9bcc6fde7c825c7d4",
              "version_major": 2,
              "version_minor": 0
            },
            "text/plain": [
              "Downloading:   0%|          | 0.00/4.51k [00:00<?, ?B/s]"
            ]
          },
          "metadata": {},
          "output_type": "display_data"
        },
        {
          "data": {
            "application/vnd.jupyter.widget-view+json": {
              "model_id": "cc386c7a549b4d6eaa9fc72d7bc7d5bc",
              "version_major": 2,
              "version_minor": 0
            },
            "text/plain": [
              "Downloading:   0%|          | 0.00/556M [00:00<?, ?B/s]"
            ]
          },
          "metadata": {},
          "output_type": "display_data"
        },
        {
          "name": "stderr",
          "output_type": "stream",
          "text": [
            "The following encoder weights were not tied to the decoder ['bert/pooler']\n",
            "The following encoder weights were not tied to the decoder ['bert/pooler']\n"
          ]
        }
      ],
      "source": [
        "import torch\n",
        "from transformers import BertTokenizerFast, EncoderDecoderModel\n",
        "device = 'cuda' if torch.cuda.is_available() else 'cpu'\n",
        "ckpt = 'mrm8488/bert2bert_shared-spanish-finetuned-summarization'\n",
        "tokenizer = BertTokenizerFast.from_pretrained(ckpt)\n",
        "model = EncoderDecoderModel.from_pretrained(ckpt).to(device)"
      ]
    },
    {
      "cell_type": "markdown",
      "source": [
        "**Se crea una función encargada de la mayor parte del trabajo, basta con pasarle el string que se busca resumir**"
      ],
      "metadata": {
        "id": "l1Ii4EqLdm71"
      }
    },
    {
      "cell_type": "code",
      "execution_count": null,
      "metadata": {
        "id": "Y_I5V5IORVKE"
      },
      "outputs": [],
      "source": [
        "def generate_summary(text):\n",
        "\n",
        "   inputs = tokenizer([text], padding=\"max_length\", truncation=True, max_length=512, return_tensors=\"pt\")\n",
        "   input_ids = inputs.input_ids.to(device)\n",
        "   attention_mask = inputs.attention_mask.to(device)\n",
        "   output = model.generate(input_ids, attention_mask=attention_mask)\n",
        "   return tokenizer.decode(output[0], skip_special_tokens=True)\n"
      ]
    },
    {
      "cell_type": "markdown",
      "source": [
        "##Desventajas de la propuesta\n",
        "\n",
        "No todo puede ser bueno, debido a que esta tarea por distintas pruebas en promedio tarda:\n",
        "\n",
        "* Menos de 10 segundos si se usa GPU\n",
        "* Menos de 1 minuto si solo se usa CPU\n",
        "\n",
        "Por lo cual obviamente tenemos un problema al querer sacarle provecho a conjuntos de datos grandes, por ejemplo para las 20 mil observaciones en el peor de los casos tardaríamos en el peor de los casos 50 horas en GPU y ni hablar del otro caso."
      ],
      "metadata": {
        "id": "7k2R80YfeZiq"
      }
    },
    {
      "cell_type": "markdown",
      "source": [
        "##Uso de Spark como solución parcial\n",
        "\n",
        "Tal y como lo vimos en el curso, si se encuentra una forma se puede paralelizar el proceso y utilizar las ventajas que nos da SPARK para solucionar este tipo de problemas. Mas adelante se describe el objeto que se paralelizó."
      ],
      "metadata": {
        "id": "H3Z92w-KfmG2"
      }
    },
    {
      "cell_type": "markdown",
      "source": [
        "**Instalamos la paquetería y creamos nuestro contexto**"
      ],
      "metadata": {
        "id": "VRpd9XZdf8Ds"
      }
    },
    {
      "cell_type": "code",
      "execution_count": null,
      "metadata": {
        "id": "9eg3cIusRIiT"
      },
      "outputs": [],
      "source": [
        "#resumen=[generate_summary(texto) for texto in df['Procesado']]\n",
        "# innstall java\n",
        "!apt-get install openjdk-8-jdk-headless -qq > /dev/null\n",
        "\n",
        "# install spark (change the version number if needed)\n",
        "!wget -q https://archive.apache.org/dist/spark/spark-3.0.0/spark-3.0.0-bin-hadoop3.2.tgz\n",
        "\n",
        "# unzip the spark file to the current folder\n",
        "!tar xf spark-3.0.0-bin-hadoop3.2.tgz\n",
        "# install findspark using pip\n",
        "!pip install -q findspark\n",
        "\n",
        "# set your spark folder to your system path environment.\n",
        "import os\n",
        "os.environ[\"JAVA_HOME\"] = \"/usr/lib/jvm/java-8-openjdk-amd64\"\n",
        "os.environ[\"SPARK_HOME\"] = \"/content/spark-3.0.0-bin-hadoop3.2\"\n",
        "\n",
        "import findspark\n",
        "findspark.init()\n",
        "\n",
        "from pyspark import SparkContext\n",
        "sc = SparkContext()"
      ]
    },
    {
      "cell_type": "markdown",
      "source": [
        "Observe que la columna del dataframe puede ser tomada como un objeto para ser paralelizado por SPARK renglón a renglón."
      ],
      "metadata": {
        "id": "4-w_G7wxgQXd"
      }
    },
    {
      "cell_type": "code",
      "execution_count": null,
      "metadata": {
        "colab": {
          "base_uri": "https://localhost:8080/"
        },
        "id": "4KUF1QG5YeNK",
        "outputId": "93425431-b3bf-49db-c57b-0e22ec9b9846"
      },
      "outputs": [
        {
          "data": {
            "text/plain": [
              "0        el producto ha dejado de funcionar y solo tien...\n",
              "1        se rompe la tapa por la presión quiero una sol...\n",
              "2        las agujas del reloj se mueven con el movimien...\n",
              "3        no es la calidad que esperaba bueno por el pre...\n",
              "4        la batería dura muy poco y falla bastante el a...\n",
              "                               ...                        \n",
              "19995    es muy bonito y simple de usar no necesita muc...\n",
              "19996    muy contenta con la compra quedan preciosos yo...\n",
              "19997    un producto moderno para mis clientes y diferente\n",
              "19998    es muy cómoda la entrega muy mal te dicen un d...\n",
              "19999    muy contenta con la compra vivo en un piso y v...\n",
              "Name: Procesado, Length: 20000, dtype: object"
            ]
          },
          "execution_count": 26,
          "metadata": {},
          "output_type": "execute_result"
        }
      ],
      "source": [
        "df[\"Procesado\"]"
      ]
    },
    {
      "cell_type": "markdown",
      "source": [
        "Tomemos una opinión arbitrariamente para ver cómo funciona esta funciónÑ"
      ],
      "metadata": {
        "id": "RACwyGwrgboK"
      }
    },
    {
      "cell_type": "code",
      "execution_count": null,
      "metadata": {
        "colab": {
          "base_uri": "https://localhost:8080/",
          "height": 90
        },
        "id": "TC5YlurObCL4",
        "outputId": "7ae11eac-abf3-4f90-9843-505c1cd7162a"
      },
      "outputs": [
        {
          "name": "stderr",
          "output_type": "stream",
          "text": [
            "/usr/local/lib/python3.7/dist-packages/transformers/generation_utils.py:1364: UserWarning: Neither `max_length` nor `max_new_tokens` has been set, `max_length` will default to 64 (`self.config.max_length`). Controlling `max_length` via the config is deprecated and `max_length` will be removed from the config in v5 of Transformers -- we recommend using `max_new_tokens` to control the maximum length of the generation.\n",
            "  UserWarning,\n"
          ]
        },
        {
          "data": {
            "application/vnd.google.colaboratory.intrinsic+json": {
              "type": "string"
            },
            "text/plain": [
              "'La compré y cuando fuí a montarla le faltaban piezas asique la Deber revis sus pedidos ya que por lo que leo en los comentarios le a mas gente gente gente'"
            ]
          },
          "execution_count": 28,
          "metadata": {},
          "output_type": "execute_result"
        }
      ],
      "source": [
        "generate_summary(df[\"Procesado\"][3591])"
      ]
    },
    {
      "cell_type": "markdown",
      "source": [
        "**Le pasamos la columna del dataframe correspondientes a los reviews procesados**"
      ],
      "metadata": {
        "id": "IGei8-9qgkY5"
      }
    },
    {
      "cell_type": "code",
      "execution_count": null,
      "metadata": {
        "colab": {
          "base_uri": "https://localhost:8080/"
        },
        "id": "uHz9vJYaa-HP",
        "outputId": "3c9a361e-f062-4503-d959-ab548fffd587"
      },
      "outputs": [
        {
          "data": {
            "text/plain": [
              "20000"
            ]
          },
          "execution_count": 31,
          "metadata": {},
          "output_type": "execute_result"
        }
      ],
      "source": [
        "X_rdd=sc.parallelize(df[\"Procesado\"])\n",
        "X_rdd.count()"
      ]
    },
    {
      "cell_type": "markdown",
      "source": [
        "Parece que paralelizó el objeto como nos gustaría, entonces probemoslo"
      ],
      "metadata": {
        "id": "rPU7JljyhMM6"
      }
    },
    {
      "cell_type": "markdown",
      "source": [
        "**Generamos los resúmenes usando la función antes declarada**"
      ],
      "metadata": {
        "id": "A7_HKXrlhTFF"
      }
    },
    {
      "cell_type": "code",
      "execution_count": null,
      "metadata": {
        "id": "IC6fBtKRbrYq"
      },
      "outputs": [],
      "source": [
        "X_res = X_rdd.map(generate_summary)"
      ]
    },
    {
      "cell_type": "markdown",
      "source": [
        "**Guardamos los resultados de la parelización**"
      ],
      "metadata": {
        "id": "MOVn5GDmhdAS"
      }
    },
    {
      "cell_type": "code",
      "execution_count": null,
      "metadata": {
        "colab": {
          "background_save": true
        },
        "id": "ZeDj_T08kqos"
      },
      "outputs": [],
      "source": [
        "Resumido=X_res.collect()"
      ]
    },
    {
      "cell_type": "markdown",
      "source": [
        "La linea anterior fue la que realmente tardó, la cual tomó **Casi 5 horas en ejecutarse**"
      ],
      "metadata": {
        "id": "F5CgUz4whiLF"
      }
    },
    {
      "cell_type": "code",
      "execution_count": null,
      "metadata": {
        "id": "SWXHLfuvDA7l"
      },
      "outputs": [],
      "source": [
        "resumenes=pd.DataFrame({'Resumido': Resumido})\n",
        "resumenes.to_csv('/content/drive/MyDrive/resumenes_test.csv')"
      ]
    },
    {
      "cell_type": "markdown",
      "source": [
        "###Revisión de la paralelización"
      ],
      "metadata": {
        "id": "TNAX11jeiAqw"
      }
    },
    {
      "cell_type": "markdown",
      "source": [
        "Imprimimos alguna observacion procesada"
      ],
      "metadata": {
        "id": "PW8hRozviRoM"
      }
    },
    {
      "cell_type": "code",
      "execution_count": null,
      "metadata": {
        "colab": {
          "base_uri": "https://localhost:8080/",
          "height": 87
        },
        "id": "b4G5SIC3VkiW",
        "outputId": "2ae2816b-950a-405e-c83a-6bfe4450fd55"
      },
      "outputs": [
        {
          "data": {
            "application/vnd.google.colaboratory.intrinsic+json": {
              "type": "string"
            },
            "text/plain": [
              "'al encender la impresora todo correcto hizo el auto ajuste bien seleccione el archivo del gato tardó horas en imprimir todo ok desde sd el problema viene cuando la quieres conectar al pc no la detecta después de buscar por internet no hay información de ella en ningún sitio nada de nada no puedes usar cura para hacer las impresiones después de varias horas parece que algo se conecta pero hace cosas raras el extrusor no deja de sacar pla y cuando va a hacer el auto ajuste se hunde en la cama dejándola destrozada parece que es una impresora de calidad pero me he llevado un chasco que no veas se monta muy rápido puro no se puede configurar así que la devolví'"
            ]
          },
          "execution_count": 35,
          "metadata": {},
          "output_type": "execute_result"
        }
      ],
      "source": [
        "df[\"Procesado\"][19]"
      ]
    },
    {
      "cell_type": "markdown",
      "source": [
        "Mostramos el Resumen correspondiente generad en la paralelización."
      ],
      "metadata": {
        "id": "fkQQm9xtiYTk"
      }
    },
    {
      "cell_type": "code",
      "execution_count": null,
      "metadata": {
        "colab": {
          "base_uri": "https://localhost:8080/",
          "height": 35
        },
        "id": "IfWx0FEzV1Xx",
        "outputId": "4c0cecda-8319-4ad5-8469-5299922af91a"
      },
      "outputs": [
        {
          "data": {
            "application/vnd.google.colaboratory.intrinsic+json": {
              "type": "string"
            },
            "text/plain": [
              "'Me he llevado un chasco que no veas se monta muy rápido puro no se puede configurar así que la devolvína destrozada parece que es una impresora de calidad'"
            ]
          },
          "execution_count": 37,
          "metadata": {},
          "output_type": "execute_result"
        }
      ],
      "source": [
        "Resumido[19]"
      ]
    },
    {
      "cell_type": "markdown",
      "source": [
        "**Agregamos la versión resumida del conjunto de entrenamiento y prueba a las columnas de los dataframe**"
      ],
      "metadata": {
        "id": "H7gAlkduiW98"
      }
    },
    {
      "cell_type": "code",
      "execution_count": null,
      "metadata": {
        "colab": {
          "base_uri": "https://localhost:8080/",
          "height": 206
        },
        "id": "1Nh2rL2HXDE6",
        "outputId": "44f2dbc4-9916-48c8-9ed4-dd007f8cb3d2"
      },
      "outputs": [
        {
          "data": {
            "text/html": [
              "\n",
              "  <div id=\"df-c61b9430-5184-4e8d-9fa8-90243c62d4aa\">\n",
              "    <div class=\"colab-df-container\">\n",
              "      <div>\n",
              "<style scoped>\n",
              "    .dataframe tbody tr th:only-of-type {\n",
              "        vertical-align: middle;\n",
              "    }\n",
              "\n",
              "    .dataframe tbody tr th {\n",
              "        vertical-align: top;\n",
              "    }\n",
              "\n",
              "    .dataframe thead th {\n",
              "        text-align: right;\n",
              "    }\n",
              "</style>\n",
              "<table border=\"1\" class=\"dataframe\">\n",
              "  <thead>\n",
              "    <tr style=\"text-align: right;\">\n",
              "      <th></th>\n",
              "      <th>stars</th>\n",
              "      <th>review_body</th>\n",
              "      <th>class</th>\n",
              "      <th>Procesado</th>\n",
              "      <th>Longitud</th>\n",
              "      <th>Resumido</th>\n",
              "    </tr>\n",
              "  </thead>\n",
              "  <tbody>\n",
              "    <tr>\n",
              "      <th>0</th>\n",
              "      <td>1</td>\n",
              "      <td>El producto ha dejado de funcionar y solo tien...</td>\n",
              "      <td>0</td>\n",
              "      <td>el producto ha dejado de funcionar y solo tien...</td>\n",
              "      <td>14</td>\n",
              "      <td>El producto ha dejado de funcionar y solo tien...</td>\n",
              "    </tr>\n",
              "    <tr>\n",
              "      <th>1</th>\n",
              "      <td>1</td>\n",
              "      <td>Se rompe la tapa por la presión. Quiero una so...</td>\n",
              "      <td>0</td>\n",
              "      <td>se rompe la tapa por la presión quiero una sol...</td>\n",
              "      <td>11</td>\n",
              "      <td>Se rompe la tapa por la presión quiero una sol...</td>\n",
              "    </tr>\n",
              "    <tr>\n",
              "      <th>2</th>\n",
              "      <td>1</td>\n",
              "      <td>Las agujas del reloj se mueven con el movimien...</td>\n",
              "      <td>0</td>\n",
              "      <td>las agujas del reloj se mueven con el movimien...</td>\n",
              "      <td>23</td>\n",
              "      <td>Las agujas del reloj se mueven con el movimien...</td>\n",
              "    </tr>\n",
              "    <tr>\n",
              "      <th>3</th>\n",
              "      <td>1</td>\n",
              "      <td>no es la calidad que esperaba, bueno por el pr...</td>\n",
              "      <td>0</td>\n",
              "      <td>no es la calidad que esperaba bueno por el pre...</td>\n",
              "      <td>20</td>\n",
              "      <td>No es la calidad que esperaba bueno por el pre...</td>\n",
              "    </tr>\n",
              "    <tr>\n",
              "      <th>4</th>\n",
              "      <td>1</td>\n",
              "      <td>La batería dura muy poco y falla bastante el a...</td>\n",
              "      <td>0</td>\n",
              "      <td>la batería dura muy poco y falla bastante el a...</td>\n",
              "      <td>25</td>\n",
              "      <td>La batería dura muy poco y falla bastante el a...</td>\n",
              "    </tr>\n",
              "  </tbody>\n",
              "</table>\n",
              "</div>\n",
              "      <button class=\"colab-df-convert\" onclick=\"convertToInteractive('df-c61b9430-5184-4e8d-9fa8-90243c62d4aa')\"\n",
              "              title=\"Convert this dataframe to an interactive table.\"\n",
              "              style=\"display:none;\">\n",
              "        \n",
              "  <svg xmlns=\"http://www.w3.org/2000/svg\" height=\"24px\"viewBox=\"0 0 24 24\"\n",
              "       width=\"24px\">\n",
              "    <path d=\"M0 0h24v24H0V0z\" fill=\"none\"/>\n",
              "    <path d=\"M18.56 5.44l.94 2.06.94-2.06 2.06-.94-2.06-.94-.94-2.06-.94 2.06-2.06.94zm-11 1L8.5 8.5l.94-2.06 2.06-.94-2.06-.94L8.5 2.5l-.94 2.06-2.06.94zm10 10l.94 2.06.94-2.06 2.06-.94-2.06-.94-.94-2.06-.94 2.06-2.06.94z\"/><path d=\"M17.41 7.96l-1.37-1.37c-.4-.4-.92-.59-1.43-.59-.52 0-1.04.2-1.43.59L10.3 9.45l-7.72 7.72c-.78.78-.78 2.05 0 2.83L4 21.41c.39.39.9.59 1.41.59.51 0 1.02-.2 1.41-.59l7.78-7.78 2.81-2.81c.8-.78.8-2.07 0-2.86zM5.41 20L4 18.59l7.72-7.72 1.47 1.35L5.41 20z\"/>\n",
              "  </svg>\n",
              "      </button>\n",
              "      \n",
              "  <style>\n",
              "    .colab-df-container {\n",
              "      display:flex;\n",
              "      flex-wrap:wrap;\n",
              "      gap: 12px;\n",
              "    }\n",
              "\n",
              "    .colab-df-convert {\n",
              "      background-color: #E8F0FE;\n",
              "      border: none;\n",
              "      border-radius: 50%;\n",
              "      cursor: pointer;\n",
              "      display: none;\n",
              "      fill: #1967D2;\n",
              "      height: 32px;\n",
              "      padding: 0 0 0 0;\n",
              "      width: 32px;\n",
              "    }\n",
              "\n",
              "    .colab-df-convert:hover {\n",
              "      background-color: #E2EBFA;\n",
              "      box-shadow: 0px 1px 2px rgba(60, 64, 67, 0.3), 0px 1px 3px 1px rgba(60, 64, 67, 0.15);\n",
              "      fill: #174EA6;\n",
              "    }\n",
              "\n",
              "    [theme=dark] .colab-df-convert {\n",
              "      background-color: #3B4455;\n",
              "      fill: #D2E3FC;\n",
              "    }\n",
              "\n",
              "    [theme=dark] .colab-df-convert:hover {\n",
              "      background-color: #434B5C;\n",
              "      box-shadow: 0px 1px 3px 1px rgba(0, 0, 0, 0.15);\n",
              "      filter: drop-shadow(0px 1px 2px rgba(0, 0, 0, 0.3));\n",
              "      fill: #FFFFFF;\n",
              "    }\n",
              "  </style>\n",
              "\n",
              "      <script>\n",
              "        const buttonEl =\n",
              "          document.querySelector('#df-c61b9430-5184-4e8d-9fa8-90243c62d4aa button.colab-df-convert');\n",
              "        buttonEl.style.display =\n",
              "          google.colab.kernel.accessAllowed ? 'block' : 'none';\n",
              "\n",
              "        async function convertToInteractive(key) {\n",
              "          const element = document.querySelector('#df-c61b9430-5184-4e8d-9fa8-90243c62d4aa');\n",
              "          const dataTable =\n",
              "            await google.colab.kernel.invokeFunction('convertToInteractive',\n",
              "                                                     [key], {});\n",
              "          if (!dataTable) return;\n",
              "\n",
              "          const docLinkHtml = 'Like what you see? Visit the ' +\n",
              "            '<a target=\"_blank\" href=https://colab.research.google.com/notebooks/data_table.ipynb>data table notebook</a>'\n",
              "            + ' to learn more about interactive tables.';\n",
              "          element.innerHTML = '';\n",
              "          dataTable['output_type'] = 'display_data';\n",
              "          await google.colab.output.renderOutput(dataTable, element);\n",
              "          const docLink = document.createElement('div');\n",
              "          docLink.innerHTML = docLinkHtml;\n",
              "          element.appendChild(docLink);\n",
              "        }\n",
              "      </script>\n",
              "    </div>\n",
              "  </div>\n",
              "  "
            ],
            "text/plain": [
              "   stars                                        review_body  class  \\\n",
              "0      1  El producto ha dejado de funcionar y solo tien...      0   \n",
              "1      1  Se rompe la tapa por la presión. Quiero una so...      0   \n",
              "2      1  Las agujas del reloj se mueven con el movimien...      0   \n",
              "3      1  no es la calidad que esperaba, bueno por el pr...      0   \n",
              "4      1  La batería dura muy poco y falla bastante el a...      0   \n",
              "\n",
              "                                           Procesado  Longitud  \\\n",
              "0  el producto ha dejado de funcionar y solo tien...        14   \n",
              "1  se rompe la tapa por la presión quiero una sol...        11   \n",
              "2  las agujas del reloj se mueven con el movimien...        23   \n",
              "3  no es la calidad que esperaba bueno por el pre...        20   \n",
              "4  la batería dura muy poco y falla bastante el a...        25   \n",
              "\n",
              "                                            Resumido  \n",
              "0  El producto ha dejado de funcionar y solo tien...  \n",
              "1  Se rompe la tapa por la presión quiero una sol...  \n",
              "2  Las agujas del reloj se mueven con el movimien...  \n",
              "3  No es la calidad que esperaba bueno por el pre...  \n",
              "4  La batería dura muy poco y falla bastante el a...  "
            ]
          },
          "execution_count": 35,
          "metadata": {},
          "output_type": "execute_result"
        }
      ],
      "source": [
        "df[\"Resumido\"]=Resumido\n",
        "df.head()"
      ]
    },
    {
      "cell_type": "markdown",
      "source": [
        "### Efecto sobre las longitudes de las opiniones"
      ],
      "metadata": {
        "id": "72JXdfjwkGDr"
      }
    },
    {
      "cell_type": "code",
      "execution_count": null,
      "metadata": {
        "id": "L4ARu2hzuEST"
      },
      "outputs": [],
      "source": [
        "longitud2=[]\n",
        "\n",
        "for i in range(df.shape[0]):\n",
        "  longitud2.append(len(df['Resumido'][i].split()))\n",
        "df['longitud_new']=longitud2\n",
        "\n",
        "#Otro camino\n",
        "#longitud2=[len(x.split()) for x in df['Resumido'] ]"
      ]
    },
    {
      "cell_type": "code",
      "execution_count": null,
      "metadata": {
        "colab": {
          "base_uri": "https://localhost:8080/",
          "height": 206
        },
        "id": "-L_QNh34u1xm",
        "outputId": "6822af0f-8e15-4650-cbce-e688553abcc1"
      },
      "outputs": [
        {
          "data": {
            "text/html": [
              "\n",
              "  <div id=\"df-ae8d570a-0bb6-4aef-85cd-aaadc9b42716\">\n",
              "    <div class=\"colab-df-container\">\n",
              "      <div>\n",
              "<style scoped>\n",
              "    .dataframe tbody tr th:only-of-type {\n",
              "        vertical-align: middle;\n",
              "    }\n",
              "\n",
              "    .dataframe tbody tr th {\n",
              "        vertical-align: top;\n",
              "    }\n",
              "\n",
              "    .dataframe thead th {\n",
              "        text-align: right;\n",
              "    }\n",
              "</style>\n",
              "<table border=\"1\" class=\"dataframe\">\n",
              "  <thead>\n",
              "    <tr style=\"text-align: right;\">\n",
              "      <th></th>\n",
              "      <th>Unnamed: 0</th>\n",
              "      <th>stars</th>\n",
              "      <th>review_body</th>\n",
              "      <th>class</th>\n",
              "      <th>Procesado</th>\n",
              "      <th>Longitud</th>\n",
              "      <th>Resumido</th>\n",
              "      <th>longitud_new</th>\n",
              "    </tr>\n",
              "  </thead>\n",
              "  <tbody>\n",
              "    <tr>\n",
              "      <th>0</th>\n",
              "      <td>0</td>\n",
              "      <td>1</td>\n",
              "      <td>El producto ha dejado de funcionar y solo tien...</td>\n",
              "      <td>0</td>\n",
              "      <td>el producto ha dejado de funcionar y solo tien...</td>\n",
              "      <td>14</td>\n",
              "      <td>El producto ha dejado de funcionar y solo tien...</td>\n",
              "      <td>14</td>\n",
              "    </tr>\n",
              "    <tr>\n",
              "      <th>1</th>\n",
              "      <td>1</td>\n",
              "      <td>1</td>\n",
              "      <td>Se rompe la tapa por la presión. Quiero una so...</td>\n",
              "      <td>0</td>\n",
              "      <td>se rompe la tapa por la presión quiero una sol...</td>\n",
              "      <td>11</td>\n",
              "      <td>Se rompe la tapa por la presión quiero una sol...</td>\n",
              "      <td>20</td>\n",
              "    </tr>\n",
              "    <tr>\n",
              "      <th>2</th>\n",
              "      <td>2</td>\n",
              "      <td>1</td>\n",
              "      <td>Las agujas del reloj se mueven con el movimien...</td>\n",
              "      <td>0</td>\n",
              "      <td>las agujas del reloj se mueven con el movimien...</td>\n",
              "      <td>23</td>\n",
              "      <td>Las agujas del reloj se mueven con el movimien...</td>\n",
              "      <td>18</td>\n",
              "    </tr>\n",
              "    <tr>\n",
              "      <th>3</th>\n",
              "      <td>3</td>\n",
              "      <td>1</td>\n",
              "      <td>no es la calidad que esperaba, bueno por el pr...</td>\n",
              "      <td>0</td>\n",
              "      <td>no es la calidad que esperaba bueno por el pre...</td>\n",
              "      <td>20</td>\n",
              "      <td>No es la calidad que esperaba bueno por el pre...</td>\n",
              "      <td>20</td>\n",
              "    </tr>\n",
              "    <tr>\n",
              "      <th>4</th>\n",
              "      <td>4</td>\n",
              "      <td>1</td>\n",
              "      <td>La batería dura muy poco y falla bastante el a...</td>\n",
              "      <td>0</td>\n",
              "      <td>la batería dura muy poco y falla bastante el a...</td>\n",
              "      <td>25</td>\n",
              "      <td>La batería dura muy poco y falla bastante el a...</td>\n",
              "      <td>19</td>\n",
              "    </tr>\n",
              "  </tbody>\n",
              "</table>\n",
              "</div>\n",
              "      <button class=\"colab-df-convert\" onclick=\"convertToInteractive('df-ae8d570a-0bb6-4aef-85cd-aaadc9b42716')\"\n",
              "              title=\"Convert this dataframe to an interactive table.\"\n",
              "              style=\"display:none;\">\n",
              "        \n",
              "  <svg xmlns=\"http://www.w3.org/2000/svg\" height=\"24px\"viewBox=\"0 0 24 24\"\n",
              "       width=\"24px\">\n",
              "    <path d=\"M0 0h24v24H0V0z\" fill=\"none\"/>\n",
              "    <path d=\"M18.56 5.44l.94 2.06.94-2.06 2.06-.94-2.06-.94-.94-2.06-.94 2.06-2.06.94zm-11 1L8.5 8.5l.94-2.06 2.06-.94-2.06-.94L8.5 2.5l-.94 2.06-2.06.94zm10 10l.94 2.06.94-2.06 2.06-.94-2.06-.94-.94-2.06-.94 2.06-2.06.94z\"/><path d=\"M17.41 7.96l-1.37-1.37c-.4-.4-.92-.59-1.43-.59-.52 0-1.04.2-1.43.59L10.3 9.45l-7.72 7.72c-.78.78-.78 2.05 0 2.83L4 21.41c.39.39.9.59 1.41.59.51 0 1.02-.2 1.41-.59l7.78-7.78 2.81-2.81c.8-.78.8-2.07 0-2.86zM5.41 20L4 18.59l7.72-7.72 1.47 1.35L5.41 20z\"/>\n",
              "  </svg>\n",
              "      </button>\n",
              "      \n",
              "  <style>\n",
              "    .colab-df-container {\n",
              "      display:flex;\n",
              "      flex-wrap:wrap;\n",
              "      gap: 12px;\n",
              "    }\n",
              "\n",
              "    .colab-df-convert {\n",
              "      background-color: #E8F0FE;\n",
              "      border: none;\n",
              "      border-radius: 50%;\n",
              "      cursor: pointer;\n",
              "      display: none;\n",
              "      fill: #1967D2;\n",
              "      height: 32px;\n",
              "      padding: 0 0 0 0;\n",
              "      width: 32px;\n",
              "    }\n",
              "\n",
              "    .colab-df-convert:hover {\n",
              "      background-color: #E2EBFA;\n",
              "      box-shadow: 0px 1px 2px rgba(60, 64, 67, 0.3), 0px 1px 3px 1px rgba(60, 64, 67, 0.15);\n",
              "      fill: #174EA6;\n",
              "    }\n",
              "\n",
              "    [theme=dark] .colab-df-convert {\n",
              "      background-color: #3B4455;\n",
              "      fill: #D2E3FC;\n",
              "    }\n",
              "\n",
              "    [theme=dark] .colab-df-convert:hover {\n",
              "      background-color: #434B5C;\n",
              "      box-shadow: 0px 1px 3px 1px rgba(0, 0, 0, 0.15);\n",
              "      filter: drop-shadow(0px 1px 2px rgba(0, 0, 0, 0.3));\n",
              "      fill: #FFFFFF;\n",
              "    }\n",
              "  </style>\n",
              "\n",
              "      <script>\n",
              "        const buttonEl =\n",
              "          document.querySelector('#df-ae8d570a-0bb6-4aef-85cd-aaadc9b42716 button.colab-df-convert');\n",
              "        buttonEl.style.display =\n",
              "          google.colab.kernel.accessAllowed ? 'block' : 'none';\n",
              "\n",
              "        async function convertToInteractive(key) {\n",
              "          const element = document.querySelector('#df-ae8d570a-0bb6-4aef-85cd-aaadc9b42716');\n",
              "          const dataTable =\n",
              "            await google.colab.kernel.invokeFunction('convertToInteractive',\n",
              "                                                     [key], {});\n",
              "          if (!dataTable) return;\n",
              "\n",
              "          const docLinkHtml = 'Like what you see? Visit the ' +\n",
              "            '<a target=\"_blank\" href=https://colab.research.google.com/notebooks/data_table.ipynb>data table notebook</a>'\n",
              "            + ' to learn more about interactive tables.';\n",
              "          element.innerHTML = '';\n",
              "          dataTable['output_type'] = 'display_data';\n",
              "          await google.colab.output.renderOutput(dataTable, element);\n",
              "          const docLink = document.createElement('div');\n",
              "          docLink.innerHTML = docLinkHtml;\n",
              "          element.appendChild(docLink);\n",
              "        }\n",
              "      </script>\n",
              "    </div>\n",
              "  </div>\n",
              "  "
            ],
            "text/plain": [
              "   Unnamed: 0  stars                                        review_body  \\\n",
              "0           0      1  El producto ha dejado de funcionar y solo tien...   \n",
              "1           1      1  Se rompe la tapa por la presión. Quiero una so...   \n",
              "2           2      1  Las agujas del reloj se mueven con el movimien...   \n",
              "3           3      1  no es la calidad que esperaba, bueno por el pr...   \n",
              "4           4      1  La batería dura muy poco y falla bastante el a...   \n",
              "\n",
              "   class                                          Procesado  Longitud  \\\n",
              "0      0  el producto ha dejado de funcionar y solo tien...        14   \n",
              "1      0  se rompe la tapa por la presión quiero una sol...        11   \n",
              "2      0  las agujas del reloj se mueven con el movimien...        23   \n",
              "3      0  no es la calidad que esperaba bueno por el pre...        20   \n",
              "4      0  la batería dura muy poco y falla bastante el a...        25   \n",
              "\n",
              "                                            Resumido  longitud_new  \n",
              "0  El producto ha dejado de funcionar y solo tien...            14  \n",
              "1  Se rompe la tapa por la presión quiero una sol...            20  \n",
              "2  Las agujas del reloj se mueven con el movimien...            18  \n",
              "3  No es la calidad que esperaba bueno por el pre...            20  \n",
              "4  La batería dura muy poco y falla bastante el a...            19  "
            ]
          },
          "execution_count": 8,
          "metadata": {},
          "output_type": "execute_result"
        }
      ],
      "source": [
        "df.head()"
      ]
    },
    {
      "cell_type": "markdown",
      "source": [
        "**Observe que las longitudes nuevas de alguna forma se ven un poco mas uniformes, alcanzando una longitud máxima de 70 palabras y teniendo densidades altas en casi todas esas clases**"
      ],
      "metadata": {
        "id": "OVY_--BJkRVE"
      }
    },
    {
      "cell_type": "code",
      "execution_count": null,
      "metadata": {
        "colab": {
          "base_uri": "https://localhost:8080/",
          "height": 284
        },
        "id": "UtR5CRuWvAyX",
        "outputId": "9c2f66b4-f5ea-42ac-bfd9-e16d4c86a6f0"
      },
      "outputs": [
        {
          "data": {
            "text/plain": [
              "<matplotlib.axes._subplots.AxesSubplot at 0x7fa7caf1a210>"
            ]
          },
          "execution_count": 9,
          "metadata": {},
          "output_type": "execute_result"
        },
        {
          "data": {
            "image/png": "[encoded data removed]",
            "text/plain": [
              "<Figure size 432x288 with 1 Axes>"
            ]
          },
          "metadata": {},
          "output_type": "display_data"
        }
      ],
      "source": [
        "df['longitud_new'].hist(bins=[10,20,30,40,50,60,70,80,90,100])"
      ]
    },
    {
      "cell_type": "markdown",
      "source": [
        "*Un problema con el que me encontre algo tarde es que las clases no estaban equilibradas, por lo que reduje a la clase mas densa a la misma cantidad que la menos densa*"
      ],
      "metadata": {
        "id": "ErP-WAm7kkND"
      }
    },
    {
      "cell_type": "code",
      "execution_count": null,
      "metadata": {
        "id": "wdS9nBh9_3nk"
      },
      "outputs": [],
      "source": [
        "X_train=pd.read_csv('/content/drive/MyDrive/Train_Completo.csv')\n",
        "X_train=X_train.drop(columns=['Unnamed: 0','Unnamed: 0.1', 'stars' ])"
      ]
    },
    {
      "cell_type": "code",
      "execution_count": null,
      "metadata": {
        "id": "sBiLYGmrhUl7"
      },
      "outputs": [],
      "source": [
        "zero=X_train[X_train['class']==0]\n",
        "one=X_train[X_train['class']==1]"
      ]
    },
    {
      "cell_type": "code",
      "execution_count": null,
      "metadata": {
        "id": "PuQzXJUgfymk"
      },
      "outputs": [],
      "source": [
        "one=one.sample(8000)\n",
        "one=one.reset_index()\n",
        "one=one.drop(columns='index')"
      ]
    },
    {
      "cell_type": "code",
      "execution_count": null,
      "metadata": {
        "colab": {
          "base_uri": "https://localhost:8080/",
          "height": 424
        },
        "id": "xC4OEV6oh3LZ",
        "outputId": "bd01e356-e6dc-48a0-8595-858a81fb1c63"
      },
      "outputs": [
        {
          "data": {
            "text/html": [
              "\n",
              "  <div id=\"df-8851f56e-38b6-4b16-9e5d-c467f6ea445b\">\n",
              "    <div class=\"colab-df-container\">\n",
              "      <div>\n",
              "<style scoped>\n",
              "    .dataframe tbody tr th:only-of-type {\n",
              "        vertical-align: middle;\n",
              "    }\n",
              "\n",
              "    .dataframe tbody tr th {\n",
              "        vertical-align: top;\n",
              "    }\n",
              "\n",
              "    .dataframe thead th {\n",
              "        text-align: right;\n",
              "    }\n",
              "</style>\n",
              "<table border=\"1\" class=\"dataframe\">\n",
              "  <thead>\n",
              "    <tr style=\"text-align: right;\">\n",
              "      <th></th>\n",
              "      <th>review_body</th>\n",
              "      <th>class</th>\n",
              "      <th>Procesado</th>\n",
              "      <th>Longitud</th>\n",
              "      <th>Resumido</th>\n",
              "      <th>longitud_new</th>\n",
              "    </tr>\n",
              "  </thead>\n",
              "  <tbody>\n",
              "    <tr>\n",
              "      <th>0</th>\n",
              "      <td>El producto ha dejado de funcionar y solo tien...</td>\n",
              "      <td>0</td>\n",
              "      <td>el producto ha dejado de funcionar y solo tien...</td>\n",
              "      <td>14</td>\n",
              "      <td>El producto ha dejado de funcionar y solo tien...</td>\n",
              "      <td>14</td>\n",
              "    </tr>\n",
              "    <tr>\n",
              "      <th>1</th>\n",
              "      <td>Se rompe la tapa por la presión. Quiero una so...</td>\n",
              "      <td>0</td>\n",
              "      <td>se rompe la tapa por la presión quiero una sol...</td>\n",
              "      <td>11</td>\n",
              "      <td>Se rompe la tapa por la presión quiero una sol...</td>\n",
              "      <td>20</td>\n",
              "    </tr>\n",
              "    <tr>\n",
              "      <th>2</th>\n",
              "      <td>Las agujas del reloj se mueven con el movimien...</td>\n",
              "      <td>0</td>\n",
              "      <td>las agujas del reloj se mueven con el movimien...</td>\n",
              "      <td>23</td>\n",
              "      <td>Las agujas del reloj se mueven con el movimien...</td>\n",
              "      <td>18</td>\n",
              "    </tr>\n",
              "    <tr>\n",
              "      <th>3</th>\n",
              "      <td>no es la calidad que esperaba, bueno por el pr...</td>\n",
              "      <td>0</td>\n",
              "      <td>no es la calidad que esperaba bueno por el pre...</td>\n",
              "      <td>20</td>\n",
              "      <td>No es la calidad que esperaba bueno por el pre...</td>\n",
              "      <td>20</td>\n",
              "    </tr>\n",
              "    <tr>\n",
              "      <th>4</th>\n",
              "      <td>La batería dura muy poco y falla bastante el a...</td>\n",
              "      <td>0</td>\n",
              "      <td>la batería dura muy poco y falla bastante el a...</td>\n",
              "      <td>25</td>\n",
              "      <td>La batería dura muy poco y falla bastante el a...</td>\n",
              "      <td>19</td>\n",
              "    </tr>\n",
              "    <tr>\n",
              "      <th>...</th>\n",
              "      <td>...</td>\n",
              "      <td>...</td>\n",
              "      <td>...</td>\n",
              "      <td>...</td>\n",
              "      <td>...</td>\n",
              "      <td>...</td>\n",
              "    </tr>\n",
              "    <tr>\n",
              "      <th>15995</th>\n",
              "      <td>Me a gustado mucho el producto muy buena calid...</td>\n",
              "      <td>1</td>\n",
              "      <td>me a gustado mucho el producto muy buena calid...</td>\n",
              "      <td>10</td>\n",
              "      <td>Me a gustado mucho mucho mucho el producto muy...</td>\n",
              "      <td>59</td>\n",
              "    </tr>\n",
              "    <tr>\n",
              "      <th>15996</th>\n",
              "      <td>Los colores son tal cual se muestra en las fot...</td>\n",
              "      <td>1</td>\n",
              "      <td>los colores son tal cual se muestra en las fot...</td>\n",
              "      <td>36</td>\n",
              "      <td>Los colores son tal cual se muestra en las imá...</td>\n",
              "      <td>33</td>\n",
              "    </tr>\n",
              "    <tr>\n",
              "      <th>15997</th>\n",
              "      <td>La batería funciona bien, dura menos de lo q e...</td>\n",
              "      <td>1</td>\n",
              "      <td>la batería funciona bien dura menos de lo q es...</td>\n",
              "      <td>30</td>\n",
              "      <td>La batería funciona bien bien y cumple su func...</td>\n",
              "      <td>18</td>\n",
              "    </tr>\n",
              "    <tr>\n",
              "      <th>15998</th>\n",
              "      <td>Muy buena colonia huele muy bien lo unico es q...</td>\n",
              "      <td>1</td>\n",
              "      <td>muy buena colonia huele muy bien lo unico es q...</td>\n",
              "      <td>21</td>\n",
              "      <td>El bote venia con desperfectos por lo unico es...</td>\n",
              "      <td>21</td>\n",
              "    </tr>\n",
              "    <tr>\n",
              "      <th>15999</th>\n",
              "      <td>Me quedado flipando de la calidad de este cafe...</td>\n",
              "      <td>1</td>\n",
              "      <td>me quedado flipando de la calidad de este cafe...</td>\n",
              "      <td>62</td>\n",
              "      <td>Me quedado flipando de la calidad de este cafe...</td>\n",
              "      <td>57</td>\n",
              "    </tr>\n",
              "  </tbody>\n",
              "</table>\n",
              "<p>16000 rows × 6 columns</p>\n",
              "</div>\n",
              "      <button class=\"colab-df-convert\" onclick=\"convertToInteractive('df-8851f56e-38b6-4b16-9e5d-c467f6ea445b')\"\n",
              "              title=\"Convert this dataframe to an interactive table.\"\n",
              "              style=\"display:none;\">\n",
              "        \n",
              "  <svg xmlns=\"http://www.w3.org/2000/svg\" height=\"24px\"viewBox=\"0 0 24 24\"\n",
              "       width=\"24px\">\n",
              "    <path d=\"M0 0h24v24H0V0z\" fill=\"none\"/>\n",
              "    <path d=\"M18.56 5.44l.94 2.06.94-2.06 2.06-.94-2.06-.94-.94-2.06-.94 2.06-2.06.94zm-11 1L8.5 8.5l.94-2.06 2.06-.94-2.06-.94L8.5 2.5l-.94 2.06-2.06.94zm10 10l.94 2.06.94-2.06 2.06-.94-2.06-.94-.94-2.06-.94 2.06-2.06.94z\"/><path d=\"M17.41 7.96l-1.37-1.37c-.4-.4-.92-.59-1.43-.59-.52 0-1.04.2-1.43.59L10.3 9.45l-7.72 7.72c-.78.78-.78 2.05 0 2.83L4 21.41c.39.39.9.59 1.41.59.51 0 1.02-.2 1.41-.59l7.78-7.78 2.81-2.81c.8-.78.8-2.07 0-2.86zM5.41 20L4 18.59l7.72-7.72 1.47 1.35L5.41 20z\"/>\n",
              "  </svg>\n",
              "      </button>\n",
              "      \n",
              "  <style>\n",
              "    .colab-df-container {\n",
              "      display:flex;\n",
              "      flex-wrap:wrap;\n",
              "      gap: 12px;\n",
              "    }\n",
              "\n",
              "    .colab-df-convert {\n",
              "      background-color: #E8F0FE;\n",
              "      border: none;\n",
              "      border-radius: 50%;\n",
              "      cursor: pointer;\n",
              "      display: none;\n",
              "      fill: #1967D2;\n",
              "      height: 32px;\n",
              "      padding: 0 0 0 0;\n",
              "      width: 32px;\n",
              "    }\n",
              "\n",
              "    .colab-df-convert:hover {\n",
              "      background-color: #E2EBFA;\n",
              "      box-shadow: 0px 1px 2px rgba(60, 64, 67, 0.3), 0px 1px 3px 1px rgba(60, 64, 67, 0.15);\n",
              "      fill: #174EA6;\n",
              "    }\n",
              "\n",
              "    [theme=dark] .colab-df-convert {\n",
              "      background-color: #3B4455;\n",
              "      fill: #D2E3FC;\n",
              "    }\n",
              "\n",
              "    [theme=dark] .colab-df-convert:hover {\n",
              "      background-color: #434B5C;\n",
              "      box-shadow: 0px 1px 3px 1px rgba(0, 0, 0, 0.15);\n",
              "      filter: drop-shadow(0px 1px 2px rgba(0, 0, 0, 0.3));\n",
              "      fill: #FFFFFF;\n",
              "    }\n",
              "  </style>\n",
              "\n",
              "      <script>\n",
              "        const buttonEl =\n",
              "          document.querySelector('#df-8851f56e-38b6-4b16-9e5d-c467f6ea445b button.colab-df-convert');\n",
              "        buttonEl.style.display =\n",
              "          google.colab.kernel.accessAllowed ? 'block' : 'none';\n",
              "\n",
              "        async function convertToInteractive(key) {\n",
              "          const element = document.querySelector('#df-8851f56e-38b6-4b16-9e5d-c467f6ea445b');\n",
              "          const dataTable =\n",
              "            await google.colab.kernel.invokeFunction('convertToInteractive',\n",
              "                                                     [key], {});\n",
              "          if (!dataTable) return;\n",
              "\n",
              "          const docLinkHtml = 'Like what you see? Visit the ' +\n",
              "            '<a target=\"_blank\" href=https://colab.research.google.com/notebooks/data_table.ipynb>data table notebook</a>'\n",
              "            + ' to learn more about interactive tables.';\n",
              "          element.innerHTML = '';\n",
              "          dataTable['output_type'] = 'display_data';\n",
              "          await google.colab.output.renderOutput(dataTable, element);\n",
              "          const docLink = document.createElement('div');\n",
              "          docLink.innerHTML = docLinkHtml;\n",
              "          element.appendChild(docLink);\n",
              "        }\n",
              "      </script>\n",
              "    </div>\n",
              "  </div>\n",
              "  "
            ],
            "text/plain": [
              "                                             review_body  class  \\\n",
              "0      El producto ha dejado de funcionar y solo tien...      0   \n",
              "1      Se rompe la tapa por la presión. Quiero una so...      0   \n",
              "2      Las agujas del reloj se mueven con el movimien...      0   \n",
              "3      no es la calidad que esperaba, bueno por el pr...      0   \n",
              "4      La batería dura muy poco y falla bastante el a...      0   \n",
              "...                                                  ...    ...   \n",
              "15995  Me a gustado mucho el producto muy buena calid...      1   \n",
              "15996  Los colores son tal cual se muestra en las fot...      1   \n",
              "15997  La batería funciona bien, dura menos de lo q e...      1   \n",
              "15998  Muy buena colonia huele muy bien lo unico es q...      1   \n",
              "15999  Me quedado flipando de la calidad de este cafe...      1   \n",
              "\n",
              "                                               Procesado  Longitud  \\\n",
              "0      el producto ha dejado de funcionar y solo tien...        14   \n",
              "1      se rompe la tapa por la presión quiero una sol...        11   \n",
              "2      las agujas del reloj se mueven con el movimien...        23   \n",
              "3      no es la calidad que esperaba bueno por el pre...        20   \n",
              "4      la batería dura muy poco y falla bastante el a...        25   \n",
              "...                                                  ...       ...   \n",
              "15995  me a gustado mucho el producto muy buena calid...        10   \n",
              "15996  los colores son tal cual se muestra en las fot...        36   \n",
              "15997  la batería funciona bien dura menos de lo q es...        30   \n",
              "15998  muy buena colonia huele muy bien lo unico es q...        21   \n",
              "15999  me quedado flipando de la calidad de este cafe...        62   \n",
              "\n",
              "                                                Resumido  longitud_new  \n",
              "0      El producto ha dejado de funcionar y solo tien...            14  \n",
              "1      Se rompe la tapa por la presión quiero una sol...            20  \n",
              "2      Las agujas del reloj se mueven con el movimien...            18  \n",
              "3      No es la calidad que esperaba bueno por el pre...            20  \n",
              "4      La batería dura muy poco y falla bastante el a...            19  \n",
              "...                                                  ...           ...  \n",
              "15995  Me a gustado mucho mucho mucho el producto muy...            59  \n",
              "15996  Los colores son tal cual se muestra en las imá...            33  \n",
              "15997  La batería funciona bien bien y cumple su func...            18  \n",
              "15998  El bote venia con desperfectos por lo unico es...            21  \n",
              "15999  Me quedado flipando de la calidad de este cafe...            57  \n",
              "\n",
              "[16000 rows x 6 columns]"
            ]
          },
          "execution_count": 18,
          "metadata": {},
          "output_type": "execute_result"
        }
      ],
      "source": [
        "X_train=pd.concat([zero,one], axis=0).reset_index().drop(columns='index')\n",
        "X_train"
      ]
    },
    {
      "cell_type": "markdown",
      "source": [
        "#Representaciones Vectoriales de las opiniones"
      ],
      "metadata": {
        "id": "0Re31zzwlogR"
      }
    },
    {
      "cell_type": "markdown",
      "metadata": {
        "id": "5gM9jROUzE67"
      },
      "source": [
        "###Fastext\n",
        "\n",
        "Para construir nuestras representaciones, es necesario poner algunas condiciones al vocabulario considerado, en este caso:\n",
        "\n",
        "* Que la palabra aparezca al menos 3 veces en todas las opiniones\n",
        "\n",
        "Y para construir las representaciones, el modelo de fastext tomará ventanas de dos palabras, es decir dos palabras hacia adelante y dos hacia atrás."
      ]
    },
    {
      "cell_type": "markdown",
      "metadata": {
        "id": "JZtT8yb8VwM9"
      },
      "source": [
        "####Opiniones Originales"
      ]
    },
    {
      "cell_type": "markdown",
      "source": [
        "Construimos el vocabulario"
      ],
      "metadata": {
        "id": "dIidIMWkm126"
      }
    },
    {
      "cell_type": "code",
      "execution_count": null,
      "metadata": {
        "id": "W8qioLblR947"
      },
      "outputs": [],
      "source": [
        "vocabulario=[]\n",
        "\n",
        "for i in range(X_train.shape[0]):\n",
        "  vocabulario=vocabulario+list(X_train[\"Procesado\"][i].split())\n",
        "\n",
        "\n",
        "for i in range(X_test.shape[0]):\n",
        "  vocabulario=vocabulario+list(X_test[\"Procesado\"][i].split())"
      ]
    },
    {
      "cell_type": "markdown",
      "source": [
        "**Construimos representaciones de fastext de dimensión 100**"
      ],
      "metadata": {
        "id": "CJ4JuBX9m9AJ"
      }
    },
    {
      "cell_type": "code",
      "execution_count": null,
      "metadata": {
        "id": "wDWN98V4WKgV"
      },
      "outputs": [],
      "source": [
        "size=100"
      ]
    },
    {
      "cell_type": "code",
      "execution_count": null,
      "metadata": {
        "colab": {
          "base_uri": "https://localhost:8080/"
        },
        "id": "7vefv__DV7sx",
        "outputId": "7ad6070c-cd7c-48b8-e069-299df254ba3b"
      },
      "outputs": [
        {
          "name": "stderr",
          "output_type": "stream",
          "text": [
            "WARNING:gensim.models.base_any2vec:under 10 jobs per worker: consider setting a smaller `batch_words' for smoother alpha decay\n"
          ]
        }
      ],
      "source": [
        "from gensim.models import FastText\n",
        "import numpy as np\n",
        "\n",
        "\n",
        "model_ted = FastText([vocabulario], size=size, window=2, min_count=3, workers=4,sg=1)\n",
        "fastext_train=np.zeros((X_train.shape[0],size))\n",
        "for i in range (X_train.shape[0]):\n",
        "  #aux=np.zeros(100)\n",
        "  fastext_train[i]=model_ted.wv[X_train['Procesado'][i]]\n",
        "\n",
        "\n",
        "fastext_test=np.zeros((X_test.shape[0],size))\n",
        "for i in range (X_test.shape[0]):\n",
        "  #aux=np.zeros(100)\n",
        "  fastext_test[i]=model_ted.wv[X_test['Procesado'][i]]\n",
        "\n",
        "pd.DataFrame(fastext_train).to_csv('/content/drive/MyDrive/Representaciones/Fastext_train_original_100.csv')\n",
        "pd.DataFrame(fastext_test).to_csv('/content/drive/MyDrive/Representaciones/Fastext_test_original_100.csv')"
      ]
    },
    {
      "cell_type": "markdown",
      "source": [
        "**Construimos representaciones de fastext de dimension 200**"
      ],
      "metadata": {
        "id": "NVtarExAnEda"
      }
    },
    {
      "cell_type": "code",
      "execution_count": null,
      "metadata": {
        "id": "0k8GXHoNXFcl"
      },
      "outputs": [],
      "source": [
        "size=200"
      ]
    },
    {
      "cell_type": "code",
      "execution_count": null,
      "metadata": {
        "colab": {
          "base_uri": "https://localhost:8080/"
        },
        "id": "psgTG56vXJCR",
        "outputId": "74447f72-1d7a-40a9-c4ea-a4d1908276bf"
      },
      "outputs": [
        {
          "name": "stderr",
          "output_type": "stream",
          "text": [
            "WARNING:gensim.models.base_any2vec:under 10 jobs per worker: consider setting a smaller `batch_words' for smoother alpha decay\n"
          ]
        }
      ],
      "source": [
        "from gensim.models import FastText\n",
        "import numpy as np\n",
        "\n",
        "\n",
        "model_ted = FastText([vocabulario], size=size, window=2, min_count=3, workers=4,sg=1)\n",
        "fastext_train=np.zeros((X_train.shape[0],size))\n",
        "for i in range (X_train.shape[0]):\n",
        "  #aux=np.zeros(100)\n",
        "  fastext_train[i]=model_ted.wv[X_train['Procesado'][i]]\n",
        "\n",
        "\n",
        "fastext_test=np.zeros((X_test.shape[0],size))\n",
        "for i in range (X_test.shape[0]):\n",
        "  #aux=np.zeros(100)\n",
        "  fastext_test[i]=model_ted.wv[X_test['Procesado'][i]]\n",
        "\n",
        "pd.DataFrame(fastext_train).to_csv('/content/drive/MyDrive/Representaciones/Fastext_train_original_200.csv')\n",
        "pd.DataFrame(fastext_test).to_csv('/content/drive/MyDrive/Representaciones/Fastext_test_original_200.csv')"
      ]
    },
    {
      "cell_type": "markdown",
      "metadata": {
        "id": "hm3ViFOpVz9u"
      },
      "source": [
        "####Opiniones Resumidas"
      ]
    },
    {
      "cell_type": "code",
      "execution_count": null,
      "metadata": {
        "id": "SALPvDj3SD8c"
      },
      "outputs": [],
      "source": [
        "vocabulariores=[]\n",
        "\n",
        "for i in range(X_train.shape[0]):\n",
        "  vocabulariores=vocabulariores+list(X_train[\"Resumido\"][i].split())\n",
        "\n",
        "\n",
        "for i in range(X_test.shape[0]):\n",
        "  vocabulariores=vocabulariores+list(X_test[\"Resumido\"][i].split())"
      ]
    },
    {
      "cell_type": "markdown",
      "source": [
        "**Creamos representaciones de tamaño similares**"
      ],
      "metadata": {
        "id": "Mfx7jhopnO8w"
      }
    },
    {
      "cell_type": "code",
      "execution_count": null,
      "metadata": {
        "id": "v1RSy33PXn65"
      },
      "outputs": [],
      "source": [
        "size=100"
      ]
    },
    {
      "cell_type": "code",
      "execution_count": null,
      "metadata": {
        "colab": {
          "base_uri": "https://localhost:8080/"
        },
        "id": "c3J3uH9jXodI",
        "outputId": "e5c79d85-6d47-4d99-839a-82f7cef48a15"
      },
      "outputs": [
        {
          "name": "stderr",
          "output_type": "stream",
          "text": [
            "WARNING:gensim.models.base_any2vec:under 10 jobs per worker: consider setting a smaller `batch_words' for smoother alpha decay\n"
          ]
        }
      ],
      "source": [
        "from gensim.models import FastText\n",
        "import numpy as np\n",
        "\n",
        "\n",
        "model_ted = FastText([vocabulariores], size=size, window=2, min_count=3, workers=4,sg=1)\n",
        "fastext_train=np.zeros((X_train.shape[0],size))\n",
        "for i in range (X_train.shape[0]):\n",
        "  #aux=np.zeros(100)\n",
        "  fastext_train[i]=model_ted.wv[X_train['Resumido'][i]]\n",
        "\n",
        "\n",
        "fastext_test=np.zeros((X_test.shape[0],size))\n",
        "for i in range (X_test.shape[0]):\n",
        "  #aux=np.zeros(100)\n",
        "  fastext_test[i]=model_ted.wv[X_test['Resumido'][i]]\n",
        "\n",
        "pd.DataFrame(fastext_train).to_csv('/content/drive/MyDrive/Representaciones/Fastext_train_resumen_100.csv')\n",
        "pd.DataFrame(fastext_test).to_csv('/content/drive/MyDrive/Representaciones/Fastext_test_resumen_100.csv')"
      ]
    },
    {
      "cell_type": "code",
      "execution_count": null,
      "metadata": {
        "id": "V12YOG36Xys8"
      },
      "outputs": [],
      "source": [
        "size=200"
      ]
    },
    {
      "cell_type": "code",
      "execution_count": null,
      "metadata": {
        "colab": {
          "base_uri": "https://localhost:8080/"
        },
        "id": "Mzd9jt20X0kP",
        "outputId": "cb99757b-136a-408b-8879-903f810bd625"
      },
      "outputs": [
        {
          "name": "stderr",
          "output_type": "stream",
          "text": [
            "WARNING:gensim.models.base_any2vec:under 10 jobs per worker: consider setting a smaller `batch_words' for smoother alpha decay\n"
          ]
        }
      ],
      "source": [
        "from gensim.models import FastText\n",
        "import numpy as np\n",
        "\n",
        "\n",
        "model_ted = FastText([vocabulariores], size=size, window=2, min_count=3, workers=4,sg=1)\n",
        "fastext_train=np.zeros((X_train.shape[0],size))\n",
        "for i in range (X_train.shape[0]):\n",
        "  #aux=np.zeros(100)\n",
        "  fastext_train[i]=model_ted.wv[X_train['Resumido'][i]]\n",
        "\n",
        "\n",
        "fastext_test=np.zeros((X_test.shape[0],size))\n",
        "for i in range (X_test.shape[0]):\n",
        "  #aux=np.zeros(100)\n",
        "  fastext_test[i]=model_ted.wv[X_test['Resumido'][i]]\n",
        "\n",
        "pd.DataFrame(fastext_train).to_csv('/content/drive/MyDrive/Representaciones/Fastext_train_resumen_200.csv')\n",
        "pd.DataFrame(fastext_test).to_csv('/content/drive/MyDrive/Representaciones/Fastext_test_resumen_200.csv')"
      ]
    },
    {
      "cell_type": "markdown",
      "metadata": {
        "id": "vWz-DI2qzHnb"
      },
      "source": [
        "### Bag of Words"
      ]
    },
    {
      "cell_type": "markdown",
      "source": [
        "La mayor diferencia entre las representaciones es que BOW tene vectores \"One'Hot\", es decir unos cuando la opinion cuente con esa palabra y cero si no"
      ],
      "metadata": {
        "id": "3PEyN5sQouSe"
      }
    },
    {
      "cell_type": "code",
      "execution_count": null,
      "metadata": {
        "id": "JUZkeuqr1hjQ"
      },
      "outputs": [],
      "source": [
        "from sklearn.feature_extraction.text import CountVectorizer"
      ]
    },
    {
      "cell_type": "code",
      "execution_count": null,
      "metadata": {
        "id": "Pq5pEJHMMQNA"
      },
      "outputs": [],
      "source": [
        "train_procesado=list(X_train['Procesado'])\n",
        "test_procesado=list(X_test['Procesado'])"
      ]
    },
    {
      "cell_type": "markdown",
      "source": [
        "#### Opiniones originales"
      ],
      "metadata": {
        "id": "StajbQBan4cc"
      }
    },
    {
      "cell_type": "markdown",
      "source": [
        "Representaciones con 200 elementos"
      ],
      "metadata": {
        "id": "xvcy_EDxoA_w"
      }
    },
    {
      "cell_type": "code",
      "execution_count": null,
      "metadata": {
        "id": "pIG2L3feMmwS"
      },
      "outputs": [],
      "source": [
        "vectorizer = CountVectorizer(lowercase=True, ngram_range= (1,1), binary=False, max_features=200)\n",
        "X = vectorizer.fit_transform(train_procesado)\n",
        "bowtr= X.toarray()\n",
        "bow_tr = pd.DataFrame(bowtr,columns=vectorizer.get_feature_names())\n",
        "#Obtengamos las expresiones en BOW para test set\n",
        "X1= vectorizer.fit_transform(test_procesado)\n",
        "bowte = X1.toarray()\n",
        "bow_te = pd.DataFrame(bowte,columns=vectorizer.get_feature_names())"
      ]
    },
    {
      "cell_type": "code",
      "execution_count": null,
      "metadata": {
        "id": "sYa5jogMneYh"
      },
      "outputs": [],
      "source": [
        "bow_tr.to_csv('/content/drive/MyDrive/Representaciones/BOW_train_original_200.csv')\n",
        "bow_te.to_csv('/content/drive/MyDrive/Representaciones/BOW_test_original_200.csv')"
      ]
    },
    {
      "cell_type": "markdown",
      "source": [
        "Representaciones con 500 elementos"
      ],
      "metadata": {
        "id": "pNOcdSEloDfh"
      }
    },
    {
      "cell_type": "code",
      "execution_count": null,
      "metadata": {
        "id": "Y8zUhH0XZW-9"
      },
      "outputs": [],
      "source": [
        "vectorizer = CountVectorizer(lowercase=True, ngram_range= (1,1), binary=False, max_features=500)\n",
        "X = vectorizer.fit_transform(train_procesado)\n",
        "bowtr= X.toarray()\n",
        "bow_tr = pd.DataFrame(bowtr,columns=vectorizer.get_feature_names())\n",
        "#Obtengamos las expresiones en BOW para test set\n",
        "X1= vectorizer.fit_transform(test_procesado)\n",
        "bowte = X1.toarray()\n",
        "bow_te = pd.DataFrame(bowte,columns=vectorizer.get_feature_names())"
      ]
    },
    {
      "cell_type": "code",
      "execution_count": null,
      "metadata": {
        "id": "Ztha4-jCn1Rx"
      },
      "outputs": [],
      "source": [
        "bow_tr.to_csv('/content/drive/MyDrive/Representaciones/BOW_train_original_500.csv')\n",
        "bow_te.to_csv('/content/drive/MyDrive/Representaciones/BOW_test_original_500.csv')"
      ]
    },
    {
      "cell_type": "markdown",
      "source": [
        "#### Opiniones Resumidas"
      ],
      "metadata": {
        "id": "yPEHK4xYpJJ4"
      }
    },
    {
      "cell_type": "code",
      "execution_count": null,
      "metadata": {
        "id": "N6053E3XZo6J"
      },
      "outputs": [],
      "source": [
        "train_resumido=list(X_train['Resumido'])\n",
        "test_resumido=list(X_test['Resumido'])"
      ]
    },
    {
      "cell_type": "markdown",
      "source": [
        "Representaciones con 200 elementos:"
      ],
      "metadata": {
        "id": "u_kN-kfYpOp7"
      }
    },
    {
      "cell_type": "code",
      "execution_count": null,
      "metadata": {
        "colab": {
          "base_uri": "https://localhost:8080/"
        },
        "id": "LvVT4iGgZwqb",
        "outputId": "cd31a301-11a3-42b6-8572-c81edbe6a172"
      },
      "outputs": [
        {
          "name": "stderr",
          "output_type": "stream",
          "text": [
            "/usr/local/lib/python3.7/dist-packages/sklearn/utils/deprecation.py:87: FutureWarning: Function get_feature_names is deprecated; get_feature_names is deprecated in 1.0 and will be removed in 1.2. Please use get_feature_names_out instead.\n",
            "  warnings.warn(msg, category=FutureWarning)\n"
          ]
        }
      ],
      "source": [
        "vectorizer = CountVectorizer(lowercase=True, ngram_range= (1,1), binary=False, max_features=200)\n",
        "X = vectorizer.fit_transform(train_resumido)\n",
        "bowtr= X.toarray()\n",
        "bow_tr = pd.DataFrame(bowtr,columns=vectorizer.get_feature_names())\n",
        "#Obtengamos las expresiones en BOW para test set\n",
        "X1= vectorizer.fit_transform(test_resumido)\n",
        "bowte = X1.toarray()\n",
        "bow_te = pd.DataFrame(bowte,columns=vectorizer.get_feature_names())"
      ]
    },
    {
      "cell_type": "code",
      "execution_count": null,
      "metadata": {
        "id": "cJwTDeqjoFzm"
      },
      "outputs": [],
      "source": [
        "bow_tr.to_csv('/content/drive/MyDrive/Representaciones/BOW_train_resumen_200.csv')\n",
        "bow_te.to_csv('/content/drive/MyDrive/Representaciones/BOW_test_resumen_200.csv')"
      ]
    },
    {
      "cell_type": "markdown",
      "source": [
        "Representaciones con 500 elementos"
      ],
      "metadata": {
        "id": "V2O3pWTxpXBd"
      }
    },
    {
      "cell_type": "code",
      "execution_count": null,
      "metadata": {
        "colab": {
          "base_uri": "https://localhost:8080/"
        },
        "id": "xVLDEIvaZ6Am",
        "outputId": "60bb9de2-5495-43e1-fa41-fd8702a778df"
      },
      "outputs": [
        {
          "name": "stderr",
          "output_type": "stream",
          "text": [
            "/usr/local/lib/python3.7/dist-packages/sklearn/utils/deprecation.py:87: FutureWarning: Function get_feature_names is deprecated; get_feature_names is deprecated in 1.0 and will be removed in 1.2. Please use get_feature_names_out instead.\n",
            "  warnings.warn(msg, category=FutureWarning)\n"
          ]
        }
      ],
      "source": [
        "vectorizer = CountVectorizer(lowercase=True, ngram_range= (1,1), binary=False, max_features=500)\n",
        "X = vectorizer.fit_transform(train_resumido)\n",
        "bowtr= X.toarray()\n",
        "bow_tr = pd.DataFrame(bowtr,columns=vectorizer.get_feature_names())\n",
        "#Obtengamos las expresiones en BOW para test set\n",
        "X1= vectorizer.fit_transform(test_resumido)\n",
        "bowte = X1.toarray()\n",
        "bow_te = pd.DataFrame(bowte,columns=vectorizer.get_feature_names())"
      ]
    },
    {
      "cell_type": "code",
      "execution_count": null,
      "metadata": {
        "id": "J3zED4XsoK57"
      },
      "outputs": [],
      "source": [
        "bow_tr.to_csv('/content/drive/MyDrive/Representaciones/BOW_train_resumen_500.csv')\n",
        "bow_te.to_csv('/content/drive/MyDrive/Representaciones/BOW_test_resumen_500.csv')"
      ]
    },
    {
      "cell_type": "markdown",
      "metadata": {
        "id": "bRxivkbJ12HC"
      },
      "source": [
        "#Optimizacion de hiperparametros:\n"
      ]
    },
    {
      "cell_type": "markdown",
      "source": [
        "Ahora que contamos con toda la información que nos gustaría probar en nuestros modelos, podemos utilizar distintas estrategias quién muestra un mejor desempeño"
      ],
      "metadata": {
        "id": "NeVPjHlrqs0S"
      }
    },
    {
      "cell_type": "markdown",
      "source": [
        "**Carga de datos en caso de ser necesario**"
      ],
      "metadata": {
        "id": "BfxnV9aCs2gq"
      }
    },
    {
      "cell_type": "code",
      "source": [
        "import pandas as pd\n",
        "import numpy as np"
      ],
      "metadata": {
        "id": "5Gz5Ql0byJGm"
      },
      "execution_count": null,
      "outputs": []
    },
    {
      "cell_type": "code",
      "execution_count": null,
      "metadata": {
        "id": "_7Zv1arB_7SZ"
      },
      "outputs": [],
      "source": [
        "X_train_fast100, X_test_fast100=pd.read_csv('/content/drive/MyDrive/Representaciones/Fastext_train_original_100.csv'), pd.read_csv('/content/drive/MyDrive/Representaciones/Fastext_test_original_100.csv')\n",
        "X_train_fast200, X_test_fast200=pd.read_csv('/content/drive/MyDrive/Representaciones/Fastext_train_original_200.csv'), pd.read_csv('/content/drive/MyDrive/Representaciones/Fastext_test_original_200.csv')\n",
        "X_train_BOW200,X_test_BOW200=pd.read_csv('/content/drive/MyDrive/Representaciones/BOW_train_original_200.csv'), pd.read_csv('/content/drive/MyDrive/Representaciones/BOW_test_original_200.csv')\n",
        "X_train_BOW500, X_test_BOW500= pd.read_csv('/content/drive/MyDrive/Representaciones/BOW_train_original_500.csv'), pd.read_csv('/content/drive/MyDrive/Representaciones/BOW_test_original_500.csv')"
      ]
    },
    {
      "cell_type": "code",
      "execution_count": null,
      "metadata": {
        "id": "TCWoiFmWSik6"
      },
      "outputs": [],
      "source": [
        "X_train_fast100, X_test_fast100=pd.read_csv('/content/drive/MyDrive/Representaciones/Fastext_train_resumen_100.csv'), pd.read_csv('/content/drive/MyDrive/Representaciones/Fastext_test_resumen_100.csv')\n",
        "X_train_fast200, X_test_fast200=pd.read_csv('/content/drive/MyDrive/Representaciones/Fastext_train_resumen_200.csv'), pd.read_csv('/content/drive/MyDrive/Representaciones/Fastext_test_resumen_200.csv')\n",
        "X_train_BOW200,X_test_BOW200=pd.read_csv('/content/drive/MyDrive/Representaciones/BOW_train_resumen_200.csv'), pd.read_csv('/content/drive/MyDrive/Representaciones/BOW_test_resumen_200.csv')\n",
        "X_train_BOW500, X_test_BOW500= pd.read_csv('/content/drive/MyDrive/Representaciones/BOW_train_resumen_500.csv'), pd.read_csv('/content/drive/MyDrive/Representaciones/BOW_test_resumen_500.csv')"
      ]
    },
    {
      "cell_type": "code",
      "execution_count": null,
      "metadata": {
        "id": "p_-1z_WrJQas"
      },
      "outputs": [],
      "source": [
        "X_train_aux=pd.read_csv('/content/drive/MyDrive/Train_Completo_Balanceado.csv')\n",
        "X_test_aux=pd.read_csv('/content/drive/MyDrive/Test_Completo.csv')"
      ]
    },
    {
      "cell_type": "code",
      "execution_count": null,
      "metadata": {
        "id": "_UK0dn1oCIxy"
      },
      "outputs": [],
      "source": [
        "Y_train, Y_test= X_train_aux['class'], X_test_aux['class']"
      ]
    },
    {
      "cell_type": "markdown",
      "source": [
        "Funcion auxiliar para la seleccion de características:"
      ],
      "metadata": {
        "id": "ZBxvWyJ0s6uk"
      }
    },
    {
      "cell_type": "code",
      "execution_count": null,
      "metadata": {
        "id": "T6bkR2GG1542"
      },
      "outputs": [],
      "source": [
        "def impurity(P):\n",
        "  if(np.all(P)):\n",
        "    aux=-1 * np.sum(np.log2(P) * P)\n",
        "    return(aux)\n",
        "  #aux=aux+ P[i]*np.log2(P[i])\n",
        "  return(0)"
      ]
    },
    {
      "cell_type": "markdown",
      "source": [
        "*Importamos la libreria que contiene el modulo para optimizacion bayesiana*"
      ],
      "metadata": {
        "id": "WS6wFpEOt_ng"
      }
    },
    {
      "cell_type": "code",
      "execution_count": null,
      "metadata": {
        "id": "JzhmiA_z18iZ"
      },
      "outputs": [],
      "source": [
        "!pip install scikit-optimize"
      ]
    },
    {
      "cell_type": "markdown",
      "source": [
        "**Importamos todas las librerias necesarias para llevar a cabo todos los posibles ajustes de modelo**"
      ],
      "metadata": {
        "id": "YtR53-lSuIDP"
      }
    },
    {
      "cell_type": "code",
      "execution_count": null,
      "metadata": {
        "id": "XyAOL79I2EAr"
      },
      "outputs": [],
      "source": [
        "import skopt\n",
        "import sklearn\n",
        "from skopt import gp_minimize\n",
        "from skopt import space\n",
        "import pandas as pd\n",
        "from numpy.random.mtrand import multinomial\n",
        "#funcion a optimizar\n",
        "import numpy as np\n",
        "from sklearn.decomposition import PCA\n",
        "from sklearn.linear_model import Ridge\n",
        "from sklearn.metrics import mean_squared_error\n",
        "from sklearn.feature_selection import chi2\n",
        "from sklearn.feature_selection import SelectKBest\n",
        "from sklearn.preprocessing import StandardScaler\n",
        "from sklearn.preprocessing import MinMaxScaler\n",
        "from sklearn.preprocessing import StandardScaler\n",
        "from sklearn.svm import SVC\n",
        "from sklearn.neighbors import KNeighborsClassifier\n",
        "from sklearn.naive_bayes import MultinomialNB\n",
        "from sklearn.tree import DecisionTreeClassifier\n",
        "from sklearn.ensemble import RandomForestClassifier"
      ]
    },
    {
      "cell_type": "markdown",
      "source": [
        "*Funcion a mano para la selección de características*"
      ],
      "metadata": {
        "id": "Hr7FdW0DuODS"
      }
    },
    {
      "cell_type": "code",
      "execution_count": null,
      "metadata": {
        "id": "_TyBsVN72JSF"
      },
      "outputs": [],
      "source": [
        "def Information_Selection(X_train, Y_train, k=None):\n",
        "  #Suponemos de forma similar que podemos binarizar todas las clases:\n",
        "  if(k==None):\n",
        "    k=X_train.shape[1]\n",
        "    #Creamos un vector de medias por columna\n",
        "  if isinstance(X_train, pd.DataFrame):\n",
        "    X_train=X_train.to_numpy()\n",
        "  if isinstance(Y_train, pd.Series):\n",
        "    Y_train=Y_train.to_numpy()\n",
        "  #Creamos un vector de medias por columna\n",
        "  medias=X_train.mean(axis=0)\n",
        "  X_new=np.zeros((X_train.shape[0], X_train.shape[1]))\n",
        "  for j in range (X_train.shape[1]):\n",
        "    for i in range(X_train.shape[0]):\n",
        "      if(X_train[i,j]>medias[j]):\n",
        "        X_new[i,j]=1\n",
        "  #return(X_new)\n",
        " #Necestiamos calcular el numero probabilidad de las clases dentro de cada caracteristica\n",
        "  Ganancia=np.zeros(X_new.shape[1])\n",
        "  for j in range(X_train.shape[1]):\n",
        "    ones=[]\n",
        "    zeros=[]\n",
        "    for i in range(X_new.shape[0]):\n",
        "      if(X_new[i,j]==1):\n",
        "        ones.append(i)\n",
        "      if(X_new[i,j]==0):\n",
        "        zeros.append(i)\n",
        "    probsfeat=np.array([len(zeros)/X_new.shape[0],len(ones)/X_new.shape[0]])\n",
        "    #Tomamos las particiones de cada clase para poder hacer los calculos:\n",
        "    X_zero=X_new[zeros,:]\n",
        "    X_ones=X_new[ones,:]\n",
        "    probs0,probs1=np.array([1-np.sum(Y_train)/X_zero.shape[0],np.sum(Y_train)/X_zero.shape[0]]), np.array([1-np.sum(Y_train)/X_ones.shape[0],np.sum(Y_train)/X_ones.shape[0]])\n",
        "    impur=np.array([impurity(probs0), impurity(probs1)])\n",
        "    #Entonces calculemos la ganancia de infomracion, es la diferencia de la impuridad del target feature, menos una inpuridad pesada, entonces:\n",
        "    Ganancia[j]=impurity(probsfeat)-(np.product(probsfeat*impur))\n",
        "  # Getting indices of N = 3 maximum values\n",
        "  x = np.argsort(Ganancia)[::-1][:k]\n",
        "  #print(\"Indices:\",x)\n",
        "\n",
        "  #Regresamos el conjunto final con su caracteristica objetivo:\n",
        "  #print(\"Nuevo conjunto de datos:\")\n",
        "  return(X_train[:,x])"
      ]
    },
    {
      "cell_type": "markdown",
      "source": [
        "## Parametros considerados\n",
        "\n",
        "* Representacion de Fastext o BOW\n",
        "* Dimensiones de la representacion para Fastext\n",
        "* Dimensiones para la representacion para BOW\n",
        "* Técnicas de estandarizacion: Standar Scaler, Min Max Scaler\n",
        "* Técnica de Reducción de dimensiones: PCA o Ganancia de Información\n",
        "* Tamaño de la dimension menor: Entero entre 50 y 60\n",
        "* Algoritmo de clasificación: SVC, KNN, Decision Tree , Random Forest\n",
        "* Conjunto de hiperparámetros que correspondientes al algoritmo\n",
        "\n",
        "\n"
      ],
      "metadata": {
        "id": "u_qTdzxZuXR-"
      }
    },
    {
      "cell_type": "markdown",
      "source": [
        "**Espacio de Búsqueda**"
      ],
      "metadata": {
        "id": "a5E9EJVcvgk8"
      }
    },
    {
      "cell_type": "code",
      "execution_count": null,
      "metadata": {
        "id": "RrelXcvn2LZ3"
      },
      "outputs": [],
      "source": [
        "search_space1 = space.Space([\n",
        "                 #Seleccionamos la representacion:\n",
        "                 space.Integer(1,2, name='Representation'),\n",
        "                 #Ahora para las dimensiones de cada uno de las representaciones\n",
        "                 space.Integer(1,2, name='Fastext Dim'),\n",
        "                 #Para la otra representacion\n",
        "                 space.Integer(1,2, name='BOW Dim'),\n",
        "                 #La primer entrada de los parametros es el metodo de preprocesamient\n",
        "                 space.Categorical(['SD', 'MM'], name=\"Prep\"),\n",
        "                 #Seguido del metodo de reduccion de dimensiones\n",
        "                  space.Categorical(['PCA',  'G'], name=\"Red\"),\n",
        "                 #Fijamos la cantidad de dimensiones de la reduccion\n",
        "                 space.Integer(50,60, name='Dim'),\n",
        "                 #Un parametro que controle el algoritmo a utilizar\n",
        "                  space.Categorical(['SVC', 'KNN', 'DT', 'RF'], name='Alg'),\n",
        "                 #En caso de que el algoritmo sea SVC\n",
        "                 space.Categorical(['linear', 'poly', 'rbf', 'sigmoid'], name='kernel'),\n",
        "                 space.Categorical(['scale', 'auto'], name='gamma'),\n",
        "                 #En caso de que sea KNN\n",
        "                 space.Integer(1,10, name='n_neighbors'),\n",
        "                 space.Categorical(['uniform', 'distance'], name='weights'),\n",
        "                 #en caso de que sea NB\n",
        "                 #En caso de que sea DT\n",
        "                 space.Categorical(['gini', 'entropy'], name='criterion'),\n",
        "                 space.Integer(1,5, name='max_depth'),\n",
        "                 #En caso de que sea Random Forest\n",
        "                 space.Integer(20,40, name='n_estimators')\n",
        "               ])"
      ]
    },
    {
      "cell_type": "markdown",
      "source": [
        "**Función objetivo o Fitness**"
      ],
      "metadata": {
        "id": "HglIZRWnvkzb"
      }
    },
    {
      "cell_type": "code",
      "execution_count": null,
      "metadata": {
        "id": "LCnNRke-2NRO"
      },
      "outputs": [],
      "source": [
        "#arg es un elemento con [preproceso, reduccion, algoritmo, parametros]\n",
        "def objective1(args):\n",
        "  global X_train_fast100, X_test_fast100, X_train_fast200, X_test_fast200, X_train_BOW200,X_test_BOW200, X_train_BOW500, X_test_BOW500, Y_train, Y_test\n",
        "  #Copia porque luego se modifica la original\n",
        "  X_train1, X_test1= np.zeros((10,10)), np.zeros((10,10))\n",
        "  X_train2, X_test2= np.zeros((10,10)), np.zeros((10,10))\n",
        "  Y_train1=Y_train\n",
        "  Y_test1=Y_test\n",
        "  #Guardamos copia para el reducido\n",
        "  #X_train_fast1002, X_test_fast1002, X_train_fast2002, X_test_fast2002, X_train_BOW2002,X_test_BOW2002, X_train_BOW5002, X_test_BOW5002=X_train_fast1001, X_test_fast1001, X_train_fast2001, X_test_fast2001, X_train_BOW2001,X_test_BOW2001, X_train_BOW5001, X_test_BOW5001\n",
        "  #Ahora procedemos a ver si es util o no la reduccion de dimensiones\n",
        "\n",
        "  #Seleccionamos la representacion que se quiera usar:\n",
        "  Rep=args[0]\n",
        "  #Primer argumento para Fastext\n",
        "  Fdim=args[1]\n",
        "  #Segundo argumento para BOW\n",
        "  BOWdim=args[2]\n",
        "  if(Rep==1 & Fdim==1):\n",
        "    X_train1, X_test1= X_train_fast100, X_test_fast100\n",
        "  elif(Rep==1 & Fdim==2):\n",
        "    X_train1, X_test1=X_train_fast200, X_test_fast200\n",
        "  elif(Rep==2 & BOWdim==1):\n",
        "    X_train1,X_test1=X_train_BOW200,X_test_BOW200\n",
        "  else:\n",
        "    X_train1, X_test1=X_train_BOW500, X_test_BOW500\n",
        "\n",
        "  #Asi por fin tendriamos la representacion necesaria segun cada iteracion\n",
        "  Red=args[4]\n",
        "  Dim=args[5]\n",
        "  if(Red=='PCA'):\n",
        "    pca=PCA(svd_solver='auto', n_components=Dim)\n",
        "    pca.fit(X_train1)\n",
        "    X_train2=pca.transform(X_train1)\n",
        "    X_test2=pca.transform(X_test1)\n",
        "    #print('Se hace PCA')\n",
        "    #print(X_train2.shape)\n",
        "    #print(X_test2.shape)\n",
        "  else:\n",
        "    X_train2=Information_Selection(X_train1,Y_train, Dim)\n",
        "    X_test2=Information_Selection(X_test1,Y_test, Dim)\n",
        "    #print('Se hace Inf')\n",
        "    #print(X_train2.shape)\n",
        "    #print(X_test2.shape)\n",
        "  #################################################################3\n",
        "  Prep=args[3]\n",
        "  if(Prep=='SD'):\n",
        "    scalerS = StandardScaler()\n",
        "    X_train2=scalerS.fit_transform(X_train2)\n",
        "    X_test2=scalerS.transform(X_test2)\n",
        "  else:\n",
        "    scaler = MinMaxScaler()\n",
        "    X_train2=scaler.fit_transform(X_train2)\n",
        "    X_test2=scaler.transform(X_test2)\n",
        "  #Ahora podemos pasar a los algoritmos:\n",
        "  alg=args[6]\n",
        "  if(alg=='SVC'):\n",
        "    clfSVC=SVC(kernel=args[7], gamma=args[8])\n",
        "    clfSVC.fit(X_train2, Y_train1)\n",
        "    Y_pred = clfSVC.predict(X_test2)\n",
        "    return mean_squared_error(Y_test, Y_pred)\n",
        "  elif (alg=='KNN'):\n",
        "    clfKNN = KNeighborsClassifier(n_neighbors=args[9], weights=args[10])\n",
        "    clfKNN.fit(X_train2, Y_train1)\n",
        "    Y_pred=clfKNN.predict(X_test2)\n",
        "    return mean_squared_error(Y_test, Y_pred)\n",
        "  elif(alg=='DT'):\n",
        "    clfDT=DecisionTreeClassifier(criterion=args[11], max_depth=args[12])\n",
        "    clfDT.fit(X_train2,Y_train1)\n",
        "    Y_pred=clfDT.predict(X_test2)\n",
        "    return mean_squared_error(Y_test, Y_pred)\n",
        "  else:\n",
        "    clfRF=RandomForestClassifier(n_estimators=args[13], criterion=args[11], max_depth=args[12])\n",
        "    clfRF.fit(X_train2,Y_train1)\n",
        "    Y_pred=clfRF.predict(X_test2)\n",
        "    return mean_squared_error(Y_test, Y_pred)"
      ]
    },
    {
      "cell_type": "markdown",
      "source": [
        "## Opiniones originales"
      ],
      "metadata": {
        "id": "pxboLOJaMcjA"
      }
    },
    {
      "cell_type": "markdown",
      "source": [
        "Hagamos 50 ajustes distintos a través de la optimización bayesiana"
      ],
      "metadata": {
        "id": "_RVlY-r8vzgg"
      }
    },
    {
      "cell_type": "code",
      "source": [
        "res_reg = gp_minimize(objective1, search_space1, n_calls=50, random_state=100, n_jobs=-1)"
      ],
      "metadata": {
        "id": "FKZ4iyUAyhzj"
      },
      "execution_count": null,
      "outputs": []
    },
    {
      "cell_type": "code",
      "source": [
        "best_params = dict(list(zip(['Representation','Fastext Dim', 'BOW Dim',\"Prep\",\"Red\",'Dim','Alg', 'kernel','gamma', 'n_neighbors', 'weights' ,'criterion','max_depth','n_estimators'], res_reg.x)))\n",
        "print(\"Best Parameters : {}\".format(best_params))\n",
        "print(\"Best MSE : {}\".format(res_reg.fun))"
      ],
      "metadata": {
        "colab": {
          "base_uri": "https://localhost:8080/"
        },
        "id": "Q-Z6_y9PyjDq",
        "outputId": "e12d9f79-eaf6-46d1-a976-99adc6d59f93"
      },
      "execution_count": null,
      "outputs": [
        {
          "output_type": "stream",
          "name": "stdout",
          "text": [
            "Best Parameters : {'Representation': 1, 'Fastext Dim': 1, 'BOW Dim': 1, 'Prep': 'MM', 'Red': 'G', 'Dim': 52, 'Alg': 'KNN', 'kernel': 'linear', 'gamma': 'auto', 'n_neighbors': 7, 'weights': 'distance', 'criterion': 'entropy', 'max_depth': 2, 'n_estimators': 37}\n",
            "Best MSE : 0.4518\n"
          ]
        }
      ]
    },
    {
      "cell_type": "markdown",
      "source": [
        "###Resultado\n"
      ],
      "metadata": {
        "id": "4ejPL0kXv8sv"
      }
    },
    {
      "cell_type": "markdown",
      "source": [
        "##Optimizacion Resumen"
      ],
      "metadata": {
        "id": "T1igah2IMaAf"
      }
    },
    {
      "cell_type": "markdown",
      "source": [
        "De forma similar, hacemos un ajuste de 50 distintos modelos:"
      ],
      "metadata": {
        "id": "39W82DRKxA0v"
      }
    },
    {
      "cell_type": "code",
      "execution_count": null,
      "metadata": {
        "id": "MiT3ja-3S8qy"
      },
      "outputs": [],
      "source": [
        "res_reg_res = gp_minimize(objective1, search_space1, n_calls=50, random_state=100, n_jobs=-1)"
      ]
    },
    {
      "cell_type": "code",
      "execution_count": null,
      "metadata": {
        "colab": {
          "base_uri": "https://localhost:8080/"
        },
        "id": "2AV11Sh3S-7X",
        "outputId": "58085fac-1105-4cdf-b949-388aac2ee53a"
      },
      "outputs": [
        {
          "name": "stdout",
          "output_type": "stream",
          "text": [
            "Best Parameters : {'Representation': 2, 'Fastext Dim': 1, 'BOW Dim': 1, 'Prep': 'MM', 'Red': 'G', 'Dim': 60, 'Alg': 'DT', 'kernel': 'rbf', 'gamma': 'scale', 'n_neighbors': 5, 'weights': 'uniform', 'criterion': 'gini', 'max_depth': 4, 'n_estimators': 30}\n",
            "Best MSE : 0.3582\n"
          ]
        }
      ],
      "source": [
        "best_params_res = dict(list(zip(['Representation','Fastext Dim', 'BOW Dim',\"Prep\",\"Red\",'Dim','Alg', 'kernel','gamma', 'n_neighbors', 'weights' ,'criterion','max_depth','n_estimators'], res_reg_res.x)))\n",
        "print(\"Best Parameters : {}\".format(best_params))\n",
        "print(\"Best MSE : {}\".format(res_reg_res.fun))"
      ]
    },
    {
      "cell_type": "markdown",
      "source": [
        "###Resultado:\n",
        "\n",
        "El mejor modelo  fue obtenido a partir de una representacion  BOW de las opiniones originales con 200 atributos  el cual pasó por una etapa de estandarización  y finalmente por una selecición de características con 60 elementos, donde el mejor algoritmo  fue un Decision Tree con un criterio \"gini\" y de profundidad del arbol de 4 capas, alcanzando un MSE de .3904, lo cual es algo elevado."
      ],
      "metadata": {
        "id": "yYFPrnn-xGSm"
      }
    },
    {
      "cell_type": "markdown",
      "source": [
        "#Autosklearn"
      ],
      "metadata": {
        "id": "029sphOoNU9Y"
      }
    },
    {
      "cell_type": "markdown",
      "source": [
        "**Carga de datos**"
      ],
      "metadata": {
        "id": "TCnUxFOjzU3p"
      }
    },
    {
      "cell_type": "code",
      "source": [
        "import pandas as pd\n",
        "import numpy as np"
      ],
      "metadata": {
        "id": "sEV1Z1CZvdZ1"
      },
      "execution_count": null,
      "outputs": []
    },
    {
      "cell_type": "markdown",
      "source": [
        "Representaciones de datos originales"
      ],
      "metadata": {
        "id": "VUf3kSCiziFI"
      }
    },
    {
      "cell_type": "code",
      "execution_count": null,
      "metadata": {
        "id": "8fyO0yopOO8M"
      },
      "outputs": [],
      "source": [
        "X_train_fast100, X_test_fast100=pd.read_csv('/content/drive/MyDrive/Representaciones/Fastext_train_original_100.csv'), pd.read_csv('/content/drive/MyDrive/Representaciones/Fastext_test_original_100.csv')\n",
        "X_train_fast200, X_test_fast200=pd.read_csv('/content/drive/MyDrive/Representaciones/Fastext_train_original_200.csv'), pd.read_csv('/content/drive/MyDrive/Representaciones/Fastext_test_original_200.csv')\n",
        "X_train_BOW200,X_test_BOW200=pd.read_csv('/content/drive/MyDrive/Representaciones/BOW_train_original_200.csv'), pd.read_csv('/content/drive/MyDrive/Representaciones/BOW_test_original_200.csv')\n",
        "X_train_BOW500, X_test_BOW500= pd.read_csv('/content/drive/MyDrive/Representaciones/BOW_train_original_500.csv'), pd.read_csv('/content/drive/MyDrive/Representaciones/BOW_test_original_500.csv')"
      ]
    },
    {
      "cell_type": "markdown",
      "source": [
        "Representaciones de datos resumidas"
      ],
      "metadata": {
        "id": "SZcdu8OKzlIq"
      }
    },
    {
      "cell_type": "code",
      "execution_count": null,
      "metadata": {
        "id": "LWE-K4wrWsT_"
      },
      "outputs": [],
      "source": [
        "X_train_fast100, X_test_fast100=pd.read_csv('/content/drive/MyDrive/Representaciones/Fastext_train_resumen_100.csv'), pd.read_csv('/content/drive/MyDrive/Representaciones/Fastext_test_resumen_100.csv')\n",
        "X_train_fast200, X_test_fast200=pd.read_csv('/content/drive/MyDrive/Representaciones/Fastext_train_resumen_200.csv'), pd.read_csv('/content/drive/MyDrive/Representaciones/Fastext_test_resumen_200.csv')\n",
        "X_train_BOW200,X_test_BOW200=pd.read_csv('/content/drive/MyDrive/Representaciones/BOW_train_resumen_200.csv'), pd.read_csv('/content/drive/MyDrive/Representaciones/BOW_test_resumen_200.csv')\n",
        "X_train_BOW500, X_test_BOW500= pd.read_csv('/content/drive/MyDrive/Representaciones/BOW_train_resumen_500.csv'), pd.read_csv('/content/drive/MyDrive/Representaciones/BOW_test_resumen_500.csv')"
      ]
    },
    {
      "cell_type": "markdown",
      "source": [
        "###Nota:\n",
        "\n",
        "Algo que me pasó es que si las columnas de los datos que se le pasan a Auto-sklearn no tienen nombres del tipo string, suele tronar la ejecución así que le paso algunos nombres manuales del tipo adecuado para que no haya ningún problema."
      ],
      "metadata": {
        "id": "fXz2c_f0zs6B"
      }
    },
    {
      "cell_type": "code",
      "execution_count": null,
      "metadata": {
        "id": "w_D4bkzeOQ4u"
      },
      "outputs": [],
      "source": [
        "X_train_fast100, X_test_fast100=X_train_fast100.drop(columns='Unnamed: 0'), X_test_fast100.drop(columns='Unnamed: 0')\n",
        "names=[]\n",
        "for i in range(X_train_fast100.shape[1]):\n",
        "  names.append('Col'+ str(i))\n",
        "X_train_fast100.columns=names\n",
        "X_test_fast100.columns=names"
      ]
    },
    {
      "cell_type": "code",
      "execution_count": null,
      "metadata": {
        "id": "BV0jOoJRSchP"
      },
      "outputs": [],
      "source": [
        "X_train_fast200, X_test_fast200=X_train_fast200.drop(columns='Unnamed: 0'), X_test_fast200.drop(columns='Unnamed: 0')\n",
        "names=[]\n",
        "for i in range(X_train_fast200.shape[1]):\n",
        "  names.append('Col'+ str(i))\n",
        "X_train_fast200.columns=names\n",
        "X_test_fast200.columns=names"
      ]
    },
    {
      "cell_type": "code",
      "execution_count": null,
      "metadata": {
        "id": "POjylQ9JTSfw"
      },
      "outputs": [],
      "source": [
        "X_train_BOW200, X_test_BOW200=X_train_BOW200.drop(columns='Unnamed: 0'), X_test_BOW200.drop(columns='Unnamed: 0')\n",
        "names=[]\n",
        "for i in range(X_train_BOW200.shape[1]):\n",
        "  names.append('Col'+ str(i))\n",
        "X_train_BOW200.columns=names\n",
        "X_test_BOW200.columns=names"
      ]
    },
    {
      "cell_type": "code",
      "execution_count": null,
      "metadata": {
        "id": "jxyI2zq-UACc"
      },
      "outputs": [],
      "source": [
        "X_train_BOW500, X_test_BOW500=X_train_BOW500.drop(columns='Unnamed: 0'), X_test_BOW500.drop(columns='Unnamed: 0')\n",
        "names=[]\n",
        "for i in range(X_train_BOW500.shape[1]):\n",
        "  names.append('Col'+ str(i))\n",
        "X_train_BOW500.columns=names\n",
        "X_test_BOW500.columns=names"
      ]
    },
    {
      "cell_type": "markdown",
      "source": [
        "Instalacion de las librerias"
      ],
      "metadata": {
        "id": "Wuqv1ZEa0T2F"
      }
    },
    {
      "cell_type": "code",
      "execution_count": null,
      "metadata": {
        "id": "RyXhFR-sJh_G"
      },
      "outputs": [],
      "source": [
        "!pip install auto-sklearn"
      ]
    },
    {
      "cell_type": "markdown",
      "source": [
        "**Cargamos los modulos necesarios para la clasificación y evaluación de los modelos**"
      ],
      "metadata": {
        "id": "DDqqNYW30YLC"
      }
    },
    {
      "cell_type": "code",
      "execution_count": null,
      "metadata": {
        "id": "8VIL-UnTJtRW"
      },
      "outputs": [],
      "source": [
        "import autosklearn.classification"
      ]
    },
    {
      "cell_type": "code",
      "source": [
        "from sklearn.metrics import mean_squared_error"
      ],
      "metadata": {
        "id": "vvZ5g3mFPQLE"
      },
      "execution_count": null,
      "outputs": []
    },
    {
      "cell_type": "markdown",
      "metadata": {
        "id": "k6POrIE-KAzk"
      },
      "source": [
        "##Opiniones  originales"
      ]
    },
    {
      "cell_type": "markdown",
      "source": [
        "#### Fastext"
      ],
      "metadata": {
        "id": "X6VzH-2qvwOM"
      }
    },
    {
      "cell_type": "markdown",
      "source": [
        "Dado que los demas algoritmos tienen aproximadamente 40 minutos para su ejecución, a cada una de las 4 representaciones obtenidas se les da un máximo de 10 minutos para igualar de alguna forma las condiciones."
      ],
      "metadata": {
        "id": "-kbQNaLh2T7J"
      }
    },
    {
      "cell_type": "markdown",
      "source": [
        "Representacion con 100 elementos"
      ],
      "metadata": {
        "id": "PrbELQ2bv1sj"
      }
    },
    {
      "cell_type": "code",
      "source": [
        "cls = autosklearn.classification.AutoSklearnClassifier(time_left_for_this_task=600)\n",
        "cls.fit(X_train_fast100, Y_train)\n",
        "predictions_f100 = cls.predict(X_test_fast100)\n",
        "MSE_f100=mean_squared_error(Y_test, predictions_f100)"
      ],
      "metadata": {
        "colab": {
          "base_uri": "https://localhost:8080/"
        },
        "id": "SUmSrP7uPEaI",
        "outputId": "f205b47a-ceeb-4a86-937d-b3a9a741fb63"
      },
      "execution_count": null,
      "outputs": [
        {
          "output_type": "stream",
          "name": "stdout",
          "text": [
            "[WARNING] [2022-12-04 17:52:21,925:Client-EnsembleBuilder] No runs were available to build an ensemble from\n",
            "[WARNING] [2022-12-04 17:52:25,883:Client-EnsembleBuilder] No runs were available to build an ensemble from\n"
          ]
        }
      ]
    },
    {
      "cell_type": "code",
      "source": [
        "df_cv_results_f100 = pd.DataFrame(cls.cv_results_).sort_values(by = 'mean_test_score', ascending = False)\n",
        "df_cv_results_f100.head()"
      ],
      "metadata": {
        "colab": {
          "base_uri": "https://localhost:8080/",
          "height": 473
        },
        "id": "8d3fvULcPBpT",
        "outputId": "c0e1ca2e-7e4a-4c2f-f378-59bf00e34d36"
      },
      "execution_count": null,
      "outputs": [
        {
          "output_type": "execute_result",
          "data": {
            "text/plain": [
              "    mean_test_score  rank_test_scores  mean_fit_time  \\\n",
              "8          0.644697                 1      29.658320   \n",
              "22         0.617235                 2      42.599408   \n",
              "3          0.598674                 3       3.156713   \n",
              "6          0.589205                 4       7.729792   \n",
              "19         0.588636                 5      21.191660   \n",
              "\n",
              "                                               params   status  budgets  \\\n",
              "8   {'balancing:strategy': 'none', 'classifier:__c...  Success      0.0   \n",
              "22  {'balancing:strategy': 'weighting', 'classifie...  Success      0.0   \n",
              "3   {'balancing:strategy': 'weighting', 'classifie...  Success      0.0   \n",
              "6   {'balancing:strategy': 'none', 'classifier:__c...  Success      0.0   \n",
              "19  {'balancing:strategy': 'weighting', 'classifie...  Success      0.0   \n",
              "\n",
              "   param_balancing:strategy param_classifier:__choice__  \\\n",
              "8                      none                 extra_trees   \n",
              "22                weighting                         mlp   \n",
              "3                 weighting                 gaussian_nb   \n",
              "6                      none           gradient_boosting   \n",
              "19                weighting         k_nearest_neighbors   \n",
              "\n",
              "   param_data_preprocessor:__choice__   param_feature_preprocessor:__choice__  \\\n",
              "8                        feature_type                                fast_ica   \n",
              "22                       feature_type  extra_trees_preproc_for_classification   \n",
              "3                        feature_type                                fast_ica   \n",
              "6                        feature_type                        no_preprocessing   \n",
              "19                       feature_type                                fast_ica   \n",
              "\n",
              "    ...  \\\n",
              "8   ...   \n",
              "22  ...   \n",
              "3   ...   \n",
              "6   ...   \n",
              "19  ...   \n",
              "\n",
              "   param_data_preprocessor:feature_type:numerical_transformer:rescaling:robust_scaler:q_max  \\\n",
              "8                                            0.809985                                         \n",
              "22                                                NaN                                         \n",
              "3                                                 NaN                                         \n",
              "6                                                 NaN                                         \n",
              "19                                                NaN                                         \n",
              "\n",
              "    param_data_preprocessor:feature_type:numerical_transformer:rescaling:robust_scaler:q_min  \\\n",
              "8                                            0.182505                                          \n",
              "22                                                NaN                                          \n",
              "3                                                 NaN                                          \n",
              "6                                                 NaN                                          \n",
              "19                                                NaN                                          \n",
              "\n",
              "    param_feature_preprocessor:fast_ica:n_components  \\\n",
              "8                                                NaN   \n",
              "22                                               NaN   \n",
              "3                                                NaN   \n",
              "6                                                NaN   \n",
              "19                                               NaN   \n",
              "\n",
              "    param_feature_preprocessor:kernel_pca:coef0  \\\n",
              "8                                           NaN   \n",
              "22                                          NaN   \n",
              "3                                           NaN   \n",
              "6                                           NaN   \n",
              "19                                          NaN   \n",
              "\n",
              "    param_feature_preprocessor:kernel_pca:degree  \\\n",
              "8                                            NaN   \n",
              "22                                           NaN   \n",
              "3                                            NaN   \n",
              "6                                            NaN   \n",
              "19                                           NaN   \n",
              "\n",
              "    param_feature_preprocessor:kernel_pca:gamma  \\\n",
              "8                                           NaN   \n",
              "22                                          NaN   \n",
              "3                                           NaN   \n",
              "6                                           NaN   \n",
              "19                                          NaN   \n",
              "\n",
              "    param_feature_preprocessor:nystroem_sampler:coef0  \\\n",
              "8                                                 NaN   \n",
              "22                                                NaN   \n",
              "3                                                 NaN   \n",
              "6                                                 NaN   \n",
              "19                                                NaN   \n",
              "\n",
              "    param_feature_preprocessor:nystroem_sampler:degree  \\\n",
              "8                                                 NaN    \n",
              "22                                                NaN    \n",
              "3                                                 NaN    \n",
              "6                                                 NaN    \n",
              "19                                                NaN    \n",
              "\n",
              "    param_feature_preprocessor:nystroem_sampler:gamma  \\\n",
              "8                                                 NaN   \n",
              "22                                                NaN   \n",
              "3                                                 NaN   \n",
              "6                                                 NaN   \n",
              "19                                                NaN   \n",
              "\n",
              "    param_feature_preprocessor:select_rates_classification:mode  \n",
              "8                                                 NaN            \n",
              "22                                                NaN            \n",
              "3                                                 NaN            \n",
              "6                                                 NaN            \n",
              "19                                                NaN            \n",
              "\n",
              "[5 rows x 171 columns]"
            ],
            "text/html": [
              "\n",
              "  <div id=\"df-6ab59fa7-f1e6-4ac4-9b64-fab5040db1f6\">\n",
              "    <div class=\"colab-df-container\">\n",
              "      <div>\n",
              "<style scoped>\n",
              "    .dataframe tbody tr th:only-of-type {\n",
              "        vertical-align: middle;\n",
              "    }\n",
              "\n",
              "    .dataframe tbody tr th {\n",
              "        vertical-align: top;\n",
              "    }\n",
              "\n",
              "    .dataframe thead th {\n",
              "        text-align: right;\n",
              "    }\n",
              "</style>\n",
              "<table border=\"1\" class=\"dataframe\">\n",
              "  <thead>\n",
              "    <tr style=\"text-align: right;\">\n",
              "      <th></th>\n",
              "      <th>mean_test_score</th>\n",
              "      <th>rank_test_scores</th>\n",
              "      <th>mean_fit_time</th>\n",
              "      <th>params</th>\n",
              "      <th>status</th>\n",
              "      <th>budgets</th>\n",
              "      <th>param_balancing:strategy</th>\n",
              "      <th>param_classifier:__choice__</th>\n",
              "      <th>param_data_preprocessor:__choice__</th>\n",
              "      <th>param_feature_preprocessor:__choice__</th>\n",
              "      <th>...</th>\n",
              "      <th>param_data_preprocessor:feature_type:numerical_transformer:rescaling:robust_scaler:q_max</th>\n",
              "      <th>param_data_preprocessor:feature_type:numerical_transformer:rescaling:robust_scaler:q_min</th>\n",
              "      <th>param_feature_preprocessor:fast_ica:n_components</th>\n",
              "      <th>param_feature_preprocessor:kernel_pca:coef0</th>\n",
              "      <th>param_feature_preprocessor:kernel_pca:degree</th>\n",
              "      <th>param_feature_preprocessor:kernel_pca:gamma</th>\n",
              "      <th>param_feature_preprocessor:nystroem_sampler:coef0</th>\n",
              "      <th>param_feature_preprocessor:nystroem_sampler:degree</th>\n",
              "      <th>param_feature_preprocessor:nystroem_sampler:gamma</th>\n",
              "      <th>param_feature_preprocessor:select_rates_classification:mode</th>\n",
              "    </tr>\n",
              "  </thead>\n",
              "  <tbody>\n",
              "    <tr>\n",
              "      <th>8</th>\n",
              "      <td>0.644697</td>\n",
              "      <td>1</td>\n",
              "      <td>29.658320</td>\n",
              "      <td>{'balancing:strategy': 'none', 'classifier:__c...</td>\n",
              "      <td>Success</td>\n",
              "      <td>0.0</td>\n",
              "      <td>none</td>\n",
              "      <td>extra_trees</td>\n",
              "      <td>feature_type</td>\n",
              "      <td>fast_ica</td>\n",
              "      <td>...</td>\n",
              "      <td>0.809985</td>\n",
              "      <td>0.182505</td>\n",
              "      <td>NaN</td>\n",
              "      <td>NaN</td>\n",
              "      <td>NaN</td>\n",
              "      <td>NaN</td>\n",
              "      <td>NaN</td>\n",
              "      <td>NaN</td>\n",
              "      <td>NaN</td>\n",
              "      <td>NaN</td>\n",
              "    </tr>\n",
              "    <tr>\n",
              "      <th>22</th>\n",
              "      <td>0.617235</td>\n",
              "      <td>2</td>\n",
              "      <td>42.599408</td>\n",
              "      <td>{'balancing:strategy': 'weighting', 'classifie...</td>\n",
              "      <td>Success</td>\n",
              "      <td>0.0</td>\n",
              "      <td>weighting</td>\n",
              "      <td>mlp</td>\n",
              "      <td>feature_type</td>\n",
              "      <td>extra_trees_preproc_for_classification</td>\n",
              "      <td>...</td>\n",
              "      <td>NaN</td>\n",
              "      <td>NaN</td>\n",
              "      <td>NaN</td>\n",
              "      <td>NaN</td>\n",
              "      <td>NaN</td>\n",
              "      <td>NaN</td>\n",
              "      <td>NaN</td>\n",
              "      <td>NaN</td>\n",
              "      <td>NaN</td>\n",
              "      <td>NaN</td>\n",
              "    </tr>\n",
              "    <tr>\n",
              "      <th>3</th>\n",
              "      <td>0.598674</td>\n",
              "      <td>3</td>\n",
              "      <td>3.156713</td>\n",
              "      <td>{'balancing:strategy': 'weighting', 'classifie...</td>\n",
              "      <td>Success</td>\n",
              "      <td>0.0</td>\n",
              "      <td>weighting</td>\n",
              "      <td>gaussian_nb</td>\n",
              "      <td>feature_type</td>\n",
              "      <td>fast_ica</td>\n",
              "      <td>...</td>\n",
              "      <td>NaN</td>\n",
              "      <td>NaN</td>\n",
              "      <td>NaN</td>\n",
              "      <td>NaN</td>\n",
              "      <td>NaN</td>\n",
              "      <td>NaN</td>\n",
              "      <td>NaN</td>\n",
              "      <td>NaN</td>\n",
              "      <td>NaN</td>\n",
              "      <td>NaN</td>\n",
              "    </tr>\n",
              "    <tr>\n",
              "      <th>6</th>\n",
              "      <td>0.589205</td>\n",
              "      <td>4</td>\n",
              "      <td>7.729792</td>\n",
              "      <td>{'balancing:strategy': 'none', 'classifier:__c...</td>\n",
              "      <td>Success</td>\n",
              "      <td>0.0</td>\n",
              "      <td>none</td>\n",
              "      <td>gradient_boosting</td>\n",
              "      <td>feature_type</td>\n",
              "      <td>no_preprocessing</td>\n",
              "      <td>...</td>\n",
              "      <td>NaN</td>\n",
              "      <td>NaN</td>\n",
              "      <td>NaN</td>\n",
              "      <td>NaN</td>\n",
              "      <td>NaN</td>\n",
              "      <td>NaN</td>\n",
              "      <td>NaN</td>\n",
              "      <td>NaN</td>\n",
              "      <td>NaN</td>\n",
              "      <td>NaN</td>\n",
              "    </tr>\n",
              "    <tr>\n",
              "      <th>19</th>\n",
              "      <td>0.588636</td>\n",
              "      <td>5</td>\n",
              "      <td>21.191660</td>\n",
              "      <td>{'balancing:strategy': 'weighting', 'classifie...</td>\n",
              "      <td>Success</td>\n",
              "      <td>0.0</td>\n",
              "      <td>weighting</td>\n",
              "      <td>k_nearest_neighbors</td>\n",
              "      <td>feature_type</td>\n",
              "      <td>fast_ica</td>\n",
              "      <td>...</td>\n",
              "      <td>NaN</td>\n",
              "      <td>NaN</td>\n",
              "      <td>NaN</td>\n",
              "      <td>NaN</td>\n",
              "      <td>NaN</td>\n",
              "      <td>NaN</td>\n",
              "      <td>NaN</td>\n",
              "      <td>NaN</td>\n",
              "      <td>NaN</td>\n",
              "      <td>NaN</td>\n",
              "    </tr>\n",
              "  </tbody>\n",
              "</table>\n",
              "<p>5 rows × 171 columns</p>\n",
              "</div>\n",
              "      <button class=\"colab-df-convert\" onclick=\"convertToInteractive('df-6ab59fa7-f1e6-4ac4-9b64-fab5040db1f6')\"\n",
              "              title=\"Convert this dataframe to an interactive table.\"\n",
              "              style=\"display:none;\">\n",
              "        \n",
              "  <svg xmlns=\"http://www.w3.org/2000/svg\" height=\"24px\"viewBox=\"0 0 24 24\"\n",
              "       width=\"24px\">\n",
              "    <path d=\"M0 0h24v24H0V0z\" fill=\"none\"/>\n",
              "    <path d=\"M18.56 5.44l.94 2.06.94-2.06 2.06-.94-2.06-.94-.94-2.06-.94 2.06-2.06.94zm-11 1L8.5 8.5l.94-2.06 2.06-.94-2.06-.94L8.5 2.5l-.94 2.06-2.06.94zm10 10l.94 2.06.94-2.06 2.06-.94-2.06-.94-.94-2.06-.94 2.06-2.06.94z\"/><path d=\"M17.41 7.96l-1.37-1.37c-.4-.4-.92-.59-1.43-.59-.52 0-1.04.2-1.43.59L10.3 9.45l-7.72 7.72c-.78.78-.78 2.05 0 2.83L4 21.41c.39.39.9.59 1.41.59.51 0 1.02-.2 1.41-.59l7.78-7.78 2.81-2.81c.8-.78.8-2.07 0-2.86zM5.41 20L4 18.59l7.72-7.72 1.47 1.35L5.41 20z\"/>\n",
              "  </svg>\n",
              "      </button>\n",
              "      \n",
              "  <style>\n",
              "    .colab-df-container {\n",
              "      display:flex;\n",
              "      flex-wrap:wrap;\n",
              "      gap: 12px;\n",
              "    }\n",
              "\n",
              "    .colab-df-convert {\n",
              "      background-color: #E8F0FE;\n",
              "      border: none;\n",
              "      border-radius: 50%;\n",
              "      cursor: pointer;\n",
              "      display: none;\n",
              "      fill: #1967D2;\n",
              "      height: 32px;\n",
              "      padding: 0 0 0 0;\n",
              "      width: 32px;\n",
              "    }\n",
              "\n",
              "    .colab-df-convert:hover {\n",
              "      background-color: #E2EBFA;\n",
              "      box-shadow: 0px 1px 2px rgba(60, 64, 67, 0.3), 0px 1px 3px 1px rgba(60, 64, 67, 0.15);\n",
              "      fill: #174EA6;\n",
              "    }\n",
              "\n",
              "    [theme=dark] .colab-df-convert {\n",
              "      background-color: #3B4455;\n",
              "      fill: #D2E3FC;\n",
              "    }\n",
              "\n",
              "    [theme=dark] .colab-df-convert:hover {\n",
              "      background-color: #434B5C;\n",
              "      box-shadow: 0px 1px 3px 1px rgba(0, 0, 0, 0.15);\n",
              "      filter: drop-shadow(0px 1px 2px rgba(0, 0, 0, 0.3));\n",
              "      fill: #FFFFFF;\n",
              "    }\n",
              "  </style>\n",
              "\n",
              "      <script>\n",
              "        const buttonEl =\n",
              "          document.querySelector('#df-6ab59fa7-f1e6-4ac4-9b64-fab5040db1f6 button.colab-df-convert');\n",
              "        buttonEl.style.display =\n",
              "          google.colab.kernel.accessAllowed ? 'block' : 'none';\n",
              "\n",
              "        async function convertToInteractive(key) {\n",
              "          const element = document.querySelector('#df-6ab59fa7-f1e6-4ac4-9b64-fab5040db1f6');\n",
              "          const dataTable =\n",
              "            await google.colab.kernel.invokeFunction('convertToInteractive',\n",
              "                                                     [key], {});\n",
              "          if (!dataTable) return;\n",
              "\n",
              "          const docLinkHtml = 'Like what you see? Visit the ' +\n",
              "            '<a target=\"_blank\" href=https://colab.research.google.com/notebooks/data_table.ipynb>data table notebook</a>'\n",
              "            + ' to learn more about interactive tables.';\n",
              "          element.innerHTML = '';\n",
              "          dataTable['output_type'] = 'display_data';\n",
              "          await google.colab.output.renderOutput(dataTable, element);\n",
              "          const docLink = document.createElement('div');\n",
              "          docLink.innerHTML = docLinkHtml;\n",
              "          element.appendChild(docLink);\n",
              "        }\n",
              "      </script>\n",
              "    </div>\n",
              "  </div>\n",
              "  "
            ]
          },
          "metadata": {},
          "execution_count": 27
        }
      ]
    },
    {
      "cell_type": "markdown",
      "source": [
        "Observe que el mejor modelo fue obtenido mediante \"Extra trees\" el cual es un modelo que ajusta distintos arboles de decision aleatorios, no hay mucha información solo que los datos pasaron por un método de elección de atributos ICA la cual es un algoritmo rapido para componentes independientes... Alcanzando un Accuracy maximo de .64 (equivalente a un MSE de .36)"
      ],
      "metadata": {
        "id": "yhxnMWBQ41Yb"
      }
    },
    {
      "cell_type": "markdown",
      "source": [
        "Representacion con 200 elementos"
      ],
      "metadata": {
        "id": "H_IVDhh3v5Vw"
      }
    },
    {
      "cell_type": "code",
      "source": [
        "cls = autosklearn.classification.AutoSklearnClassifier(time_left_for_this_task=600)\n",
        "cls.fit(X_train_fast200, Y_train)\n",
        "predictions_f200 = cls.predict(X_test_fast200)\n",
        "MSE_f200=mean_squared_error(Y_test, predictions_f200)"
      ],
      "metadata": {
        "colab": {
          "base_uri": "https://localhost:8080/"
        },
        "id": "8NKBxL7cPoBX",
        "outputId": "c18b7f1f-a7fb-408e-e408-db101f3c7062"
      },
      "execution_count": null,
      "outputs": [
        {
          "output_type": "stream",
          "name": "stdout",
          "text": [
            "[WARNING] [2022-12-04 18:03:35,120:Client-EnsembleBuilder] No runs were available to build an ensemble from\n",
            "[WARNING] [2022-12-04 18:03:39,072:Client-EnsembleBuilder] No runs were available to build an ensemble from\n"
          ]
        }
      ]
    },
    {
      "cell_type": "code",
      "source": [
        "df_cv_results_f200 = pd.DataFrame(cls.cv_results_).sort_values(by = 'mean_test_score', ascending = False)\n",
        "df_cv_results_f200.head()"
      ],
      "metadata": {
        "colab": {
          "base_uri": "https://localhost:8080/",
          "height": 473
        },
        "id": "VEghuwjGPu4M",
        "outputId": "f0f47854-9721-4bc1-fa65-ef2a367f1873"
      },
      "execution_count": null,
      "outputs": [
        {
          "output_type": "execute_result",
          "data": {
            "text/plain": [
              "    mean_test_score  rank_test_scores  mean_fit_time  \\\n",
              "17         0.600189                 1      43.674448   \n",
              "16         0.597159                 2      56.044120   \n",
              "18         0.594886                 3       2.341676   \n",
              "3          0.568371                 4       6.873412   \n",
              "8          0.560038                 5      13.699536   \n",
              "\n",
              "                                               params   status  budgets  \\\n",
              "17  {'balancing:strategy': 'weighting', 'classifie...  Success      0.0   \n",
              "16  {'balancing:strategy': 'weighting', 'classifie...  Success      0.0   \n",
              "18  {'balancing:strategy': 'weighting', 'classifie...  Success      0.0   \n",
              "3   {'balancing:strategy': 'weighting', 'classifie...  Success      0.0   \n",
              "8   {'balancing:strategy': 'weighting', 'classifie...  Success      0.0   \n",
              "\n",
              "   param_balancing:strategy param_classifier:__choice__  \\\n",
              "17                weighting                         mlp   \n",
              "16                weighting         k_nearest_neighbors   \n",
              "18                weighting          passive_aggressive   \n",
              "3                 weighting                 gaussian_nb   \n",
              "8                 weighting                         mlp   \n",
              "\n",
              "   param_data_preprocessor:__choice__   param_feature_preprocessor:__choice__  \\\n",
              "17                       feature_type  extra_trees_preproc_for_classification   \n",
              "16                       feature_type                                fast_ica   \n",
              "18                       feature_type                           kitchen_sinks   \n",
              "3                        feature_type                                fast_ica   \n",
              "8                        feature_type                   feature_agglomeration   \n",
              "\n",
              "    ...  \\\n",
              "17  ...   \n",
              "16  ...   \n",
              "18  ...   \n",
              "3   ...   \n",
              "8   ...   \n",
              "\n",
              "   param_data_preprocessor:feature_type:numerical_transformer:rescaling:robust_scaler:q_max  \\\n",
              "17                                                NaN                                         \n",
              "16                                                NaN                                         \n",
              "18                                           0.920145                                         \n",
              "3                                                 NaN                                         \n",
              "8                                                 NaN                                         \n",
              "\n",
              "    param_data_preprocessor:feature_type:numerical_transformer:rescaling:robust_scaler:q_min  \\\n",
              "17                                                NaN                                          \n",
              "16                                                NaN                                          \n",
              "18                                           0.011024                                          \n",
              "3                                                 NaN                                          \n",
              "8                                                 NaN                                          \n",
              "\n",
              "    param_feature_preprocessor:fast_ica:n_components  \\\n",
              "17                                               NaN   \n",
              "16                                               NaN   \n",
              "18                                               NaN   \n",
              "3                                                NaN   \n",
              "8                                                NaN   \n",
              "\n",
              "    param_feature_preprocessor:kernel_pca:coef0  \\\n",
              "17                                          NaN   \n",
              "16                                          NaN   \n",
              "18                                          NaN   \n",
              "3                                           NaN   \n",
              "8                                           NaN   \n",
              "\n",
              "    param_feature_preprocessor:kernel_pca:degree  \\\n",
              "17                                           NaN   \n",
              "16                                           NaN   \n",
              "18                                           NaN   \n",
              "3                                            NaN   \n",
              "8                                            NaN   \n",
              "\n",
              "    param_feature_preprocessor:kernel_pca:gamma  \\\n",
              "17                                          NaN   \n",
              "16                                          NaN   \n",
              "18                                          NaN   \n",
              "3                                           NaN   \n",
              "8                                           NaN   \n",
              "\n",
              "    param_feature_preprocessor:nystroem_sampler:coef0  \\\n",
              "17                                                NaN   \n",
              "16                                                NaN   \n",
              "18                                                NaN   \n",
              "3                                                 NaN   \n",
              "8                                                 NaN   \n",
              "\n",
              "    param_feature_preprocessor:nystroem_sampler:degree  \\\n",
              "17                                                NaN    \n",
              "16                                                NaN    \n",
              "18                                                NaN    \n",
              "3                                                 NaN    \n",
              "8                                                 NaN    \n",
              "\n",
              "    param_feature_preprocessor:nystroem_sampler:gamma  \\\n",
              "17                                                NaN   \n",
              "16                                                NaN   \n",
              "18                                                NaN   \n",
              "3                                                 NaN   \n",
              "8                                                 NaN   \n",
              "\n",
              "    param_feature_preprocessor:select_rates_classification:mode  \n",
              "17                                                NaN            \n",
              "16                                                NaN            \n",
              "18                                                NaN            \n",
              "3                                                 NaN            \n",
              "8                                                 NaN            \n",
              "\n",
              "[5 rows x 171 columns]"
            ],
            "text/html": [
              "\n",
              "  <div id=\"df-94051057-4417-477f-ba20-6d0744657235\">\n",
              "    <div class=\"colab-df-container\">\n",
              "      <div>\n",
              "<style scoped>\n",
              "    .dataframe tbody tr th:only-of-type {\n",
              "        vertical-align: middle;\n",
              "    }\n",
              "\n",
              "    .dataframe tbody tr th {\n",
              "        vertical-align: top;\n",
              "    }\n",
              "\n",
              "    .dataframe thead th {\n",
              "        text-align: right;\n",
              "    }\n",
              "</style>\n",
              "<table border=\"1\" class=\"dataframe\">\n",
              "  <thead>\n",
              "    <tr style=\"text-align: right;\">\n",
              "      <th></th>\n",
              "      <th>mean_test_score</th>\n",
              "      <th>rank_test_scores</th>\n",
              "      <th>mean_fit_time</th>\n",
              "      <th>params</th>\n",
              "      <th>status</th>\n",
              "      <th>budgets</th>\n",
              "      <th>param_balancing:strategy</th>\n",
              "      <th>param_classifier:__choice__</th>\n",
              "      <th>param_data_preprocessor:__choice__</th>\n",
              "      <th>param_feature_preprocessor:__choice__</th>\n",
              "      <th>...</th>\n",
              "      <th>param_data_preprocessor:feature_type:numerical_transformer:rescaling:robust_scaler:q_max</th>\n",
              "      <th>param_data_preprocessor:feature_type:numerical_transformer:rescaling:robust_scaler:q_min</th>\n",
              "      <th>param_feature_preprocessor:fast_ica:n_components</th>\n",
              "      <th>param_feature_preprocessor:kernel_pca:coef0</th>\n",
              "      <th>param_feature_preprocessor:kernel_pca:degree</th>\n",
              "      <th>param_feature_preprocessor:kernel_pca:gamma</th>\n",
              "      <th>param_feature_preprocessor:nystroem_sampler:coef0</th>\n",
              "      <th>param_feature_preprocessor:nystroem_sampler:degree</th>\n",
              "      <th>param_feature_preprocessor:nystroem_sampler:gamma</th>\n",
              "      <th>param_feature_preprocessor:select_rates_classification:mode</th>\n",
              "    </tr>\n",
              "  </thead>\n",
              "  <tbody>\n",
              "    <tr>\n",
              "      <th>17</th>\n",
              "      <td>0.600189</td>\n",
              "      <td>1</td>\n",
              "      <td>43.674448</td>\n",
              "      <td>{'balancing:strategy': 'weighting', 'classifie...</td>\n",
              "      <td>Success</td>\n",
              "      <td>0.0</td>\n",
              "      <td>weighting</td>\n",
              "      <td>mlp</td>\n",
              "      <td>feature_type</td>\n",
              "      <td>extra_trees_preproc_for_classification</td>\n",
              "      <td>...</td>\n",
              "      <td>NaN</td>\n",
              "      <td>NaN</td>\n",
              "      <td>NaN</td>\n",
              "      <td>NaN</td>\n",
              "      <td>NaN</td>\n",
              "      <td>NaN</td>\n",
              "      <td>NaN</td>\n",
              "      <td>NaN</td>\n",
              "      <td>NaN</td>\n",
              "      <td>NaN</td>\n",
              "    </tr>\n",
              "    <tr>\n",
              "      <th>16</th>\n",
              "      <td>0.597159</td>\n",
              "      <td>2</td>\n",
              "      <td>56.044120</td>\n",
              "      <td>{'balancing:strategy': 'weighting', 'classifie...</td>\n",
              "      <td>Success</td>\n",
              "      <td>0.0</td>\n",
              "      <td>weighting</td>\n",
              "      <td>k_nearest_neighbors</td>\n",
              "      <td>feature_type</td>\n",
              "      <td>fast_ica</td>\n",
              "      <td>...</td>\n",
              "      <td>NaN</td>\n",
              "      <td>NaN</td>\n",
              "      <td>NaN</td>\n",
              "      <td>NaN</td>\n",
              "      <td>NaN</td>\n",
              "      <td>NaN</td>\n",
              "      <td>NaN</td>\n",
              "      <td>NaN</td>\n",
              "      <td>NaN</td>\n",
              "      <td>NaN</td>\n",
              "    </tr>\n",
              "    <tr>\n",
              "      <th>18</th>\n",
              "      <td>0.594886</td>\n",
              "      <td>3</td>\n",
              "      <td>2.341676</td>\n",
              "      <td>{'balancing:strategy': 'weighting', 'classifie...</td>\n",
              "      <td>Success</td>\n",
              "      <td>0.0</td>\n",
              "      <td>weighting</td>\n",
              "      <td>passive_aggressive</td>\n",
              "      <td>feature_type</td>\n",
              "      <td>kitchen_sinks</td>\n",
              "      <td>...</td>\n",
              "      <td>0.920145</td>\n",
              "      <td>0.011024</td>\n",
              "      <td>NaN</td>\n",
              "      <td>NaN</td>\n",
              "      <td>NaN</td>\n",
              "      <td>NaN</td>\n",
              "      <td>NaN</td>\n",
              "      <td>NaN</td>\n",
              "      <td>NaN</td>\n",
              "      <td>NaN</td>\n",
              "    </tr>\n",
              "    <tr>\n",
              "      <th>3</th>\n",
              "      <td>0.568371</td>\n",
              "      <td>4</td>\n",
              "      <td>6.873412</td>\n",
              "      <td>{'balancing:strategy': 'weighting', 'classifie...</td>\n",
              "      <td>Success</td>\n",
              "      <td>0.0</td>\n",
              "      <td>weighting</td>\n",
              "      <td>gaussian_nb</td>\n",
              "      <td>feature_type</td>\n",
              "      <td>fast_ica</td>\n",
              "      <td>...</td>\n",
              "      <td>NaN</td>\n",
              "      <td>NaN</td>\n",
              "      <td>NaN</td>\n",
              "      <td>NaN</td>\n",
              "      <td>NaN</td>\n",
              "      <td>NaN</td>\n",
              "      <td>NaN</td>\n",
              "      <td>NaN</td>\n",
              "      <td>NaN</td>\n",
              "      <td>NaN</td>\n",
              "    </tr>\n",
              "    <tr>\n",
              "      <th>8</th>\n",
              "      <td>0.560038</td>\n",
              "      <td>5</td>\n",
              "      <td>13.699536</td>\n",
              "      <td>{'balancing:strategy': 'weighting', 'classifie...</td>\n",
              "      <td>Success</td>\n",
              "      <td>0.0</td>\n",
              "      <td>weighting</td>\n",
              "      <td>mlp</td>\n",
              "      <td>feature_type</td>\n",
              "      <td>feature_agglomeration</td>\n",
              "      <td>...</td>\n",
              "      <td>NaN</td>\n",
              "      <td>NaN</td>\n",
              "      <td>NaN</td>\n",
              "      <td>NaN</td>\n",
              "      <td>NaN</td>\n",
              "      <td>NaN</td>\n",
              "      <td>NaN</td>\n",
              "      <td>NaN</td>\n",
              "      <td>NaN</td>\n",
              "      <td>NaN</td>\n",
              "    </tr>\n",
              "  </tbody>\n",
              "</table>\n",
              "<p>5 rows × 171 columns</p>\n",
              "</div>\n",
              "      <button class=\"colab-df-convert\" onclick=\"convertToInteractive('df-94051057-4417-477f-ba20-6d0744657235')\"\n",
              "              title=\"Convert this dataframe to an interactive table.\"\n",
              "              style=\"display:none;\">\n",
              "        \n",
              "  <svg xmlns=\"http://www.w3.org/2000/svg\" height=\"24px\"viewBox=\"0 0 24 24\"\n",
              "       width=\"24px\">\n",
              "    <path d=\"M0 0h24v24H0V0z\" fill=\"none\"/>\n",
              "    <path d=\"M18.56 5.44l.94 2.06.94-2.06 2.06-.94-2.06-.94-.94-2.06-.94 2.06-2.06.94zm-11 1L8.5 8.5l.94-2.06 2.06-.94-2.06-.94L8.5 2.5l-.94 2.06-2.06.94zm10 10l.94 2.06.94-2.06 2.06-.94-2.06-.94-.94-2.06-.94 2.06-2.06.94z\"/><path d=\"M17.41 7.96l-1.37-1.37c-.4-.4-.92-.59-1.43-.59-.52 0-1.04.2-1.43.59L10.3 9.45l-7.72 7.72c-.78.78-.78 2.05 0 2.83L4 21.41c.39.39.9.59 1.41.59.51 0 1.02-.2 1.41-.59l7.78-7.78 2.81-2.81c.8-.78.8-2.07 0-2.86zM5.41 20L4 18.59l7.72-7.72 1.47 1.35L5.41 20z\"/>\n",
              "  </svg>\n",
              "      </button>\n",
              "      \n",
              "  <style>\n",
              "    .colab-df-container {\n",
              "      display:flex;\n",
              "      flex-wrap:wrap;\n",
              "      gap: 12px;\n",
              "    }\n",
              "\n",
              "    .colab-df-convert {\n",
              "      background-color: #E8F0FE;\n",
              "      border: none;\n",
              "      border-radius: 50%;\n",
              "      cursor: pointer;\n",
              "      display: none;\n",
              "      fill: #1967D2;\n",
              "      height: 32px;\n",
              "      padding: 0 0 0 0;\n",
              "      width: 32px;\n",
              "    }\n",
              "\n",
              "    .colab-df-convert:hover {\n",
              "      background-color: #E2EBFA;\n",
              "      box-shadow: 0px 1px 2px rgba(60, 64, 67, 0.3), 0px 1px 3px 1px rgba(60, 64, 67, 0.15);\n",
              "      fill: #174EA6;\n",
              "    }\n",
              "\n",
              "    [theme=dark] .colab-df-convert {\n",
              "      background-color: #3B4455;\n",
              "      fill: #D2E3FC;\n",
              "    }\n",
              "\n",
              "    [theme=dark] .colab-df-convert:hover {\n",
              "      background-color: #434B5C;\n",
              "      box-shadow: 0px 1px 3px 1px rgba(0, 0, 0, 0.15);\n",
              "      filter: drop-shadow(0px 1px 2px rgba(0, 0, 0, 0.3));\n",
              "      fill: #FFFFFF;\n",
              "    }\n",
              "  </style>\n",
              "\n",
              "      <script>\n",
              "        const buttonEl =\n",
              "          document.querySelector('#df-94051057-4417-477f-ba20-6d0744657235 button.colab-df-convert');\n",
              "        buttonEl.style.display =\n",
              "          google.colab.kernel.accessAllowed ? 'block' : 'none';\n",
              "\n",
              "        async function convertToInteractive(key) {\n",
              "          const element = document.querySelector('#df-94051057-4417-477f-ba20-6d0744657235');\n",
              "          const dataTable =\n",
              "            await google.colab.kernel.invokeFunction('convertToInteractive',\n",
              "                                                     [key], {});\n",
              "          if (!dataTable) return;\n",
              "\n",
              "          const docLinkHtml = 'Like what you see? Visit the ' +\n",
              "            '<a target=\"_blank\" href=https://colab.research.google.com/notebooks/data_table.ipynb>data table notebook</a>'\n",
              "            + ' to learn more about interactive tables.';\n",
              "          element.innerHTML = '';\n",
              "          dataTable['output_type'] = 'display_data';\n",
              "          await google.colab.output.renderOutput(dataTable, element);\n",
              "          const docLink = document.createElement('div');\n",
              "          docLink.innerHTML = docLinkHtml;\n",
              "          element.appendChild(docLink);\n",
              "        }\n",
              "      </script>\n",
              "    </div>\n",
              "  </div>\n",
              "  "
            ]
          },
          "metadata": {},
          "execution_count": 30
        }
      ]
    },
    {
      "cell_type": "markdown",
      "source": [
        "El mejor algoritmo fue un clasificador basado en perceptrones multi capa, el preprocesó los datos con el método que usualmente se le aplica a los métodos de \"extra trees\" alcanzando un Accuracy máximo de .60 (equivalente a MSE de .40)"
      ],
      "metadata": {
        "id": "8Nad3kaf6D0K"
      }
    },
    {
      "cell_type": "markdown",
      "source": [
        "####BOW"
      ],
      "metadata": {
        "id": "WEj2NiSwwD7w"
      }
    },
    {
      "cell_type": "markdown",
      "source": [
        "Representación con 200 elementos"
      ],
      "metadata": {
        "id": "Frm5yySbv_sE"
      }
    },
    {
      "cell_type": "code",
      "source": [
        "cls = autosklearn.classification.AutoSklearnClassifier(time_left_for_this_task=600)\n",
        "cls.fit(X_train_BOW200, Y_train)\n",
        "predictions_b200 = cls.predict(X_test_BOW200)\n",
        "MSE_BOW200=mean_squared_error(Y_test,predictions_b200)"
      ],
      "metadata": {
        "id": "LH50_eYUP3WP"
      },
      "execution_count": null,
      "outputs": []
    },
    {
      "cell_type": "code",
      "source": [
        "df_cv_results_b200 = pd.DataFrame(cls.cv_results_).sort_values(by = 'mean_test_score', ascending = False)\n",
        "df_cv_results_b200.head()"
      ],
      "metadata": {
        "colab": {
          "base_uri": "https://localhost:8080/",
          "height": 473
        },
        "id": "_bzo5K8nQC0k",
        "outputId": "03a5fac2-e94c-488a-fc15-fb9851738226"
      },
      "execution_count": null,
      "outputs": [
        {
          "output_type": "execute_result",
          "data": {
            "text/plain": [
              "    mean_test_score  rank_test_scores  mean_fit_time  \\\n",
              "0          0.755492                 1      24.130954   \n",
              "12         0.742045                 2       2.613879   \n",
              "18         0.729735                 3      35.174633   \n",
              "11         0.721780                 4      25.795823   \n",
              "9          0.711742                 5      41.774668   \n",
              "\n",
              "                                               params   status  budgets  \\\n",
              "0   {'balancing:strategy': 'none', 'classifier:__c...  Success      0.0   \n",
              "12  {'balancing:strategy': 'weighting', 'classifie...  Success      0.0   \n",
              "18  {'balancing:strategy': 'weighting', 'classifie...  Success      0.0   \n",
              "11  {'balancing:strategy': 'weighting', 'classifie...  Success      0.0   \n",
              "9   {'balancing:strategy': 'weighting', 'classifie...  Success      0.0   \n",
              "\n",
              "   param_balancing:strategy param_classifier:__choice__  \\\n",
              "0                      none               random_forest   \n",
              "12                weighting                         lda   \n",
              "18                weighting               random_forest   \n",
              "11                weighting                         mlp   \n",
              "9                 weighting               random_forest   \n",
              "\n",
              "   param_data_preprocessor:__choice__   param_feature_preprocessor:__choice__  \\\n",
              "0                        feature_type                        no_preprocessing   \n",
              "12                       feature_type              liblinear_svc_preprocessor   \n",
              "18                       feature_type  extra_trees_preproc_for_classification   \n",
              "11                       feature_type  extra_trees_preproc_for_classification   \n",
              "9                        feature_type  extra_trees_preproc_for_classification   \n",
              "\n",
              "    ...  \\\n",
              "0   ...   \n",
              "12  ...   \n",
              "18  ...   \n",
              "11  ...   \n",
              "9   ...   \n",
              "\n",
              "   param_data_preprocessor:feature_type:numerical_transformer:rescaling:robust_scaler:q_max  \\\n",
              "0                                                 NaN                                         \n",
              "12                                                NaN                                         \n",
              "18                                                NaN                                         \n",
              "11                                                NaN                                         \n",
              "9                                            0.799474                                         \n",
              "\n",
              "    param_data_preprocessor:feature_type:numerical_transformer:rescaling:robust_scaler:q_min  \\\n",
              "0                                                 NaN                                          \n",
              "12                                                NaN                                          \n",
              "18                                                NaN                                          \n",
              "11                                                NaN                                          \n",
              "9                                             0.02564                                          \n",
              "\n",
              "    param_feature_preprocessor:fast_ica:n_components  \\\n",
              "0                                                NaN   \n",
              "12                                               NaN   \n",
              "18                                               NaN   \n",
              "11                                               NaN   \n",
              "9                                                NaN   \n",
              "\n",
              "    param_feature_preprocessor:kernel_pca:coef0  \\\n",
              "0                                           NaN   \n",
              "12                                          NaN   \n",
              "18                                          NaN   \n",
              "11                                          NaN   \n",
              "9                                           NaN   \n",
              "\n",
              "    param_feature_preprocessor:kernel_pca:degree  \\\n",
              "0                                            NaN   \n",
              "12                                           NaN   \n",
              "18                                           NaN   \n",
              "11                                           NaN   \n",
              "9                                            NaN   \n",
              "\n",
              "    param_feature_preprocessor:kernel_pca:gamma  \\\n",
              "0                                           NaN   \n",
              "12                                          NaN   \n",
              "18                                          NaN   \n",
              "11                                          NaN   \n",
              "9                                           NaN   \n",
              "\n",
              "    param_feature_preprocessor:nystroem_sampler:coef0  \\\n",
              "0                                                 NaN   \n",
              "12                                                NaN   \n",
              "18                                                NaN   \n",
              "11                                                NaN   \n",
              "9                                                 NaN   \n",
              "\n",
              "    param_feature_preprocessor:nystroem_sampler:degree  \\\n",
              "0                                                 NaN    \n",
              "12                                                NaN    \n",
              "18                                                NaN    \n",
              "11                                                NaN    \n",
              "9                                                 NaN    \n",
              "\n",
              "    param_feature_preprocessor:nystroem_sampler:gamma  \\\n",
              "0                                                 NaN   \n",
              "12                                                NaN   \n",
              "18                                                NaN   \n",
              "11                                                NaN   \n",
              "9                                                 NaN   \n",
              "\n",
              "    param_feature_preprocessor:select_rates_classification:mode  \n",
              "0                                                 NaN            \n",
              "12                                                NaN            \n",
              "18                                                NaN            \n",
              "11                                                NaN            \n",
              "9                                                 NaN            \n",
              "\n",
              "[5 rows x 171 columns]"
            ],
            "text/html": [
              "\n",
              "  <div id=\"df-a8edd1ba-36e6-4bf8-afa0-59ecc5f2f7cf\">\n",
              "    <div class=\"colab-df-container\">\n",
              "      <div>\n",
              "<style scoped>\n",
              "    .dataframe tbody tr th:only-of-type {\n",
              "        vertical-align: middle;\n",
              "    }\n",
              "\n",
              "    .dataframe tbody tr th {\n",
              "        vertical-align: top;\n",
              "    }\n",
              "\n",
              "    .dataframe thead th {\n",
              "        text-align: right;\n",
              "    }\n",
              "</style>\n",
              "<table border=\"1\" class=\"dataframe\">\n",
              "  <thead>\n",
              "    <tr style=\"text-align: right;\">\n",
              "      <th></th>\n",
              "      <th>mean_test_score</th>\n",
              "      <th>rank_test_scores</th>\n",
              "      <th>mean_fit_time</th>\n",
              "      <th>params</th>\n",
              "      <th>status</th>\n",
              "      <th>budgets</th>\n",
              "      <th>param_balancing:strategy</th>\n",
              "      <th>param_classifier:__choice__</th>\n",
              "      <th>param_data_preprocessor:__choice__</th>\n",
              "      <th>param_feature_preprocessor:__choice__</th>\n",
              "      <th>...</th>\n",
              "      <th>param_data_preprocessor:feature_type:numerical_transformer:rescaling:robust_scaler:q_max</th>\n",
              "      <th>param_data_preprocessor:feature_type:numerical_transformer:rescaling:robust_scaler:q_min</th>\n",
              "      <th>param_feature_preprocessor:fast_ica:n_components</th>\n",
              "      <th>param_feature_preprocessor:kernel_pca:coef0</th>\n",
              "      <th>param_feature_preprocessor:kernel_pca:degree</th>\n",
              "      <th>param_feature_preprocessor:kernel_pca:gamma</th>\n",
              "      <th>param_feature_preprocessor:nystroem_sampler:coef0</th>\n",
              "      <th>param_feature_preprocessor:nystroem_sampler:degree</th>\n",
              "      <th>param_feature_preprocessor:nystroem_sampler:gamma</th>\n",
              "      <th>param_feature_preprocessor:select_rates_classification:mode</th>\n",
              "    </tr>\n",
              "  </thead>\n",
              "  <tbody>\n",
              "    <tr>\n",
              "      <th>0</th>\n",
              "      <td>0.755492</td>\n",
              "      <td>1</td>\n",
              "      <td>24.130954</td>\n",
              "      <td>{'balancing:strategy': 'none', 'classifier:__c...</td>\n",
              "      <td>Success</td>\n",
              "      <td>0.0</td>\n",
              "      <td>none</td>\n",
              "      <td>random_forest</td>\n",
              "      <td>feature_type</td>\n",
              "      <td>no_preprocessing</td>\n",
              "      <td>...</td>\n",
              "      <td>NaN</td>\n",
              "      <td>NaN</td>\n",
              "      <td>NaN</td>\n",
              "      <td>NaN</td>\n",
              "      <td>NaN</td>\n",
              "      <td>NaN</td>\n",
              "      <td>NaN</td>\n",
              "      <td>NaN</td>\n",
              "      <td>NaN</td>\n",
              "      <td>NaN</td>\n",
              "    </tr>\n",
              "    <tr>\n",
              "      <th>12</th>\n",
              "      <td>0.742045</td>\n",
              "      <td>2</td>\n",
              "      <td>2.613879</td>\n",
              "      <td>{'balancing:strategy': 'weighting', 'classifie...</td>\n",
              "      <td>Success</td>\n",
              "      <td>0.0</td>\n",
              "      <td>weighting</td>\n",
              "      <td>lda</td>\n",
              "      <td>feature_type</td>\n",
              "      <td>liblinear_svc_preprocessor</td>\n",
              "      <td>...</td>\n",
              "      <td>NaN</td>\n",
              "      <td>NaN</td>\n",
              "      <td>NaN</td>\n",
              "      <td>NaN</td>\n",
              "      <td>NaN</td>\n",
              "      <td>NaN</td>\n",
              "      <td>NaN</td>\n",
              "      <td>NaN</td>\n",
              "      <td>NaN</td>\n",
              "      <td>NaN</td>\n",
              "    </tr>\n",
              "    <tr>\n",
              "      <th>18</th>\n",
              "      <td>0.729735</td>\n",
              "      <td>3</td>\n",
              "      <td>35.174633</td>\n",
              "      <td>{'balancing:strategy': 'weighting', 'classifie...</td>\n",
              "      <td>Success</td>\n",
              "      <td>0.0</td>\n",
              "      <td>weighting</td>\n",
              "      <td>random_forest</td>\n",
              "      <td>feature_type</td>\n",
              "      <td>extra_trees_preproc_for_classification</td>\n",
              "      <td>...</td>\n",
              "      <td>NaN</td>\n",
              "      <td>NaN</td>\n",
              "      <td>NaN</td>\n",
              "      <td>NaN</td>\n",
              "      <td>NaN</td>\n",
              "      <td>NaN</td>\n",
              "      <td>NaN</td>\n",
              "      <td>NaN</td>\n",
              "      <td>NaN</td>\n",
              "      <td>NaN</td>\n",
              "    </tr>\n",
              "    <tr>\n",
              "      <th>11</th>\n",
              "      <td>0.721780</td>\n",
              "      <td>4</td>\n",
              "      <td>25.795823</td>\n",
              "      <td>{'balancing:strategy': 'weighting', 'classifie...</td>\n",
              "      <td>Success</td>\n",
              "      <td>0.0</td>\n",
              "      <td>weighting</td>\n",
              "      <td>mlp</td>\n",
              "      <td>feature_type</td>\n",
              "      <td>extra_trees_preproc_for_classification</td>\n",
              "      <td>...</td>\n",
              "      <td>NaN</td>\n",
              "      <td>NaN</td>\n",
              "      <td>NaN</td>\n",
              "      <td>NaN</td>\n",
              "      <td>NaN</td>\n",
              "      <td>NaN</td>\n",
              "      <td>NaN</td>\n",
              "      <td>NaN</td>\n",
              "      <td>NaN</td>\n",
              "      <td>NaN</td>\n",
              "    </tr>\n",
              "    <tr>\n",
              "      <th>9</th>\n",
              "      <td>0.711742</td>\n",
              "      <td>5</td>\n",
              "      <td>41.774668</td>\n",
              "      <td>{'balancing:strategy': 'weighting', 'classifie...</td>\n",
              "      <td>Success</td>\n",
              "      <td>0.0</td>\n",
              "      <td>weighting</td>\n",
              "      <td>random_forest</td>\n",
              "      <td>feature_type</td>\n",
              "      <td>extra_trees_preproc_for_classification</td>\n",
              "      <td>...</td>\n",
              "      <td>0.799474</td>\n",
              "      <td>0.02564</td>\n",
              "      <td>NaN</td>\n",
              "      <td>NaN</td>\n",
              "      <td>NaN</td>\n",
              "      <td>NaN</td>\n",
              "      <td>NaN</td>\n",
              "      <td>NaN</td>\n",
              "      <td>NaN</td>\n",
              "      <td>NaN</td>\n",
              "    </tr>\n",
              "  </tbody>\n",
              "</table>\n",
              "<p>5 rows × 171 columns</p>\n",
              "</div>\n",
              "      <button class=\"colab-df-convert\" onclick=\"convertToInteractive('df-a8edd1ba-36e6-4bf8-afa0-59ecc5f2f7cf')\"\n",
              "              title=\"Convert this dataframe to an interactive table.\"\n",
              "              style=\"display:none;\">\n",
              "        \n",
              "  <svg xmlns=\"http://www.w3.org/2000/svg\" height=\"24px\"viewBox=\"0 0 24 24\"\n",
              "       width=\"24px\">\n",
              "    <path d=\"M0 0h24v24H0V0z\" fill=\"none\"/>\n",
              "    <path d=\"M18.56 5.44l.94 2.06.94-2.06 2.06-.94-2.06-.94-.94-2.06-.94 2.06-2.06.94zm-11 1L8.5 8.5l.94-2.06 2.06-.94-2.06-.94L8.5 2.5l-.94 2.06-2.06.94zm10 10l.94 2.06.94-2.06 2.06-.94-2.06-.94-.94-2.06-.94 2.06-2.06.94z\"/><path d=\"M17.41 7.96l-1.37-1.37c-.4-.4-.92-.59-1.43-.59-.52 0-1.04.2-1.43.59L10.3 9.45l-7.72 7.72c-.78.78-.78 2.05 0 2.83L4 21.41c.39.39.9.59 1.41.59.51 0 1.02-.2 1.41-.59l7.78-7.78 2.81-2.81c.8-.78.8-2.07 0-2.86zM5.41 20L4 18.59l7.72-7.72 1.47 1.35L5.41 20z\"/>\n",
              "  </svg>\n",
              "      </button>\n",
              "      \n",
              "  <style>\n",
              "    .colab-df-container {\n",
              "      display:flex;\n",
              "      flex-wrap:wrap;\n",
              "      gap: 12px;\n",
              "    }\n",
              "\n",
              "    .colab-df-convert {\n",
              "      background-color: #E8F0FE;\n",
              "      border: none;\n",
              "      border-radius: 50%;\n",
              "      cursor: pointer;\n",
              "      display: none;\n",
              "      fill: #1967D2;\n",
              "      height: 32px;\n",
              "      padding: 0 0 0 0;\n",
              "      width: 32px;\n",
              "    }\n",
              "\n",
              "    .colab-df-convert:hover {\n",
              "      background-color: #E2EBFA;\n",
              "      box-shadow: 0px 1px 2px rgba(60, 64, 67, 0.3), 0px 1px 3px 1px rgba(60, 64, 67, 0.15);\n",
              "      fill: #174EA6;\n",
              "    }\n",
              "\n",
              "    [theme=dark] .colab-df-convert {\n",
              "      background-color: #3B4455;\n",
              "      fill: #D2E3FC;\n",
              "    }\n",
              "\n",
              "    [theme=dark] .colab-df-convert:hover {\n",
              "      background-color: #434B5C;\n",
              "      box-shadow: 0px 1px 3px 1px rgba(0, 0, 0, 0.15);\n",
              "      filter: drop-shadow(0px 1px 2px rgba(0, 0, 0, 0.3));\n",
              "      fill: #FFFFFF;\n",
              "    }\n",
              "  </style>\n",
              "\n",
              "      <script>\n",
              "        const buttonEl =\n",
              "          document.querySelector('#df-a8edd1ba-36e6-4bf8-afa0-59ecc5f2f7cf button.colab-df-convert');\n",
              "        buttonEl.style.display =\n",
              "          google.colab.kernel.accessAllowed ? 'block' : 'none';\n",
              "\n",
              "        async function convertToInteractive(key) {\n",
              "          const element = document.querySelector('#df-a8edd1ba-36e6-4bf8-afa0-59ecc5f2f7cf');\n",
              "          const dataTable =\n",
              "            await google.colab.kernel.invokeFunction('convertToInteractive',\n",
              "                                                     [key], {});\n",
              "          if (!dataTable) return;\n",
              "\n",
              "          const docLinkHtml = 'Like what you see? Visit the ' +\n",
              "            '<a target=\"_blank\" href=https://colab.research.google.com/notebooks/data_table.ipynb>data table notebook</a>'\n",
              "            + ' to learn more about interactive tables.';\n",
              "          element.innerHTML = '';\n",
              "          dataTable['output_type'] = 'display_data';\n",
              "          await google.colab.output.renderOutput(dataTable, element);\n",
              "          const docLink = document.createElement('div');\n",
              "          docLink.innerHTML = docLinkHtml;\n",
              "          element.appendChild(docLink);\n",
              "        }\n",
              "      </script>\n",
              "    </div>\n",
              "  </div>\n",
              "  "
            ]
          },
          "metadata": {},
          "execution_count": 33
        }
      ]
    },
    {
      "cell_type": "markdown",
      "source": [
        "No parece tener estrategias de reduccion o de preprocesamiento el mejor clasificador, solo se nos dice que es un Random Forest alcanzando el mayor accuracy hasta ahora de .75, siendo realmente un clasificador muy bueno."
      ],
      "metadata": {
        "id": "iH_UnlH87BEO"
      }
    },
    {
      "cell_type": "markdown",
      "source": [
        "Representación con 500 elementos"
      ],
      "metadata": {
        "id": "Q1_U_yXBwKbX"
      }
    },
    {
      "cell_type": "code",
      "source": [
        "cls = autosklearn.classification.AutoSklearnClassifier(time_left_for_this_task=600)\n",
        "cls.fit(X_train_BOW500, Y_train)\n",
        "predictions_b500= cls.predict(X_test_BOW500)\n",
        "MSE_BOW500=mean_squared_error(Y_test,predictions_b500)"
      ],
      "metadata": {
        "id": "bOlkw47IQhCK"
      },
      "execution_count": null,
      "outputs": []
    },
    {
      "cell_type": "code",
      "source": [
        "df_cv_results_b500 = pd.DataFrame(cls.cv_results_).sort_values(by = 'mean_test_score', ascending = False)\n",
        "df_cv_results_b500.head()"
      ],
      "metadata": {
        "colab": {
          "base_uri": "https://localhost:8080/",
          "height": 473
        },
        "id": "ayHY7hhZQtMu",
        "outputId": "a21be887-c16a-4ae8-8f9f-18d4bbe16266"
      },
      "execution_count": null,
      "outputs": [
        {
          "output_type": "execute_result",
          "data": {
            "text/plain": [
              "    mean_test_score  rank_test_scores  mean_fit_time  \\\n",
              "0          0.770265                 1      41.179983   \n",
              "15         0.759091                 2       4.341411   \n",
              "8          0.735417                 3      40.987240   \n",
              "11         0.701705                 4       3.215420   \n",
              "10         0.646591                 5      13.213872   \n",
              "\n",
              "                                               params   status  budgets  \\\n",
              "0   {'balancing:strategy': 'none', 'classifier:__c...  Success      0.0   \n",
              "15  {'balancing:strategy': 'weighting', 'classifie...  Success      0.0   \n",
              "8   {'balancing:strategy': 'weighting', 'classifie...  Success      0.0   \n",
              "11  {'balancing:strategy': 'weighting', 'classifie...  Success      0.0   \n",
              "10  {'balancing:strategy': 'weighting', 'classifie...  Success      0.0   \n",
              "\n",
              "   param_balancing:strategy param_classifier:__choice__  \\\n",
              "0                      none               random_forest   \n",
              "15                weighting                         lda   \n",
              "8                 weighting                         mlp   \n",
              "11                weighting                 gaussian_nb   \n",
              "10                weighting                    adaboost   \n",
              "\n",
              "   param_data_preprocessor:__choice__   param_feature_preprocessor:__choice__  \\\n",
              "0                        feature_type                        no_preprocessing   \n",
              "15                       feature_type              liblinear_svc_preprocessor   \n",
              "8                        feature_type  extra_trees_preproc_for_classification   \n",
              "11                       feature_type                        no_preprocessing   \n",
              "10                       feature_type                   feature_agglomeration   \n",
              "\n",
              "    ...  \\\n",
              "0   ...   \n",
              "15  ...   \n",
              "8   ...   \n",
              "11  ...   \n",
              "10  ...   \n",
              "\n",
              "   param_data_preprocessor:feature_type:numerical_transformer:rescaling:robust_scaler:q_max  \\\n",
              "0                                                 NaN                                         \n",
              "15                                                NaN                                         \n",
              "8                                                 NaN                                         \n",
              "11                                                NaN                                         \n",
              "10                                                NaN                                         \n",
              "\n",
              "    param_data_preprocessor:feature_type:numerical_transformer:rescaling:robust_scaler:q_min  \\\n",
              "0                                                 NaN                                          \n",
              "15                                                NaN                                          \n",
              "8                                                 NaN                                          \n",
              "11                                                NaN                                          \n",
              "10                                                NaN                                          \n",
              "\n",
              "    param_feature_preprocessor:fast_ica:n_components  \\\n",
              "0                                                NaN   \n",
              "15                                               NaN   \n",
              "8                                                NaN   \n",
              "11                                               NaN   \n",
              "10                                               NaN   \n",
              "\n",
              "    param_feature_preprocessor:kernel_pca:coef0  \\\n",
              "0                                           NaN   \n",
              "15                                          NaN   \n",
              "8                                           NaN   \n",
              "11                                          NaN   \n",
              "10                                          NaN   \n",
              "\n",
              "    param_feature_preprocessor:kernel_pca:degree  \\\n",
              "0                                            NaN   \n",
              "15                                           NaN   \n",
              "8                                            NaN   \n",
              "11                                           NaN   \n",
              "10                                           NaN   \n",
              "\n",
              "    param_feature_preprocessor:kernel_pca:gamma  \\\n",
              "0                                           NaN   \n",
              "15                                          NaN   \n",
              "8                                           NaN   \n",
              "11                                          NaN   \n",
              "10                                          NaN   \n",
              "\n",
              "    param_feature_preprocessor:nystroem_sampler:coef0  \\\n",
              "0                                                 NaN   \n",
              "15                                                NaN   \n",
              "8                                                 NaN   \n",
              "11                                                NaN   \n",
              "10                                                NaN   \n",
              "\n",
              "    param_feature_preprocessor:nystroem_sampler:degree  \\\n",
              "0                                                 NaN    \n",
              "15                                                NaN    \n",
              "8                                                 NaN    \n",
              "11                                                NaN    \n",
              "10                                                NaN    \n",
              "\n",
              "    param_feature_preprocessor:nystroem_sampler:gamma  \\\n",
              "0                                                 NaN   \n",
              "15                                                NaN   \n",
              "8                                                 NaN   \n",
              "11                                                NaN   \n",
              "10                                                NaN   \n",
              "\n",
              "    param_feature_preprocessor:select_rates_classification:mode  \n",
              "0                                                 NaN            \n",
              "15                                                NaN            \n",
              "8                                                 NaN            \n",
              "11                                                NaN            \n",
              "10                                                NaN            \n",
              "\n",
              "[5 rows x 171 columns]"
            ],
            "text/html": [
              "\n",
              "  <div id=\"df-5ce72714-4704-46f8-9e94-42c67aecf23d\">\n",
              "    <div class=\"colab-df-container\">\n",
              "      <div>\n",
              "<style scoped>\n",
              "    .dataframe tbody tr th:only-of-type {\n",
              "        vertical-align: middle;\n",
              "    }\n",
              "\n",
              "    .dataframe tbody tr th {\n",
              "        vertical-align: top;\n",
              "    }\n",
              "\n",
              "    .dataframe thead th {\n",
              "        text-align: right;\n",
              "    }\n",
              "</style>\n",
              "<table border=\"1\" class=\"dataframe\">\n",
              "  <thead>\n",
              "    <tr style=\"text-align: right;\">\n",
              "      <th></th>\n",
              "      <th>mean_test_score</th>\n",
              "      <th>rank_test_scores</th>\n",
              "      <th>mean_fit_time</th>\n",
              "      <th>params</th>\n",
              "      <th>status</th>\n",
              "      <th>budgets</th>\n",
              "      <th>param_balancing:strategy</th>\n",
              "      <th>param_classifier:__choice__</th>\n",
              "      <th>param_data_preprocessor:__choice__</th>\n",
              "      <th>param_feature_preprocessor:__choice__</th>\n",
              "      <th>...</th>\n",
              "      <th>param_data_preprocessor:feature_type:numerical_transformer:rescaling:robust_scaler:q_max</th>\n",
              "      <th>param_data_preprocessor:feature_type:numerical_transformer:rescaling:robust_scaler:q_min</th>\n",
              "      <th>param_feature_preprocessor:fast_ica:n_components</th>\n",
              "      <th>param_feature_preprocessor:kernel_pca:coef0</th>\n",
              "      <th>param_feature_preprocessor:kernel_pca:degree</th>\n",
              "      <th>param_feature_preprocessor:kernel_pca:gamma</th>\n",
              "      <th>param_feature_preprocessor:nystroem_sampler:coef0</th>\n",
              "      <th>param_feature_preprocessor:nystroem_sampler:degree</th>\n",
              "      <th>param_feature_preprocessor:nystroem_sampler:gamma</th>\n",
              "      <th>param_feature_preprocessor:select_rates_classification:mode</th>\n",
              "    </tr>\n",
              "  </thead>\n",
              "  <tbody>\n",
              "    <tr>\n",
              "      <th>0</th>\n",
              "      <td>0.770265</td>\n",
              "      <td>1</td>\n",
              "      <td>41.179983</td>\n",
              "      <td>{'balancing:strategy': 'none', 'classifier:__c...</td>\n",
              "      <td>Success</td>\n",
              "      <td>0.0</td>\n",
              "      <td>none</td>\n",
              "      <td>random_forest</td>\n",
              "      <td>feature_type</td>\n",
              "      <td>no_preprocessing</td>\n",
              "      <td>...</td>\n",
              "      <td>NaN</td>\n",
              "      <td>NaN</td>\n",
              "      <td>NaN</td>\n",
              "      <td>NaN</td>\n",
              "      <td>NaN</td>\n",
              "      <td>NaN</td>\n",
              "      <td>NaN</td>\n",
              "      <td>NaN</td>\n",
              "      <td>NaN</td>\n",
              "      <td>NaN</td>\n",
              "    </tr>\n",
              "    <tr>\n",
              "      <th>15</th>\n",
              "      <td>0.759091</td>\n",
              "      <td>2</td>\n",
              "      <td>4.341411</td>\n",
              "      <td>{'balancing:strategy': 'weighting', 'classifie...</td>\n",
              "      <td>Success</td>\n",
              "      <td>0.0</td>\n",
              "      <td>weighting</td>\n",
              "      <td>lda</td>\n",
              "      <td>feature_type</td>\n",
              "      <td>liblinear_svc_preprocessor</td>\n",
              "      <td>...</td>\n",
              "      <td>NaN</td>\n",
              "      <td>NaN</td>\n",
              "      <td>NaN</td>\n",
              "      <td>NaN</td>\n",
              "      <td>NaN</td>\n",
              "      <td>NaN</td>\n",
              "      <td>NaN</td>\n",
              "      <td>NaN</td>\n",
              "      <td>NaN</td>\n",
              "      <td>NaN</td>\n",
              "    </tr>\n",
              "    <tr>\n",
              "      <th>8</th>\n",
              "      <td>0.735417</td>\n",
              "      <td>3</td>\n",
              "      <td>40.987240</td>\n",
              "      <td>{'balancing:strategy': 'weighting', 'classifie...</td>\n",
              "      <td>Success</td>\n",
              "      <td>0.0</td>\n",
              "      <td>weighting</td>\n",
              "      <td>mlp</td>\n",
              "      <td>feature_type</td>\n",
              "      <td>extra_trees_preproc_for_classification</td>\n",
              "      <td>...</td>\n",
              "      <td>NaN</td>\n",
              "      <td>NaN</td>\n",
              "      <td>NaN</td>\n",
              "      <td>NaN</td>\n",
              "      <td>NaN</td>\n",
              "      <td>NaN</td>\n",
              "      <td>NaN</td>\n",
              "      <td>NaN</td>\n",
              "      <td>NaN</td>\n",
              "      <td>NaN</td>\n",
              "    </tr>\n",
              "    <tr>\n",
              "      <th>11</th>\n",
              "      <td>0.701705</td>\n",
              "      <td>4</td>\n",
              "      <td>3.215420</td>\n",
              "      <td>{'balancing:strategy': 'weighting', 'classifie...</td>\n",
              "      <td>Success</td>\n",
              "      <td>0.0</td>\n",
              "      <td>weighting</td>\n",
              "      <td>gaussian_nb</td>\n",
              "      <td>feature_type</td>\n",
              "      <td>no_preprocessing</td>\n",
              "      <td>...</td>\n",
              "      <td>NaN</td>\n",
              "      <td>NaN</td>\n",
              "      <td>NaN</td>\n",
              "      <td>NaN</td>\n",
              "      <td>NaN</td>\n",
              "      <td>NaN</td>\n",
              "      <td>NaN</td>\n",
              "      <td>NaN</td>\n",
              "      <td>NaN</td>\n",
              "      <td>NaN</td>\n",
              "    </tr>\n",
              "    <tr>\n",
              "      <th>10</th>\n",
              "      <td>0.646591</td>\n",
              "      <td>5</td>\n",
              "      <td>13.213872</td>\n",
              "      <td>{'balancing:strategy': 'weighting', 'classifie...</td>\n",
              "      <td>Success</td>\n",
              "      <td>0.0</td>\n",
              "      <td>weighting</td>\n",
              "      <td>adaboost</td>\n",
              "      <td>feature_type</td>\n",
              "      <td>feature_agglomeration</td>\n",
              "      <td>...</td>\n",
              "      <td>NaN</td>\n",
              "      <td>NaN</td>\n",
              "      <td>NaN</td>\n",
              "      <td>NaN</td>\n",
              "      <td>NaN</td>\n",
              "      <td>NaN</td>\n",
              "      <td>NaN</td>\n",
              "      <td>NaN</td>\n",
              "      <td>NaN</td>\n",
              "      <td>NaN</td>\n",
              "    </tr>\n",
              "  </tbody>\n",
              "</table>\n",
              "<p>5 rows × 171 columns</p>\n",
              "</div>\n",
              "      <button class=\"colab-df-convert\" onclick=\"convertToInteractive('df-5ce72714-4704-46f8-9e94-42c67aecf23d')\"\n",
              "              title=\"Convert this dataframe to an interactive table.\"\n",
              "              style=\"display:none;\">\n",
              "        \n",
              "  <svg xmlns=\"http://www.w3.org/2000/svg\" height=\"24px\"viewBox=\"0 0 24 24\"\n",
              "       width=\"24px\">\n",
              "    <path d=\"M0 0h24v24H0V0z\" fill=\"none\"/>\n",
              "    <path d=\"M18.56 5.44l.94 2.06.94-2.06 2.06-.94-2.06-.94-.94-2.06-.94 2.06-2.06.94zm-11 1L8.5 8.5l.94-2.06 2.06-.94-2.06-.94L8.5 2.5l-.94 2.06-2.06.94zm10 10l.94 2.06.94-2.06 2.06-.94-2.06-.94-.94-2.06-.94 2.06-2.06.94z\"/><path d=\"M17.41 7.96l-1.37-1.37c-.4-.4-.92-.59-1.43-.59-.52 0-1.04.2-1.43.59L10.3 9.45l-7.72 7.72c-.78.78-.78 2.05 0 2.83L4 21.41c.39.39.9.59 1.41.59.51 0 1.02-.2 1.41-.59l7.78-7.78 2.81-2.81c.8-.78.8-2.07 0-2.86zM5.41 20L4 18.59l7.72-7.72 1.47 1.35L5.41 20z\"/>\n",
              "  </svg>\n",
              "      </button>\n",
              "      \n",
              "  <style>\n",
              "    .colab-df-container {\n",
              "      display:flex;\n",
              "      flex-wrap:wrap;\n",
              "      gap: 12px;\n",
              "    }\n",
              "\n",
              "    .colab-df-convert {\n",
              "      background-color: #E8F0FE;\n",
              "      border: none;\n",
              "      border-radius: 50%;\n",
              "      cursor: pointer;\n",
              "      display: none;\n",
              "      fill: #1967D2;\n",
              "      height: 32px;\n",
              "      padding: 0 0 0 0;\n",
              "      width: 32px;\n",
              "    }\n",
              "\n",
              "    .colab-df-convert:hover {\n",
              "      background-color: #E2EBFA;\n",
              "      box-shadow: 0px 1px 2px rgba(60, 64, 67, 0.3), 0px 1px 3px 1px rgba(60, 64, 67, 0.15);\n",
              "      fill: #174EA6;\n",
              "    }\n",
              "\n",
              "    [theme=dark] .colab-df-convert {\n",
              "      background-color: #3B4455;\n",
              "      fill: #D2E3FC;\n",
              "    }\n",
              "\n",
              "    [theme=dark] .colab-df-convert:hover {\n",
              "      background-color: #434B5C;\n",
              "      box-shadow: 0px 1px 3px 1px rgba(0, 0, 0, 0.15);\n",
              "      filter: drop-shadow(0px 1px 2px rgba(0, 0, 0, 0.3));\n",
              "      fill: #FFFFFF;\n",
              "    }\n",
              "  </style>\n",
              "\n",
              "      <script>\n",
              "        const buttonEl =\n",
              "          document.querySelector('#df-5ce72714-4704-46f8-9e94-42c67aecf23d button.colab-df-convert');\n",
              "        buttonEl.style.display =\n",
              "          google.colab.kernel.accessAllowed ? 'block' : 'none';\n",
              "\n",
              "        async function convertToInteractive(key) {\n",
              "          const element = document.querySelector('#df-5ce72714-4704-46f8-9e94-42c67aecf23d');\n",
              "          const dataTable =\n",
              "            await google.colab.kernel.invokeFunction('convertToInteractive',\n",
              "                                                     [key], {});\n",
              "          if (!dataTable) return;\n",
              "\n",
              "          const docLinkHtml = 'Like what you see? Visit the ' +\n",
              "            '<a target=\"_blank\" href=https://colab.research.google.com/notebooks/data_table.ipynb>data table notebook</a>'\n",
              "            + ' to learn more about interactive tables.';\n",
              "          element.innerHTML = '';\n",
              "          dataTable['output_type'] = 'display_data';\n",
              "          await google.colab.output.renderOutput(dataTable, element);\n",
              "          const docLink = document.createElement('div');\n",
              "          docLink.innerHTML = docLinkHtml;\n",
              "          element.appendChild(docLink);\n",
              "        }\n",
              "      </script>\n",
              "    </div>\n",
              "  </div>\n",
              "  "
            ]
          },
          "metadata": {},
          "execution_count": 35
        }
      ]
    },
    {
      "cell_type": "markdown",
      "source": [
        "Parece que este ajuste de modelo automático se fue en la misma dirección del caso anterior, ya que no parece tener ningun tipo de preproceso o reducción de dimensión y el mejor método tambien es un Random Forest, superando de nuevo al mejor accuracy hasta ahora con un máximo de .77."
      ],
      "metadata": {
        "id": "x5rRUbMQ7igY"
      }
    },
    {
      "cell_type": "markdown",
      "metadata": {
        "id": "XA1IRcHkWzF2"
      },
      "source": [
        "##Opiniones Resumidas"
      ]
    },
    {
      "cell_type": "markdown",
      "source": [
        "Dado que los demas algoritmos tienen aproximadamente 40 minutos para su ejecución, a cada una de las 4 representaciones obtenidas se les da un máximo de 10 minutos para igualar de alguna forma las condiciones."
      ],
      "metadata": {
        "id": "qUir1o0h-r4P"
      }
    },
    {
      "cell_type": "code",
      "execution_count": null,
      "metadata": {
        "id": "o-1RwMZ0aVcx"
      },
      "outputs": [],
      "source": [
        "from sklearn.metrics import mean_squared_error"
      ]
    },
    {
      "cell_type": "markdown",
      "source": [
        "####Fastext"
      ],
      "metadata": {
        "id": "7IH_ej2swRnU"
      }
    },
    {
      "cell_type": "markdown",
      "source": [
        "Representación con 100 elementos"
      ],
      "metadata": {
        "id": "2m-Zgz-dwrHM"
      }
    },
    {
      "cell_type": "code",
      "source": [
        "cls = autosklearn.classification.AutoSklearnClassifier(time_left_for_this_task=600)\n",
        "cls.fit(X_train_fast100, Y_train)\n",
        "predictions_f100 = cls.predict(X_test_fast100)\n",
        "MSE_f100=mean_squared_error(Y_test, predictions_f100)"
      ],
      "metadata": {
        "colab": {
          "base_uri": "https://localhost:8080/"
        },
        "id": "CMonMCH6U4ls",
        "outputId": "25ae46a7-76e1-40fe-9574-89926189c2f8"
      },
      "execution_count": null,
      "outputs": [
        {
          "output_type": "stream",
          "name": "stdout",
          "text": [
            "[WARNING] [2022-12-04 18:58:47,903:Client-EnsembleBuilder] No runs were available to build an ensemble from\n",
            "[WARNING] [2022-12-04 18:58:51,093:Client-EnsembleBuilder] No runs were available to build an ensemble from\n"
          ]
        }
      ]
    },
    {
      "cell_type": "code",
      "source": [
        "df_cv_results_f100 = pd.DataFrame(cls.cv_results_).sort_values(by = 'mean_test_score', ascending = False)\n",
        "df_cv_results_f100.head()"
      ],
      "metadata": {
        "colab": {
          "base_uri": "https://localhost:8080/",
          "height": 473
        },
        "id": "RxpdkKelU5Ej",
        "outputId": "cbc67697-734d-4bab-c6b1-93eb5673f030"
      },
      "execution_count": null,
      "outputs": [
        {
          "output_type": "execute_result",
          "data": {
            "text/plain": [
              "    mean_test_score  rank_test_scores  mean_fit_time  \\\n",
              "8          0.627083                 1      30.481544   \n",
              "23         0.602841                 2      30.831673   \n",
              "11         0.592614                 3      11.760870   \n",
              "19         0.586932                 4      21.775461   \n",
              "13         0.581818                 5       1.845037   \n",
              "\n",
              "                                               params   status  budgets  \\\n",
              "8   {'balancing:strategy': 'none', 'classifier:__c...  Success      0.0   \n",
              "23  {'balancing:strategy': 'weighting', 'classifie...  Success      0.0   \n",
              "11  {'balancing:strategy': 'none', 'classifier:__c...  Success      0.0   \n",
              "19  {'balancing:strategy': 'weighting', 'classifie...  Success      0.0   \n",
              "13  {'balancing:strategy': 'weighting', 'classifie...  Success      0.0   \n",
              "\n",
              "   param_balancing:strategy param_classifier:__choice__  \\\n",
              "8                      none                 extra_trees   \n",
              "23                weighting                         mlp   \n",
              "11                     none                         mlp   \n",
              "19                weighting         k_nearest_neighbors   \n",
              "13                weighting          passive_aggressive   \n",
              "\n",
              "   param_data_preprocessor:__choice__   param_feature_preprocessor:__choice__  \\\n",
              "8                        feature_type                                fast_ica   \n",
              "23                       feature_type  extra_trees_preproc_for_classification   \n",
              "11                       feature_type                   feature_agglomeration   \n",
              "19                       feature_type                                fast_ica   \n",
              "13                       feature_type                           kitchen_sinks   \n",
              "\n",
              "    ...  \\\n",
              "8   ...   \n",
              "23  ...   \n",
              "11  ...   \n",
              "19  ...   \n",
              "13  ...   \n",
              "\n",
              "   param_data_preprocessor:feature_type:numerical_transformer:rescaling:robust_scaler:q_max  \\\n",
              "8                                            0.809985                                         \n",
              "23                                                NaN                                         \n",
              "11                                                NaN                                         \n",
              "19                                                NaN                                         \n",
              "13                                           0.920145                                         \n",
              "\n",
              "    param_data_preprocessor:feature_type:numerical_transformer:rescaling:robust_scaler:q_min  \\\n",
              "8                                            0.182505                                          \n",
              "23                                                NaN                                          \n",
              "11                                                NaN                                          \n",
              "19                                                NaN                                          \n",
              "13                                           0.011024                                          \n",
              "\n",
              "    param_feature_preprocessor:fast_ica:n_components  \\\n",
              "8                                                NaN   \n",
              "23                                               NaN   \n",
              "11                                               NaN   \n",
              "19                                               NaN   \n",
              "13                                               NaN   \n",
              "\n",
              "    param_feature_preprocessor:kernel_pca:coef0  \\\n",
              "8                                           NaN   \n",
              "23                                          NaN   \n",
              "11                                          NaN   \n",
              "19                                          NaN   \n",
              "13                                          NaN   \n",
              "\n",
              "    param_feature_preprocessor:kernel_pca:degree  \\\n",
              "8                                            NaN   \n",
              "23                                           NaN   \n",
              "11                                           NaN   \n",
              "19                                           NaN   \n",
              "13                                           NaN   \n",
              "\n",
              "    param_feature_preprocessor:kernel_pca:gamma  \\\n",
              "8                                           NaN   \n",
              "23                                          NaN   \n",
              "11                                          NaN   \n",
              "19                                          NaN   \n",
              "13                                          NaN   \n",
              "\n",
              "    param_feature_preprocessor:nystroem_sampler:coef0  \\\n",
              "8                                                 NaN   \n",
              "23                                                NaN   \n",
              "11                                                NaN   \n",
              "19                                                NaN   \n",
              "13                                                NaN   \n",
              "\n",
              "    param_feature_preprocessor:nystroem_sampler:degree  \\\n",
              "8                                                 NaN    \n",
              "23                                                NaN    \n",
              "11                                                NaN    \n",
              "19                                                NaN    \n",
              "13                                                NaN    \n",
              "\n",
              "    param_feature_preprocessor:nystroem_sampler:gamma  \\\n",
              "8                                                 NaN   \n",
              "23                                                NaN   \n",
              "11                                                NaN   \n",
              "19                                                NaN   \n",
              "13                                                NaN   \n",
              "\n",
              "    param_feature_preprocessor:select_rates_classification:mode  \n",
              "8                                                 NaN            \n",
              "23                                                NaN            \n",
              "11                                                NaN            \n",
              "19                                                NaN            \n",
              "13                                                NaN            \n",
              "\n",
              "[5 rows x 171 columns]"
            ],
            "text/html": [
              "\n",
              "  <div id=\"df-0b5d4c77-1e5e-4bf8-b51b-fa5d49661b1a\">\n",
              "    <div class=\"colab-df-container\">\n",
              "      <div>\n",
              "<style scoped>\n",
              "    .dataframe tbody tr th:only-of-type {\n",
              "        vertical-align: middle;\n",
              "    }\n",
              "\n",
              "    .dataframe tbody tr th {\n",
              "        vertical-align: top;\n",
              "    }\n",
              "\n",
              "    .dataframe thead th {\n",
              "        text-align: right;\n",
              "    }\n",
              "</style>\n",
              "<table border=\"1\" class=\"dataframe\">\n",
              "  <thead>\n",
              "    <tr style=\"text-align: right;\">\n",
              "      <th></th>\n",
              "      <th>mean_test_score</th>\n",
              "      <th>rank_test_scores</th>\n",
              "      <th>mean_fit_time</th>\n",
              "      <th>params</th>\n",
              "      <th>status</th>\n",
              "      <th>budgets</th>\n",
              "      <th>param_balancing:strategy</th>\n",
              "      <th>param_classifier:__choice__</th>\n",
              "      <th>param_data_preprocessor:__choice__</th>\n",
              "      <th>param_feature_preprocessor:__choice__</th>\n",
              "      <th>...</th>\n",
              "      <th>param_data_preprocessor:feature_type:numerical_transformer:rescaling:robust_scaler:q_max</th>\n",
              "      <th>param_data_preprocessor:feature_type:numerical_transformer:rescaling:robust_scaler:q_min</th>\n",
              "      <th>param_feature_preprocessor:fast_ica:n_components</th>\n",
              "      <th>param_feature_preprocessor:kernel_pca:coef0</th>\n",
              "      <th>param_feature_preprocessor:kernel_pca:degree</th>\n",
              "      <th>param_feature_preprocessor:kernel_pca:gamma</th>\n",
              "      <th>param_feature_preprocessor:nystroem_sampler:coef0</th>\n",
              "      <th>param_feature_preprocessor:nystroem_sampler:degree</th>\n",
              "      <th>param_feature_preprocessor:nystroem_sampler:gamma</th>\n",
              "      <th>param_feature_preprocessor:select_rates_classification:mode</th>\n",
              "    </tr>\n",
              "  </thead>\n",
              "  <tbody>\n",
              "    <tr>\n",
              "      <th>8</th>\n",
              "      <td>0.627083</td>\n",
              "      <td>1</td>\n",
              "      <td>30.481544</td>\n",
              "      <td>{'balancing:strategy': 'none', 'classifier:__c...</td>\n",
              "      <td>Success</td>\n",
              "      <td>0.0</td>\n",
              "      <td>none</td>\n",
              "      <td>extra_trees</td>\n",
              "      <td>feature_type</td>\n",
              "      <td>fast_ica</td>\n",
              "      <td>...</td>\n",
              "      <td>0.809985</td>\n",
              "      <td>0.182505</td>\n",
              "      <td>NaN</td>\n",
              "      <td>NaN</td>\n",
              "      <td>NaN</td>\n",
              "      <td>NaN</td>\n",
              "      <td>NaN</td>\n",
              "      <td>NaN</td>\n",
              "      <td>NaN</td>\n",
              "      <td>NaN</td>\n",
              "    </tr>\n",
              "    <tr>\n",
              "      <th>23</th>\n",
              "      <td>0.602841</td>\n",
              "      <td>2</td>\n",
              "      <td>30.831673</td>\n",
              "      <td>{'balancing:strategy': 'weighting', 'classifie...</td>\n",
              "      <td>Success</td>\n",
              "      <td>0.0</td>\n",
              "      <td>weighting</td>\n",
              "      <td>mlp</td>\n",
              "      <td>feature_type</td>\n",
              "      <td>extra_trees_preproc_for_classification</td>\n",
              "      <td>...</td>\n",
              "      <td>NaN</td>\n",
              "      <td>NaN</td>\n",
              "      <td>NaN</td>\n",
              "      <td>NaN</td>\n",
              "      <td>NaN</td>\n",
              "      <td>NaN</td>\n",
              "      <td>NaN</td>\n",
              "      <td>NaN</td>\n",
              "      <td>NaN</td>\n",
              "      <td>NaN</td>\n",
              "    </tr>\n",
              "    <tr>\n",
              "      <th>11</th>\n",
              "      <td>0.592614</td>\n",
              "      <td>3</td>\n",
              "      <td>11.760870</td>\n",
              "      <td>{'balancing:strategy': 'none', 'classifier:__c...</td>\n",
              "      <td>Success</td>\n",
              "      <td>0.0</td>\n",
              "      <td>none</td>\n",
              "      <td>mlp</td>\n",
              "      <td>feature_type</td>\n",
              "      <td>feature_agglomeration</td>\n",
              "      <td>...</td>\n",
              "      <td>NaN</td>\n",
              "      <td>NaN</td>\n",
              "      <td>NaN</td>\n",
              "      <td>NaN</td>\n",
              "      <td>NaN</td>\n",
              "      <td>NaN</td>\n",
              "      <td>NaN</td>\n",
              "      <td>NaN</td>\n",
              "      <td>NaN</td>\n",
              "      <td>NaN</td>\n",
              "    </tr>\n",
              "    <tr>\n",
              "      <th>19</th>\n",
              "      <td>0.586932</td>\n",
              "      <td>4</td>\n",
              "      <td>21.775461</td>\n",
              "      <td>{'balancing:strategy': 'weighting', 'classifie...</td>\n",
              "      <td>Success</td>\n",
              "      <td>0.0</td>\n",
              "      <td>weighting</td>\n",
              "      <td>k_nearest_neighbors</td>\n",
              "      <td>feature_type</td>\n",
              "      <td>fast_ica</td>\n",
              "      <td>...</td>\n",
              "      <td>NaN</td>\n",
              "      <td>NaN</td>\n",
              "      <td>NaN</td>\n",
              "      <td>NaN</td>\n",
              "      <td>NaN</td>\n",
              "      <td>NaN</td>\n",
              "      <td>NaN</td>\n",
              "      <td>NaN</td>\n",
              "      <td>NaN</td>\n",
              "      <td>NaN</td>\n",
              "    </tr>\n",
              "    <tr>\n",
              "      <th>13</th>\n",
              "      <td>0.581818</td>\n",
              "      <td>5</td>\n",
              "      <td>1.845037</td>\n",
              "      <td>{'balancing:strategy': 'weighting', 'classifie...</td>\n",
              "      <td>Success</td>\n",
              "      <td>0.0</td>\n",
              "      <td>weighting</td>\n",
              "      <td>passive_aggressive</td>\n",
              "      <td>feature_type</td>\n",
              "      <td>kitchen_sinks</td>\n",
              "      <td>...</td>\n",
              "      <td>0.920145</td>\n",
              "      <td>0.011024</td>\n",
              "      <td>NaN</td>\n",
              "      <td>NaN</td>\n",
              "      <td>NaN</td>\n",
              "      <td>NaN</td>\n",
              "      <td>NaN</td>\n",
              "      <td>NaN</td>\n",
              "      <td>NaN</td>\n",
              "      <td>NaN</td>\n",
              "    </tr>\n",
              "  </tbody>\n",
              "</table>\n",
              "<p>5 rows × 171 columns</p>\n",
              "</div>\n",
              "      <button class=\"colab-df-convert\" onclick=\"convertToInteractive('df-0b5d4c77-1e5e-4bf8-b51b-fa5d49661b1a')\"\n",
              "              title=\"Convert this dataframe to an interactive table.\"\n",
              "              style=\"display:none;\">\n",
              "        \n",
              "  <svg xmlns=\"http://www.w3.org/2000/svg\" height=\"24px\"viewBox=\"0 0 24 24\"\n",
              "       width=\"24px\">\n",
              "    <path d=\"M0 0h24v24H0V0z\" fill=\"none\"/>\n",
              "    <path d=\"M18.56 5.44l.94 2.06.94-2.06 2.06-.94-2.06-.94-.94-2.06-.94 2.06-2.06.94zm-11 1L8.5 8.5l.94-2.06 2.06-.94-2.06-.94L8.5 2.5l-.94 2.06-2.06.94zm10 10l.94 2.06.94-2.06 2.06-.94-2.06-.94-.94-2.06-.94 2.06-2.06.94z\"/><path d=\"M17.41 7.96l-1.37-1.37c-.4-.4-.92-.59-1.43-.59-.52 0-1.04.2-1.43.59L10.3 9.45l-7.72 7.72c-.78.78-.78 2.05 0 2.83L4 21.41c.39.39.9.59 1.41.59.51 0 1.02-.2 1.41-.59l7.78-7.78 2.81-2.81c.8-.78.8-2.07 0-2.86zM5.41 20L4 18.59l7.72-7.72 1.47 1.35L5.41 20z\"/>\n",
              "  </svg>\n",
              "      </button>\n",
              "      \n",
              "  <style>\n",
              "    .colab-df-container {\n",
              "      display:flex;\n",
              "      flex-wrap:wrap;\n",
              "      gap: 12px;\n",
              "    }\n",
              "\n",
              "    .colab-df-convert {\n",
              "      background-color: #E8F0FE;\n",
              "      border: none;\n",
              "      border-radius: 50%;\n",
              "      cursor: pointer;\n",
              "      display: none;\n",
              "      fill: #1967D2;\n",
              "      height: 32px;\n",
              "      padding: 0 0 0 0;\n",
              "      width: 32px;\n",
              "    }\n",
              "\n",
              "    .colab-df-convert:hover {\n",
              "      background-color: #E2EBFA;\n",
              "      box-shadow: 0px 1px 2px rgba(60, 64, 67, 0.3), 0px 1px 3px 1px rgba(60, 64, 67, 0.15);\n",
              "      fill: #174EA6;\n",
              "    }\n",
              "\n",
              "    [theme=dark] .colab-df-convert {\n",
              "      background-color: #3B4455;\n",
              "      fill: #D2E3FC;\n",
              "    }\n",
              "\n",
              "    [theme=dark] .colab-df-convert:hover {\n",
              "      background-color: #434B5C;\n",
              "      box-shadow: 0px 1px 3px 1px rgba(0, 0, 0, 0.15);\n",
              "      filter: drop-shadow(0px 1px 2px rgba(0, 0, 0, 0.3));\n",
              "      fill: #FFFFFF;\n",
              "    }\n",
              "  </style>\n",
              "\n",
              "      <script>\n",
              "        const buttonEl =\n",
              "          document.querySelector('#df-0b5d4c77-1e5e-4bf8-b51b-fa5d49661b1a button.colab-df-convert');\n",
              "        buttonEl.style.display =\n",
              "          google.colab.kernel.accessAllowed ? 'block' : 'none';\n",
              "\n",
              "        async function convertToInteractive(key) {\n",
              "          const element = document.querySelector('#df-0b5d4c77-1e5e-4bf8-b51b-fa5d49661b1a');\n",
              "          const dataTable =\n",
              "            await google.colab.kernel.invokeFunction('convertToInteractive',\n",
              "                                                     [key], {});\n",
              "          if (!dataTable) return;\n",
              "\n",
              "          const docLinkHtml = 'Like what you see? Visit the ' +\n",
              "            '<a target=\"_blank\" href=https://colab.research.google.com/notebooks/data_table.ipynb>data table notebook</a>'\n",
              "            + ' to learn more about interactive tables.';\n",
              "          element.innerHTML = '';\n",
              "          dataTable['output_type'] = 'display_data';\n",
              "          await google.colab.output.renderOutput(dataTable, element);\n",
              "          const docLink = document.createElement('div');\n",
              "          docLink.innerHTML = docLinkHtml;\n",
              "          element.appendChild(docLink);\n",
              "        }\n",
              "      </script>\n",
              "    </div>\n",
              "  </div>\n",
              "  "
            ]
          },
          "metadata": {},
          "execution_count": 42
        }
      ]
    },
    {
      "cell_type": "markdown",
      "source": [
        "De forma similar a su contraparte con la opinion original, el mejor clasificador es uno basado en Arboles de decision aleatorios de \"extra_tree\" alguna reduccion de dimensión basada en una descomposición rapida ICA, alcanzando un accuracy maximo de .627."
      ],
      "metadata": {
        "id": "XESQsBlI_Kt1"
      }
    },
    {
      "cell_type": "markdown",
      "source": [
        "Representación con 200 elementos"
      ],
      "metadata": {
        "id": "DvrCCMzCwvEe"
      }
    },
    {
      "cell_type": "code",
      "source": [
        "cls = autosklearn.classification.AutoSklearnClassifier(time_left_for_this_task=600)\n",
        "cls.fit(X_train_fast200, Y_train)\n",
        "predictions_f200 = cls.predict(X_test_fast200)\n",
        "MSE_f200=mean_squared_error(Y_test, predictions_f200)"
      ],
      "metadata": {
        "colab": {
          "base_uri": "https://localhost:8080/"
        },
        "id": "IhpCKO35VAX-",
        "outputId": "3da60aa1-ce52-4c0f-d1c9-3b6944dc4021"
      },
      "execution_count": null,
      "outputs": [
        {
          "output_type": "stream",
          "name": "stdout",
          "text": [
            "[WARNING] [2022-12-04 19:11:54,230:Client-EnsembleBuilder] No runs were available to build an ensemble from\n",
            "[WARNING] [2022-12-04 19:11:58,307:Client-EnsembleBuilder] No runs were available to build an ensemble from\n"
          ]
        }
      ]
    },
    {
      "cell_type": "code",
      "source": [
        "df_cv_results_f200 = pd.DataFrame(cls.cv_results_).sort_values(by = 'mean_test_score', ascending = False)\n",
        "df_cv_results_f200.head()"
      ],
      "metadata": {
        "colab": {
          "base_uri": "https://localhost:8080/",
          "height": 473
        },
        "id": "kSGuHYn5VAyL",
        "outputId": "1f822ccc-f21f-4a4c-f769-9d146211e0cb"
      },
      "execution_count": null,
      "outputs": [
        {
          "output_type": "execute_result",
          "data": {
            "text/plain": [
              "    mean_test_score  rank_test_scores  mean_fit_time  \\\n",
              "11         0.593371                 1      13.209208   \n",
              "12         0.592235                 2      30.638166   \n",
              "14         0.591098                 3      58.748677   \n",
              "7          0.590720                 4      12.936483   \n",
              "16         0.587500                 5       2.313402   \n",
              "\n",
              "                                               params   status  budgets  \\\n",
              "11  {'balancing:strategy': 'none', 'classifier:__c...  Success      0.0   \n",
              "12  {'balancing:strategy': 'weighting', 'classifie...  Success      0.0   \n",
              "14  {'balancing:strategy': 'weighting', 'classifie...  Success      0.0   \n",
              "7   {'balancing:strategy': 'none', 'classifier:__c...  Success      0.0   \n",
              "16  {'balancing:strategy': 'weighting', 'classifie...  Success      0.0   \n",
              "\n",
              "   param_balancing:strategy param_classifier:__choice__  \\\n",
              "11                     none                         mlp   \n",
              "12                weighting                         mlp   \n",
              "14                weighting         k_nearest_neighbors   \n",
              "7                      none           gradient_boosting   \n",
              "16                weighting          passive_aggressive   \n",
              "\n",
              "   param_data_preprocessor:__choice__ param_feature_preprocessor:__choice__  \\\n",
              "11                       feature_type                 feature_agglomeration   \n",
              "12                       feature_type                 feature_agglomeration   \n",
              "14                       feature_type                              fast_ica   \n",
              "7                        feature_type                      no_preprocessing   \n",
              "16                       feature_type                         kitchen_sinks   \n",
              "\n",
              "    ...  \\\n",
              "11  ...   \n",
              "12  ...   \n",
              "14  ...   \n",
              "7   ...   \n",
              "16  ...   \n",
              "\n",
              "   param_data_preprocessor:feature_type:numerical_transformer:rescaling:robust_scaler:q_max  \\\n",
              "11                                                NaN                                         \n",
              "12                                                NaN                                         \n",
              "14                                                NaN                                         \n",
              "7                                                 NaN                                         \n",
              "16                                           0.920145                                         \n",
              "\n",
              "    param_data_preprocessor:feature_type:numerical_transformer:rescaling:robust_scaler:q_min  \\\n",
              "11                                                NaN                                          \n",
              "12                                                NaN                                          \n",
              "14                                                NaN                                          \n",
              "7                                                 NaN                                          \n",
              "16                                           0.011024                                          \n",
              "\n",
              "    param_feature_preprocessor:fast_ica:n_components  \\\n",
              "11                                               NaN   \n",
              "12                                               NaN   \n",
              "14                                               NaN   \n",
              "7                                                NaN   \n",
              "16                                               NaN   \n",
              "\n",
              "    param_feature_preprocessor:kernel_pca:coef0  \\\n",
              "11                                          NaN   \n",
              "12                                          NaN   \n",
              "14                                          NaN   \n",
              "7                                           NaN   \n",
              "16                                          NaN   \n",
              "\n",
              "    param_feature_preprocessor:kernel_pca:degree  \\\n",
              "11                                           NaN   \n",
              "12                                           NaN   \n",
              "14                                           NaN   \n",
              "7                                            NaN   \n",
              "16                                           NaN   \n",
              "\n",
              "    param_feature_preprocessor:kernel_pca:gamma  \\\n",
              "11                                          NaN   \n",
              "12                                          NaN   \n",
              "14                                          NaN   \n",
              "7                                           NaN   \n",
              "16                                          NaN   \n",
              "\n",
              "    param_feature_preprocessor:nystroem_sampler:coef0  \\\n",
              "11                                                NaN   \n",
              "12                                                NaN   \n",
              "14                                                NaN   \n",
              "7                                                 NaN   \n",
              "16                                                NaN   \n",
              "\n",
              "    param_feature_preprocessor:nystroem_sampler:degree  \\\n",
              "11                                                NaN    \n",
              "12                                                NaN    \n",
              "14                                                NaN    \n",
              "7                                                 NaN    \n",
              "16                                                NaN    \n",
              "\n",
              "    param_feature_preprocessor:nystroem_sampler:gamma  \\\n",
              "11                                                NaN   \n",
              "12                                                NaN   \n",
              "14                                                NaN   \n",
              "7                                                 NaN   \n",
              "16                                                NaN   \n",
              "\n",
              "    param_feature_preprocessor:select_rates_classification:mode  \n",
              "11                                                NaN            \n",
              "12                                                NaN            \n",
              "14                                                NaN            \n",
              "7                                                 NaN            \n",
              "16                                                NaN            \n",
              "\n",
              "[5 rows x 171 columns]"
            ],
            "text/html": [
              "\n",
              "  <div id=\"df-5f3f0a38-8268-4c56-b494-7de22a72988e\">\n",
              "    <div class=\"colab-df-container\">\n",
              "      <div>\n",
              "<style scoped>\n",
              "    .dataframe tbody tr th:only-of-type {\n",
              "        vertical-align: middle;\n",
              "    }\n",
              "\n",
              "    .dataframe tbody tr th {\n",
              "        vertical-align: top;\n",
              "    }\n",
              "\n",
              "    .dataframe thead th {\n",
              "        text-align: right;\n",
              "    }\n",
              "</style>\n",
              "<table border=\"1\" class=\"dataframe\">\n",
              "  <thead>\n",
              "    <tr style=\"text-align: right;\">\n",
              "      <th></th>\n",
              "      <th>mean_test_score</th>\n",
              "      <th>rank_test_scores</th>\n",
              "      <th>mean_fit_time</th>\n",
              "      <th>params</th>\n",
              "      <th>status</th>\n",
              "      <th>budgets</th>\n",
              "      <th>param_balancing:strategy</th>\n",
              "      <th>param_classifier:__choice__</th>\n",
              "      <th>param_data_preprocessor:__choice__</th>\n",
              "      <th>param_feature_preprocessor:__choice__</th>\n",
              "      <th>...</th>\n",
              "      <th>param_data_preprocessor:feature_type:numerical_transformer:rescaling:robust_scaler:q_max</th>\n",
              "      <th>param_data_preprocessor:feature_type:numerical_transformer:rescaling:robust_scaler:q_min</th>\n",
              "      <th>param_feature_preprocessor:fast_ica:n_components</th>\n",
              "      <th>param_feature_preprocessor:kernel_pca:coef0</th>\n",
              "      <th>param_feature_preprocessor:kernel_pca:degree</th>\n",
              "      <th>param_feature_preprocessor:kernel_pca:gamma</th>\n",
              "      <th>param_feature_preprocessor:nystroem_sampler:coef0</th>\n",
              "      <th>param_feature_preprocessor:nystroem_sampler:degree</th>\n",
              "      <th>param_feature_preprocessor:nystroem_sampler:gamma</th>\n",
              "      <th>param_feature_preprocessor:select_rates_classification:mode</th>\n",
              "    </tr>\n",
              "  </thead>\n",
              "  <tbody>\n",
              "    <tr>\n",
              "      <th>11</th>\n",
              "      <td>0.593371</td>\n",
              "      <td>1</td>\n",
              "      <td>13.209208</td>\n",
              "      <td>{'balancing:strategy': 'none', 'classifier:__c...</td>\n",
              "      <td>Success</td>\n",
              "      <td>0.0</td>\n",
              "      <td>none</td>\n",
              "      <td>mlp</td>\n",
              "      <td>feature_type</td>\n",
              "      <td>feature_agglomeration</td>\n",
              "      <td>...</td>\n",
              "      <td>NaN</td>\n",
              "      <td>NaN</td>\n",
              "      <td>NaN</td>\n",
              "      <td>NaN</td>\n",
              "      <td>NaN</td>\n",
              "      <td>NaN</td>\n",
              "      <td>NaN</td>\n",
              "      <td>NaN</td>\n",
              "      <td>NaN</td>\n",
              "      <td>NaN</td>\n",
              "    </tr>\n",
              "    <tr>\n",
              "      <th>12</th>\n",
              "      <td>0.592235</td>\n",
              "      <td>2</td>\n",
              "      <td>30.638166</td>\n",
              "      <td>{'balancing:strategy': 'weighting', 'classifie...</td>\n",
              "      <td>Success</td>\n",
              "      <td>0.0</td>\n",
              "      <td>weighting</td>\n",
              "      <td>mlp</td>\n",
              "      <td>feature_type</td>\n",
              "      <td>feature_agglomeration</td>\n",
              "      <td>...</td>\n",
              "      <td>NaN</td>\n",
              "      <td>NaN</td>\n",
              "      <td>NaN</td>\n",
              "      <td>NaN</td>\n",
              "      <td>NaN</td>\n",
              "      <td>NaN</td>\n",
              "      <td>NaN</td>\n",
              "      <td>NaN</td>\n",
              "      <td>NaN</td>\n",
              "      <td>NaN</td>\n",
              "    </tr>\n",
              "    <tr>\n",
              "      <th>14</th>\n",
              "      <td>0.591098</td>\n",
              "      <td>3</td>\n",
              "      <td>58.748677</td>\n",
              "      <td>{'balancing:strategy': 'weighting', 'classifie...</td>\n",
              "      <td>Success</td>\n",
              "      <td>0.0</td>\n",
              "      <td>weighting</td>\n",
              "      <td>k_nearest_neighbors</td>\n",
              "      <td>feature_type</td>\n",
              "      <td>fast_ica</td>\n",
              "      <td>...</td>\n",
              "      <td>NaN</td>\n",
              "      <td>NaN</td>\n",
              "      <td>NaN</td>\n",
              "      <td>NaN</td>\n",
              "      <td>NaN</td>\n",
              "      <td>NaN</td>\n",
              "      <td>NaN</td>\n",
              "      <td>NaN</td>\n",
              "      <td>NaN</td>\n",
              "      <td>NaN</td>\n",
              "    </tr>\n",
              "    <tr>\n",
              "      <th>7</th>\n",
              "      <td>0.590720</td>\n",
              "      <td>4</td>\n",
              "      <td>12.936483</td>\n",
              "      <td>{'balancing:strategy': 'none', 'classifier:__c...</td>\n",
              "      <td>Success</td>\n",
              "      <td>0.0</td>\n",
              "      <td>none</td>\n",
              "      <td>gradient_boosting</td>\n",
              "      <td>feature_type</td>\n",
              "      <td>no_preprocessing</td>\n",
              "      <td>...</td>\n",
              "      <td>NaN</td>\n",
              "      <td>NaN</td>\n",
              "      <td>NaN</td>\n",
              "      <td>NaN</td>\n",
              "      <td>NaN</td>\n",
              "      <td>NaN</td>\n",
              "      <td>NaN</td>\n",
              "      <td>NaN</td>\n",
              "      <td>NaN</td>\n",
              "      <td>NaN</td>\n",
              "    </tr>\n",
              "    <tr>\n",
              "      <th>16</th>\n",
              "      <td>0.587500</td>\n",
              "      <td>5</td>\n",
              "      <td>2.313402</td>\n",
              "      <td>{'balancing:strategy': 'weighting', 'classifie...</td>\n",
              "      <td>Success</td>\n",
              "      <td>0.0</td>\n",
              "      <td>weighting</td>\n",
              "      <td>passive_aggressive</td>\n",
              "      <td>feature_type</td>\n",
              "      <td>kitchen_sinks</td>\n",
              "      <td>...</td>\n",
              "      <td>0.920145</td>\n",
              "      <td>0.011024</td>\n",
              "      <td>NaN</td>\n",
              "      <td>NaN</td>\n",
              "      <td>NaN</td>\n",
              "      <td>NaN</td>\n",
              "      <td>NaN</td>\n",
              "      <td>NaN</td>\n",
              "      <td>NaN</td>\n",
              "      <td>NaN</td>\n",
              "    </tr>\n",
              "  </tbody>\n",
              "</table>\n",
              "<p>5 rows × 171 columns</p>\n",
              "</div>\n",
              "      <button class=\"colab-df-convert\" onclick=\"convertToInteractive('df-5f3f0a38-8268-4c56-b494-7de22a72988e')\"\n",
              "              title=\"Convert this dataframe to an interactive table.\"\n",
              "              style=\"display:none;\">\n",
              "        \n",
              "  <svg xmlns=\"http://www.w3.org/2000/svg\" height=\"24px\"viewBox=\"0 0 24 24\"\n",
              "       width=\"24px\">\n",
              "    <path d=\"M0 0h24v24H0V0z\" fill=\"none\"/>\n",
              "    <path d=\"M18.56 5.44l.94 2.06.94-2.06 2.06-.94-2.06-.94-.94-2.06-.94 2.06-2.06.94zm-11 1L8.5 8.5l.94-2.06 2.06-.94-2.06-.94L8.5 2.5l-.94 2.06-2.06.94zm10 10l.94 2.06.94-2.06 2.06-.94-2.06-.94-.94-2.06-.94 2.06-2.06.94z\"/><path d=\"M17.41 7.96l-1.37-1.37c-.4-.4-.92-.59-1.43-.59-.52 0-1.04.2-1.43.59L10.3 9.45l-7.72 7.72c-.78.78-.78 2.05 0 2.83L4 21.41c.39.39.9.59 1.41.59.51 0 1.02-.2 1.41-.59l7.78-7.78 2.81-2.81c.8-.78.8-2.07 0-2.86zM5.41 20L4 18.59l7.72-7.72 1.47 1.35L5.41 20z\"/>\n",
              "  </svg>\n",
              "      </button>\n",
              "      \n",
              "  <style>\n",
              "    .colab-df-container {\n",
              "      display:flex;\n",
              "      flex-wrap:wrap;\n",
              "      gap: 12px;\n",
              "    }\n",
              "\n",
              "    .colab-df-convert {\n",
              "      background-color: #E8F0FE;\n",
              "      border: none;\n",
              "      border-radius: 50%;\n",
              "      cursor: pointer;\n",
              "      display: none;\n",
              "      fill: #1967D2;\n",
              "      height: 32px;\n",
              "      padding: 0 0 0 0;\n",
              "      width: 32px;\n",
              "    }\n",
              "\n",
              "    .colab-df-convert:hover {\n",
              "      background-color: #E2EBFA;\n",
              "      box-shadow: 0px 1px 2px rgba(60, 64, 67, 0.3), 0px 1px 3px 1px rgba(60, 64, 67, 0.15);\n",
              "      fill: #174EA6;\n",
              "    }\n",
              "\n",
              "    [theme=dark] .colab-df-convert {\n",
              "      background-color: #3B4455;\n",
              "      fill: #D2E3FC;\n",
              "    }\n",
              "\n",
              "    [theme=dark] .colab-df-convert:hover {\n",
              "      background-color: #434B5C;\n",
              "      box-shadow: 0px 1px 3px 1px rgba(0, 0, 0, 0.15);\n",
              "      filter: drop-shadow(0px 1px 2px rgba(0, 0, 0, 0.3));\n",
              "      fill: #FFFFFF;\n",
              "    }\n",
              "  </style>\n",
              "\n",
              "      <script>\n",
              "        const buttonEl =\n",
              "          document.querySelector('#df-5f3f0a38-8268-4c56-b494-7de22a72988e button.colab-df-convert');\n",
              "        buttonEl.style.display =\n",
              "          google.colab.kernel.accessAllowed ? 'block' : 'none';\n",
              "\n",
              "        async function convertToInteractive(key) {\n",
              "          const element = document.querySelector('#df-5f3f0a38-8268-4c56-b494-7de22a72988e');\n",
              "          const dataTable =\n",
              "            await google.colab.kernel.invokeFunction('convertToInteractive',\n",
              "                                                     [key], {});\n",
              "          if (!dataTable) return;\n",
              "\n",
              "          const docLinkHtml = 'Like what you see? Visit the ' +\n",
              "            '<a target=\"_blank\" href=https://colab.research.google.com/notebooks/data_table.ipynb>data table notebook</a>'\n",
              "            + ' to learn more about interactive tables.';\n",
              "          element.innerHTML = '';\n",
              "          dataTable['output_type'] = 'display_data';\n",
              "          await google.colab.output.renderOutput(dataTable, element);\n",
              "          const docLink = document.createElement('div');\n",
              "          docLink.innerHTML = docLinkHtml;\n",
              "          element.appendChild(docLink);\n",
              "        }\n",
              "      </script>\n",
              "    </div>\n",
              "  </div>\n",
              "  "
            ]
          },
          "metadata": {},
          "execution_count": 15
        }
      ]
    },
    {
      "cell_type": "markdown",
      "source": [
        "El autoclasificador se va por una dirección similar de la contraparte, ajustando un clasificador basado en perceptrones multi capa, aunque la eleccion de atributos aparece un método llamado \"agglomeration\" el cual genera clusters de las caracteristicas. Finalmente alcanza un accuracy prácticamente a su contraparte, tomando el valor de .593."
      ],
      "metadata": {
        "id": "JDYt-oMw_3OK"
      }
    },
    {
      "cell_type": "markdown",
      "source": [
        "####BOW"
      ],
      "metadata": {
        "id": "BfdR1NiMw0Zx"
      }
    },
    {
      "cell_type": "markdown",
      "source": [
        "Representacion con 200 eleeementos"
      ],
      "metadata": {
        "id": "D1AkyctMw2K3"
      }
    },
    {
      "cell_type": "code",
      "source": [
        "cls = autosklearn.classification.AutoSklearnClassifier(time_left_for_this_task=600)\n",
        "cls.fit(X_train_BOW200, Y_train)\n",
        "predictions_b200 = cls.predict(X_test_BOW200)\n",
        "MSE_BOW200=mean_squared_error(Y_test, predictions_b200)"
      ],
      "metadata": {
        "id": "ZsMOw9YVVIvF"
      },
      "execution_count": null,
      "outputs": []
    },
    {
      "cell_type": "code",
      "source": [
        "df_cv_results_b200 = pd.DataFrame(cls.cv_results_).sort_values(by = 'mean_test_score', ascending = False)\n",
        "df_cv_results_b200.head()"
      ],
      "metadata": {
        "colab": {
          "base_uri": "https://localhost:8080/",
          "height": 473
        },
        "id": "6HXB7C1HVJDx",
        "outputId": "2173fbf8-389f-49c1-a29b-983490b50f8b"
      },
      "execution_count": null,
      "outputs": [
        {
          "output_type": "execute_result",
          "data": {
            "text/plain": [
              "    mean_test_score  rank_test_scores  mean_fit_time  \\\n",
              "0          0.733333                 1      24.683450   \n",
              "18         0.726136                 2       9.249429   \n",
              "14         0.716856                 3       2.517016   \n",
              "20         0.712879                 4      34.150618   \n",
              "21         0.695833                 5      39.665638   \n",
              "\n",
              "                                               params   status  budgets  \\\n",
              "0   {'balancing:strategy': 'none', 'classifier:__c...  Success      0.0   \n",
              "18  {'balancing:strategy': 'none', 'classifier:__c...  Success      0.0   \n",
              "14  {'balancing:strategy': 'weighting', 'classifie...  Success      0.0   \n",
              "20  {'balancing:strategy': 'none', 'classifier:__c...  Success      0.0   \n",
              "21  {'balancing:strategy': 'weighting', 'classifie...  Success      0.0   \n",
              "\n",
              "   param_balancing:strategy param_classifier:__choice__  \\\n",
              "0                      none               random_forest   \n",
              "18                     none           gradient_boosting   \n",
              "14                weighting                         lda   \n",
              "20                     none           gradient_boosting   \n",
              "21                weighting               random_forest   \n",
              "\n",
              "   param_data_preprocessor:__choice__   param_feature_preprocessor:__choice__  \\\n",
              "0                        feature_type                        no_preprocessing   \n",
              "18                       feature_type                        no_preprocessing   \n",
              "14                       feature_type              liblinear_svc_preprocessor   \n",
              "20                       feature_type                        no_preprocessing   \n",
              "21                       feature_type  extra_trees_preproc_for_classification   \n",
              "\n",
              "    ...  \\\n",
              "0   ...   \n",
              "18  ...   \n",
              "14  ...   \n",
              "20  ...   \n",
              "21  ...   \n",
              "\n",
              "   param_data_preprocessor:feature_type:numerical_transformer:rescaling:robust_scaler:q_max  \\\n",
              "0                                                 NaN                                         \n",
              "18                                                NaN                                         \n",
              "14                                                NaN                                         \n",
              "20                                               0.75                                         \n",
              "21                                                NaN                                         \n",
              "\n",
              "    param_data_preprocessor:feature_type:numerical_transformer:rescaling:robust_scaler:q_min  \\\n",
              "0                                                 NaN                                          \n",
              "18                                                NaN                                          \n",
              "14                                                NaN                                          \n",
              "20                                            0.23747                                          \n",
              "21                                                NaN                                          \n",
              "\n",
              "    param_feature_preprocessor:fast_ica:n_components  \\\n",
              "0                                                NaN   \n",
              "18                                               NaN   \n",
              "14                                               NaN   \n",
              "20                                               NaN   \n",
              "21                                               NaN   \n",
              "\n",
              "    param_feature_preprocessor:kernel_pca:coef0  \\\n",
              "0                                           NaN   \n",
              "18                                          NaN   \n",
              "14                                          NaN   \n",
              "20                                          NaN   \n",
              "21                                          NaN   \n",
              "\n",
              "    param_feature_preprocessor:kernel_pca:degree  \\\n",
              "0                                            NaN   \n",
              "18                                           NaN   \n",
              "14                                           NaN   \n",
              "20                                           NaN   \n",
              "21                                           NaN   \n",
              "\n",
              "    param_feature_preprocessor:kernel_pca:gamma  \\\n",
              "0                                           NaN   \n",
              "18                                          NaN   \n",
              "14                                          NaN   \n",
              "20                                          NaN   \n",
              "21                                          NaN   \n",
              "\n",
              "    param_feature_preprocessor:nystroem_sampler:coef0  \\\n",
              "0                                                 NaN   \n",
              "18                                                NaN   \n",
              "14                                                NaN   \n",
              "20                                                NaN   \n",
              "21                                                NaN   \n",
              "\n",
              "    param_feature_preprocessor:nystroem_sampler:degree  \\\n",
              "0                                                 NaN    \n",
              "18                                                NaN    \n",
              "14                                                NaN    \n",
              "20                                                NaN    \n",
              "21                                                NaN    \n",
              "\n",
              "    param_feature_preprocessor:nystroem_sampler:gamma  \\\n",
              "0                                                 NaN   \n",
              "18                                                NaN   \n",
              "14                                                NaN   \n",
              "20                                                NaN   \n",
              "21                                                NaN   \n",
              "\n",
              "    param_feature_preprocessor:select_rates_classification:mode  \n",
              "0                                                 NaN            \n",
              "18                                                NaN            \n",
              "14                                                NaN            \n",
              "20                                                NaN            \n",
              "21                                                NaN            \n",
              "\n",
              "[5 rows x 171 columns]"
            ],
            "text/html": [
              "\n",
              "  <div id=\"df-f2e28803-6959-4518-8487-ad6cec301eb9\">\n",
              "    <div class=\"colab-df-container\">\n",
              "      <div>\n",
              "<style scoped>\n",
              "    .dataframe tbody tr th:only-of-type {\n",
              "        vertical-align: middle;\n",
              "    }\n",
              "\n",
              "    .dataframe tbody tr th {\n",
              "        vertical-align: top;\n",
              "    }\n",
              "\n",
              "    .dataframe thead th {\n",
              "        text-align: right;\n",
              "    }\n",
              "</style>\n",
              "<table border=\"1\" class=\"dataframe\">\n",
              "  <thead>\n",
              "    <tr style=\"text-align: right;\">\n",
              "      <th></th>\n",
              "      <th>mean_test_score</th>\n",
              "      <th>rank_test_scores</th>\n",
              "      <th>mean_fit_time</th>\n",
              "      <th>params</th>\n",
              "      <th>status</th>\n",
              "      <th>budgets</th>\n",
              "      <th>param_balancing:strategy</th>\n",
              "      <th>param_classifier:__choice__</th>\n",
              "      <th>param_data_preprocessor:__choice__</th>\n",
              "      <th>param_feature_preprocessor:__choice__</th>\n",
              "      <th>...</th>\n",
              "      <th>param_data_preprocessor:feature_type:numerical_transformer:rescaling:robust_scaler:q_max</th>\n",
              "      <th>param_data_preprocessor:feature_type:numerical_transformer:rescaling:robust_scaler:q_min</th>\n",
              "      <th>param_feature_preprocessor:fast_ica:n_components</th>\n",
              "      <th>param_feature_preprocessor:kernel_pca:coef0</th>\n",
              "      <th>param_feature_preprocessor:kernel_pca:degree</th>\n",
              "      <th>param_feature_preprocessor:kernel_pca:gamma</th>\n",
              "      <th>param_feature_preprocessor:nystroem_sampler:coef0</th>\n",
              "      <th>param_feature_preprocessor:nystroem_sampler:degree</th>\n",
              "      <th>param_feature_preprocessor:nystroem_sampler:gamma</th>\n",
              "      <th>param_feature_preprocessor:select_rates_classification:mode</th>\n",
              "    </tr>\n",
              "  </thead>\n",
              "  <tbody>\n",
              "    <tr>\n",
              "      <th>0</th>\n",
              "      <td>0.733333</td>\n",
              "      <td>1</td>\n",
              "      <td>24.683450</td>\n",
              "      <td>{'balancing:strategy': 'none', 'classifier:__c...</td>\n",
              "      <td>Success</td>\n",
              "      <td>0.0</td>\n",
              "      <td>none</td>\n",
              "      <td>random_forest</td>\n",
              "      <td>feature_type</td>\n",
              "      <td>no_preprocessing</td>\n",
              "      <td>...</td>\n",
              "      <td>NaN</td>\n",
              "      <td>NaN</td>\n",
              "      <td>NaN</td>\n",
              "      <td>NaN</td>\n",
              "      <td>NaN</td>\n",
              "      <td>NaN</td>\n",
              "      <td>NaN</td>\n",
              "      <td>NaN</td>\n",
              "      <td>NaN</td>\n",
              "      <td>NaN</td>\n",
              "    </tr>\n",
              "    <tr>\n",
              "      <th>18</th>\n",
              "      <td>0.726136</td>\n",
              "      <td>2</td>\n",
              "      <td>9.249429</td>\n",
              "      <td>{'balancing:strategy': 'none', 'classifier:__c...</td>\n",
              "      <td>Success</td>\n",
              "      <td>0.0</td>\n",
              "      <td>none</td>\n",
              "      <td>gradient_boosting</td>\n",
              "      <td>feature_type</td>\n",
              "      <td>no_preprocessing</td>\n",
              "      <td>...</td>\n",
              "      <td>NaN</td>\n",
              "      <td>NaN</td>\n",
              "      <td>NaN</td>\n",
              "      <td>NaN</td>\n",
              "      <td>NaN</td>\n",
              "      <td>NaN</td>\n",
              "      <td>NaN</td>\n",
              "      <td>NaN</td>\n",
              "      <td>NaN</td>\n",
              "      <td>NaN</td>\n",
              "    </tr>\n",
              "    <tr>\n",
              "      <th>14</th>\n",
              "      <td>0.716856</td>\n",
              "      <td>3</td>\n",
              "      <td>2.517016</td>\n",
              "      <td>{'balancing:strategy': 'weighting', 'classifie...</td>\n",
              "      <td>Success</td>\n",
              "      <td>0.0</td>\n",
              "      <td>weighting</td>\n",
              "      <td>lda</td>\n",
              "      <td>feature_type</td>\n",
              "      <td>liblinear_svc_preprocessor</td>\n",
              "      <td>...</td>\n",
              "      <td>NaN</td>\n",
              "      <td>NaN</td>\n",
              "      <td>NaN</td>\n",
              "      <td>NaN</td>\n",
              "      <td>NaN</td>\n",
              "      <td>NaN</td>\n",
              "      <td>NaN</td>\n",
              "      <td>NaN</td>\n",
              "      <td>NaN</td>\n",
              "      <td>NaN</td>\n",
              "    </tr>\n",
              "    <tr>\n",
              "      <th>20</th>\n",
              "      <td>0.712879</td>\n",
              "      <td>4</td>\n",
              "      <td>34.150618</td>\n",
              "      <td>{'balancing:strategy': 'none', 'classifier:__c...</td>\n",
              "      <td>Success</td>\n",
              "      <td>0.0</td>\n",
              "      <td>none</td>\n",
              "      <td>gradient_boosting</td>\n",
              "      <td>feature_type</td>\n",
              "      <td>no_preprocessing</td>\n",
              "      <td>...</td>\n",
              "      <td>0.75</td>\n",
              "      <td>0.23747</td>\n",
              "      <td>NaN</td>\n",
              "      <td>NaN</td>\n",
              "      <td>NaN</td>\n",
              "      <td>NaN</td>\n",
              "      <td>NaN</td>\n",
              "      <td>NaN</td>\n",
              "      <td>NaN</td>\n",
              "      <td>NaN</td>\n",
              "    </tr>\n",
              "    <tr>\n",
              "      <th>21</th>\n",
              "      <td>0.695833</td>\n",
              "      <td>5</td>\n",
              "      <td>39.665638</td>\n",
              "      <td>{'balancing:strategy': 'weighting', 'classifie...</td>\n",
              "      <td>Success</td>\n",
              "      <td>0.0</td>\n",
              "      <td>weighting</td>\n",
              "      <td>random_forest</td>\n",
              "      <td>feature_type</td>\n",
              "      <td>extra_trees_preproc_for_classification</td>\n",
              "      <td>...</td>\n",
              "      <td>NaN</td>\n",
              "      <td>NaN</td>\n",
              "      <td>NaN</td>\n",
              "      <td>NaN</td>\n",
              "      <td>NaN</td>\n",
              "      <td>NaN</td>\n",
              "      <td>NaN</td>\n",
              "      <td>NaN</td>\n",
              "      <td>NaN</td>\n",
              "      <td>NaN</td>\n",
              "    </tr>\n",
              "  </tbody>\n",
              "</table>\n",
              "<p>5 rows × 171 columns</p>\n",
              "</div>\n",
              "      <button class=\"colab-df-convert\" onclick=\"convertToInteractive('df-f2e28803-6959-4518-8487-ad6cec301eb9')\"\n",
              "              title=\"Convert this dataframe to an interactive table.\"\n",
              "              style=\"display:none;\">\n",
              "        \n",
              "  <svg xmlns=\"http://www.w3.org/2000/svg\" height=\"24px\"viewBox=\"0 0 24 24\"\n",
              "       width=\"24px\">\n",
              "    <path d=\"M0 0h24v24H0V0z\" fill=\"none\"/>\n",
              "    <path d=\"M18.56 5.44l.94 2.06.94-2.06 2.06-.94-2.06-.94-.94-2.06-.94 2.06-2.06.94zm-11 1L8.5 8.5l.94-2.06 2.06-.94-2.06-.94L8.5 2.5l-.94 2.06-2.06.94zm10 10l.94 2.06.94-2.06 2.06-.94-2.06-.94-.94-2.06-.94 2.06-2.06.94z\"/><path d=\"M17.41 7.96l-1.37-1.37c-.4-.4-.92-.59-1.43-.59-.52 0-1.04.2-1.43.59L10.3 9.45l-7.72 7.72c-.78.78-.78 2.05 0 2.83L4 21.41c.39.39.9.59 1.41.59.51 0 1.02-.2 1.41-.59l7.78-7.78 2.81-2.81c.8-.78.8-2.07 0-2.86zM5.41 20L4 18.59l7.72-7.72 1.47 1.35L5.41 20z\"/>\n",
              "  </svg>\n",
              "      </button>\n",
              "      \n",
              "  <style>\n",
              "    .colab-df-container {\n",
              "      display:flex;\n",
              "      flex-wrap:wrap;\n",
              "      gap: 12px;\n",
              "    }\n",
              "\n",
              "    .colab-df-convert {\n",
              "      background-color: #E8F0FE;\n",
              "      border: none;\n",
              "      border-radius: 50%;\n",
              "      cursor: pointer;\n",
              "      display: none;\n",
              "      fill: #1967D2;\n",
              "      height: 32px;\n",
              "      padding: 0 0 0 0;\n",
              "      width: 32px;\n",
              "    }\n",
              "\n",
              "    .colab-df-convert:hover {\n",
              "      background-color: #E2EBFA;\n",
              "      box-shadow: 0px 1px 2px rgba(60, 64, 67, 0.3), 0px 1px 3px 1px rgba(60, 64, 67, 0.15);\n",
              "      fill: #174EA6;\n",
              "    }\n",
              "\n",
              "    [theme=dark] .colab-df-convert {\n",
              "      background-color: #3B4455;\n",
              "      fill: #D2E3FC;\n",
              "    }\n",
              "\n",
              "    [theme=dark] .colab-df-convert:hover {\n",
              "      background-color: #434B5C;\n",
              "      box-shadow: 0px 1px 3px 1px rgba(0, 0, 0, 0.15);\n",
              "      filter: drop-shadow(0px 1px 2px rgba(0, 0, 0, 0.3));\n",
              "      fill: #FFFFFF;\n",
              "    }\n",
              "  </style>\n",
              "\n",
              "      <script>\n",
              "        const buttonEl =\n",
              "          document.querySelector('#df-f2e28803-6959-4518-8487-ad6cec301eb9 button.colab-df-convert');\n",
              "        buttonEl.style.display =\n",
              "          google.colab.kernel.accessAllowed ? 'block' : 'none';\n",
              "\n",
              "        async function convertToInteractive(key) {\n",
              "          const element = document.querySelector('#df-f2e28803-6959-4518-8487-ad6cec301eb9');\n",
              "          const dataTable =\n",
              "            await google.colab.kernel.invokeFunction('convertToInteractive',\n",
              "                                                     [key], {});\n",
              "          if (!dataTable) return;\n",
              "\n",
              "          const docLinkHtml = 'Like what you see? Visit the ' +\n",
              "            '<a target=\"_blank\" href=https://colab.research.google.com/notebooks/data_table.ipynb>data table notebook</a>'\n",
              "            + ' to learn more about interactive tables.';\n",
              "          element.innerHTML = '';\n",
              "          dataTable['output_type'] = 'display_data';\n",
              "          await google.colab.output.renderOutput(dataTable, element);\n",
              "          const docLink = document.createElement('div');\n",
              "          docLink.innerHTML = docLinkHtml;\n",
              "          element.appendChild(docLink);\n",
              "        }\n",
              "      </script>\n",
              "    </div>\n",
              "  </div>\n",
              "  "
            ]
          },
          "metadata": {},
          "execution_count": 17
        }
      ]
    },
    {
      "cell_type": "markdown",
      "source": [
        "Con esto comprobamos que no es coincidencia que el algoritmo se mueva en cierta dirección, en este caso a la representación BOW de dimension 200 se pasa sin ningun tratamiento y se le ajusta un Random Forest, alcanzando un accuracy de .73 máximo."
      ],
      "metadata": {
        "id": "2IDMizvRAvoA"
      }
    },
    {
      "cell_type": "markdown",
      "source": [
        "Representación con 500 elementos"
      ],
      "metadata": {
        "id": "2IsKbjwUxC23"
      }
    },
    {
      "cell_type": "code",
      "source": [
        "cls = autosklearn.classification.AutoSklearnClassifier(time_left_for_this_task=600)\n",
        "cls.fit(X_train_BOW500, Y_train)\n",
        "predictions_b500= cls.predict(X_test_BOW500)\n",
        "MSE_BOW500=mean_squared_error(Y_test,predictions_b500)"
      ],
      "metadata": {
        "id": "bDxkMFlmVLYV"
      },
      "execution_count": null,
      "outputs": []
    },
    {
      "cell_type": "code",
      "source": [
        "df_cv_results_b500 = pd.DataFrame(cls.cv_results_).sort_values(by = 'mean_test_score', ascending = False)\n",
        "df_cv_results_b500.head()"
      ],
      "metadata": {
        "colab": {
          "base_uri": "https://localhost:8080/",
          "height": 473
        },
        "id": "WFi65_04VOoX",
        "outputId": "b4f198ae-330a-4e3b-8962-a7abf733da50"
      },
      "execution_count": null,
      "outputs": [
        {
          "output_type": "execute_result",
          "data": {
            "text/plain": [
              "    mean_test_score  rank_test_scores  mean_fit_time  \\\n",
              "0          0.742803                 1      40.349322   \n",
              "13         0.738826                 2      31.507595   \n",
              "18         0.725379                 3       4.431453   \n",
              "7          0.695265                 4      52.563444   \n",
              "6          0.693371                 5      29.847318   \n",
              "\n",
              "                                               params   status  budgets  \\\n",
              "0   {'balancing:strategy': 'none', 'classifier:__c...  Success      0.0   \n",
              "13  {'balancing:strategy': 'none', 'classifier:__c...  Success      0.0   \n",
              "18  {'balancing:strategy': 'weighting', 'classifie...  Success      0.0   \n",
              "7   {'balancing:strategy': 'weighting', 'classifie...  Success      0.0   \n",
              "6   {'balancing:strategy': 'none', 'classifier:__c...  Success      0.0   \n",
              "\n",
              "   param_balancing:strategy param_classifier:__choice__  \\\n",
              "0                      none               random_forest   \n",
              "13                     none               random_forest   \n",
              "18                weighting                         lda   \n",
              "7                 weighting                         mlp   \n",
              "6                      none                    adaboost   \n",
              "\n",
              "   param_data_preprocessor:__choice__   param_feature_preprocessor:__choice__  \\\n",
              "0                        feature_type                        no_preprocessing   \n",
              "13                       feature_type                   feature_agglomeration   \n",
              "18                       feature_type              liblinear_svc_preprocessor   \n",
              "7                        feature_type  extra_trees_preproc_for_classification   \n",
              "6                        feature_type                        no_preprocessing   \n",
              "\n",
              "    ...  \\\n",
              "0   ...   \n",
              "13  ...   \n",
              "18  ...   \n",
              "7   ...   \n",
              "6   ...   \n",
              "\n",
              "   param_data_preprocessor:feature_type:numerical_transformer:rescaling:robust_scaler:q_max  \\\n",
              "0                                                 NaN                                         \n",
              "13                                                NaN                                         \n",
              "18                                                NaN                                         \n",
              "7                                                 NaN                                         \n",
              "6                                                 NaN                                         \n",
              "\n",
              "    param_data_preprocessor:feature_type:numerical_transformer:rescaling:robust_scaler:q_min  \\\n",
              "0                                                 NaN                                          \n",
              "13                                                NaN                                          \n",
              "18                                                NaN                                          \n",
              "7                                                 NaN                                          \n",
              "6                                                 NaN                                          \n",
              "\n",
              "    param_feature_preprocessor:fast_ica:n_components  \\\n",
              "0                                                NaN   \n",
              "13                                               NaN   \n",
              "18                                               NaN   \n",
              "7                                                NaN   \n",
              "6                                                NaN   \n",
              "\n",
              "    param_feature_preprocessor:kernel_pca:coef0  \\\n",
              "0                                           NaN   \n",
              "13                                          NaN   \n",
              "18                                          NaN   \n",
              "7                                           NaN   \n",
              "6                                           NaN   \n",
              "\n",
              "    param_feature_preprocessor:kernel_pca:degree  \\\n",
              "0                                            NaN   \n",
              "13                                           NaN   \n",
              "18                                           NaN   \n",
              "7                                            NaN   \n",
              "6                                            NaN   \n",
              "\n",
              "    param_feature_preprocessor:kernel_pca:gamma  \\\n",
              "0                                           NaN   \n",
              "13                                          NaN   \n",
              "18                                          NaN   \n",
              "7                                           NaN   \n",
              "6                                           NaN   \n",
              "\n",
              "    param_feature_preprocessor:nystroem_sampler:coef0  \\\n",
              "0                                                 NaN   \n",
              "13                                                NaN   \n",
              "18                                                NaN   \n",
              "7                                                 NaN   \n",
              "6                                                 NaN   \n",
              "\n",
              "    param_feature_preprocessor:nystroem_sampler:degree  \\\n",
              "0                                                 NaN    \n",
              "13                                                NaN    \n",
              "18                                                NaN    \n",
              "7                                                 NaN    \n",
              "6                                                 NaN    \n",
              "\n",
              "    param_feature_preprocessor:nystroem_sampler:gamma  \\\n",
              "0                                                 NaN   \n",
              "13                                                NaN   \n",
              "18                                                NaN   \n",
              "7                                                 NaN   \n",
              "6                                                 NaN   \n",
              "\n",
              "    param_feature_preprocessor:select_rates_classification:mode  \n",
              "0                                                 NaN            \n",
              "13                                                NaN            \n",
              "18                                                NaN            \n",
              "7                                                 NaN            \n",
              "6                                                 NaN            \n",
              "\n",
              "[5 rows x 171 columns]"
            ],
            "text/html": [
              "\n",
              "  <div id=\"df-c5108128-c606-4aa7-82d9-14f13250dcce\">\n",
              "    <div class=\"colab-df-container\">\n",
              "      <div>\n",
              "<style scoped>\n",
              "    .dataframe tbody tr th:only-of-type {\n",
              "        vertical-align: middle;\n",
              "    }\n",
              "\n",
              "    .dataframe tbody tr th {\n",
              "        vertical-align: top;\n",
              "    }\n",
              "\n",
              "    .dataframe thead th {\n",
              "        text-align: right;\n",
              "    }\n",
              "</style>\n",
              "<table border=\"1\" class=\"dataframe\">\n",
              "  <thead>\n",
              "    <tr style=\"text-align: right;\">\n",
              "      <th></th>\n",
              "      <th>mean_test_score</th>\n",
              "      <th>rank_test_scores</th>\n",
              "      <th>mean_fit_time</th>\n",
              "      <th>params</th>\n",
              "      <th>status</th>\n",
              "      <th>budgets</th>\n",
              "      <th>param_balancing:strategy</th>\n",
              "      <th>param_classifier:__choice__</th>\n",
              "      <th>param_data_preprocessor:__choice__</th>\n",
              "      <th>param_feature_preprocessor:__choice__</th>\n",
              "      <th>...</th>\n",
              "      <th>param_data_preprocessor:feature_type:numerical_transformer:rescaling:robust_scaler:q_max</th>\n",
              "      <th>param_data_preprocessor:feature_type:numerical_transformer:rescaling:robust_scaler:q_min</th>\n",
              "      <th>param_feature_preprocessor:fast_ica:n_components</th>\n",
              "      <th>param_feature_preprocessor:kernel_pca:coef0</th>\n",
              "      <th>param_feature_preprocessor:kernel_pca:degree</th>\n",
              "      <th>param_feature_preprocessor:kernel_pca:gamma</th>\n",
              "      <th>param_feature_preprocessor:nystroem_sampler:coef0</th>\n",
              "      <th>param_feature_preprocessor:nystroem_sampler:degree</th>\n",
              "      <th>param_feature_preprocessor:nystroem_sampler:gamma</th>\n",
              "      <th>param_feature_preprocessor:select_rates_classification:mode</th>\n",
              "    </tr>\n",
              "  </thead>\n",
              "  <tbody>\n",
              "    <tr>\n",
              "      <th>0</th>\n",
              "      <td>0.742803</td>\n",
              "      <td>1</td>\n",
              "      <td>40.349322</td>\n",
              "      <td>{'balancing:strategy': 'none', 'classifier:__c...</td>\n",
              "      <td>Success</td>\n",
              "      <td>0.0</td>\n",
              "      <td>none</td>\n",
              "      <td>random_forest</td>\n",
              "      <td>feature_type</td>\n",
              "      <td>no_preprocessing</td>\n",
              "      <td>...</td>\n",
              "      <td>NaN</td>\n",
              "      <td>NaN</td>\n",
              "      <td>NaN</td>\n",
              "      <td>NaN</td>\n",
              "      <td>NaN</td>\n",
              "      <td>NaN</td>\n",
              "      <td>NaN</td>\n",
              "      <td>NaN</td>\n",
              "      <td>NaN</td>\n",
              "      <td>NaN</td>\n",
              "    </tr>\n",
              "    <tr>\n",
              "      <th>13</th>\n",
              "      <td>0.738826</td>\n",
              "      <td>2</td>\n",
              "      <td>31.507595</td>\n",
              "      <td>{'balancing:strategy': 'none', 'classifier:__c...</td>\n",
              "      <td>Success</td>\n",
              "      <td>0.0</td>\n",
              "      <td>none</td>\n",
              "      <td>random_forest</td>\n",
              "      <td>feature_type</td>\n",
              "      <td>feature_agglomeration</td>\n",
              "      <td>...</td>\n",
              "      <td>NaN</td>\n",
              "      <td>NaN</td>\n",
              "      <td>NaN</td>\n",
              "      <td>NaN</td>\n",
              "      <td>NaN</td>\n",
              "      <td>NaN</td>\n",
              "      <td>NaN</td>\n",
              "      <td>NaN</td>\n",
              "      <td>NaN</td>\n",
              "      <td>NaN</td>\n",
              "    </tr>\n",
              "    <tr>\n",
              "      <th>18</th>\n",
              "      <td>0.725379</td>\n",
              "      <td>3</td>\n",
              "      <td>4.431453</td>\n",
              "      <td>{'balancing:strategy': 'weighting', 'classifie...</td>\n",
              "      <td>Success</td>\n",
              "      <td>0.0</td>\n",
              "      <td>weighting</td>\n",
              "      <td>lda</td>\n",
              "      <td>feature_type</td>\n",
              "      <td>liblinear_svc_preprocessor</td>\n",
              "      <td>...</td>\n",
              "      <td>NaN</td>\n",
              "      <td>NaN</td>\n",
              "      <td>NaN</td>\n",
              "      <td>NaN</td>\n",
              "      <td>NaN</td>\n",
              "      <td>NaN</td>\n",
              "      <td>NaN</td>\n",
              "      <td>NaN</td>\n",
              "      <td>NaN</td>\n",
              "      <td>NaN</td>\n",
              "    </tr>\n",
              "    <tr>\n",
              "      <th>7</th>\n",
              "      <td>0.695265</td>\n",
              "      <td>4</td>\n",
              "      <td>52.563444</td>\n",
              "      <td>{'balancing:strategy': 'weighting', 'classifie...</td>\n",
              "      <td>Success</td>\n",
              "      <td>0.0</td>\n",
              "      <td>weighting</td>\n",
              "      <td>mlp</td>\n",
              "      <td>feature_type</td>\n",
              "      <td>extra_trees_preproc_for_classification</td>\n",
              "      <td>...</td>\n",
              "      <td>NaN</td>\n",
              "      <td>NaN</td>\n",
              "      <td>NaN</td>\n",
              "      <td>NaN</td>\n",
              "      <td>NaN</td>\n",
              "      <td>NaN</td>\n",
              "      <td>NaN</td>\n",
              "      <td>NaN</td>\n",
              "      <td>NaN</td>\n",
              "      <td>NaN</td>\n",
              "    </tr>\n",
              "    <tr>\n",
              "      <th>6</th>\n",
              "      <td>0.693371</td>\n",
              "      <td>5</td>\n",
              "      <td>29.847318</td>\n",
              "      <td>{'balancing:strategy': 'none', 'classifier:__c...</td>\n",
              "      <td>Success</td>\n",
              "      <td>0.0</td>\n",
              "      <td>none</td>\n",
              "      <td>adaboost</td>\n",
              "      <td>feature_type</td>\n",
              "      <td>no_preprocessing</td>\n",
              "      <td>...</td>\n",
              "      <td>NaN</td>\n",
              "      <td>NaN</td>\n",
              "      <td>NaN</td>\n",
              "      <td>NaN</td>\n",
              "      <td>NaN</td>\n",
              "      <td>NaN</td>\n",
              "      <td>NaN</td>\n",
              "      <td>NaN</td>\n",
              "      <td>NaN</td>\n",
              "      <td>NaN</td>\n",
              "    </tr>\n",
              "  </tbody>\n",
              "</table>\n",
              "<p>5 rows × 171 columns</p>\n",
              "</div>\n",
              "      <button class=\"colab-df-convert\" onclick=\"convertToInteractive('df-c5108128-c606-4aa7-82d9-14f13250dcce')\"\n",
              "              title=\"Convert this dataframe to an interactive table.\"\n",
              "              style=\"display:none;\">\n",
              "        \n",
              "  <svg xmlns=\"http://www.w3.org/2000/svg\" height=\"24px\"viewBox=\"0 0 24 24\"\n",
              "       width=\"24px\">\n",
              "    <path d=\"M0 0h24v24H0V0z\" fill=\"none\"/>\n",
              "    <path d=\"M18.56 5.44l.94 2.06.94-2.06 2.06-.94-2.06-.94-.94-2.06-.94 2.06-2.06.94zm-11 1L8.5 8.5l.94-2.06 2.06-.94-2.06-.94L8.5 2.5l-.94 2.06-2.06.94zm10 10l.94 2.06.94-2.06 2.06-.94-2.06-.94-.94-2.06-.94 2.06-2.06.94z\"/><path d=\"M17.41 7.96l-1.37-1.37c-.4-.4-.92-.59-1.43-.59-.52 0-1.04.2-1.43.59L10.3 9.45l-7.72 7.72c-.78.78-.78 2.05 0 2.83L4 21.41c.39.39.9.59 1.41.59.51 0 1.02-.2 1.41-.59l7.78-7.78 2.81-2.81c.8-.78.8-2.07 0-2.86zM5.41 20L4 18.59l7.72-7.72 1.47 1.35L5.41 20z\"/>\n",
              "  </svg>\n",
              "      </button>\n",
              "      \n",
              "  <style>\n",
              "    .colab-df-container {\n",
              "      display:flex;\n",
              "      flex-wrap:wrap;\n",
              "      gap: 12px;\n",
              "    }\n",
              "\n",
              "    .colab-df-convert {\n",
              "      background-color: #E8F0FE;\n",
              "      border: none;\n",
              "      border-radius: 50%;\n",
              "      cursor: pointer;\n",
              "      display: none;\n",
              "      fill: #1967D2;\n",
              "      height: 32px;\n",
              "      padding: 0 0 0 0;\n",
              "      width: 32px;\n",
              "    }\n",
              "\n",
              "    .colab-df-convert:hover {\n",
              "      background-color: #E2EBFA;\n",
              "      box-shadow: 0px 1px 2px rgba(60, 64, 67, 0.3), 0px 1px 3px 1px rgba(60, 64, 67, 0.15);\n",
              "      fill: #174EA6;\n",
              "    }\n",
              "\n",
              "    [theme=dark] .colab-df-convert {\n",
              "      background-color: #3B4455;\n",
              "      fill: #D2E3FC;\n",
              "    }\n",
              "\n",
              "    [theme=dark] .colab-df-convert:hover {\n",
              "      background-color: #434B5C;\n",
              "      box-shadow: 0px 1px 3px 1px rgba(0, 0, 0, 0.15);\n",
              "      filter: drop-shadow(0px 1px 2px rgba(0, 0, 0, 0.3));\n",
              "      fill: #FFFFFF;\n",
              "    }\n",
              "  </style>\n",
              "\n",
              "      <script>\n",
              "        const buttonEl =\n",
              "          document.querySelector('#df-c5108128-c606-4aa7-82d9-14f13250dcce button.colab-df-convert');\n",
              "        buttonEl.style.display =\n",
              "          google.colab.kernel.accessAllowed ? 'block' : 'none';\n",
              "\n",
              "        async function convertToInteractive(key) {\n",
              "          const element = document.querySelector('#df-c5108128-c606-4aa7-82d9-14f13250dcce');\n",
              "          const dataTable =\n",
              "            await google.colab.kernel.invokeFunction('convertToInteractive',\n",
              "                                                     [key], {});\n",
              "          if (!dataTable) return;\n",
              "\n",
              "          const docLinkHtml = 'Like what you see? Visit the ' +\n",
              "            '<a target=\"_blank\" href=https://colab.research.google.com/notebooks/data_table.ipynb>data table notebook</a>'\n",
              "            + ' to learn more about interactive tables.';\n",
              "          element.innerHTML = '';\n",
              "          dataTable['output_type'] = 'display_data';\n",
              "          await google.colab.output.renderOutput(dataTable, element);\n",
              "          const docLink = document.createElement('div');\n",
              "          docLink.innerHTML = docLinkHtml;\n",
              "          element.appendChild(docLink);\n",
              "        }\n",
              "      </script>\n",
              "    </div>\n",
              "  </div>\n",
              "  "
            ]
          },
          "metadata": {},
          "execution_count": 19
        }
      ]
    },
    {
      "cell_type": "markdown",
      "source": [
        "Se repite la historia para esta representacion pasando sin ningun tipo de preprocesamiento o reducción, para despues ajustar un clasificador basado en Random Forest y alcanzando un accuracy máximo de .74."
      ],
      "metadata": {
        "id": "xBp2P67gBmjD"
      }
    },
    {
      "cell_type": "markdown",
      "metadata": {
        "id": "cJAOw9x-cqxx"
      },
      "source": [
        "#Autopytorch"
      ]
    },
    {
      "cell_type": "markdown",
      "source": [
        "**Comenzamos con las instalaciones e imports de librerías**"
      ],
      "metadata": {
        "id": "WCoEuKIxxR5K"
      }
    },
    {
      "cell_type": "code",
      "execution_count": null,
      "metadata": {
        "id": "rDBGaN3ScsHU"
      },
      "outputs": [],
      "source": [
        "!pip install autoPyTorch"
      ]
    },
    {
      "cell_type": "code",
      "execution_count": null,
      "metadata": {
        "id": "7F_jysvTdHjd"
      },
      "outputs": [],
      "source": [
        "import autoPyTorch\n",
        "from autoPyTorch.api.tabular_classification import TabularClassificationTask\n",
        "import warnings"
      ]
    },
    {
      "cell_type": "markdown",
      "metadata": {
        "id": "CUm8WHZInJL3"
      },
      "source": [
        "##Opiniones originales"
      ]
    },
    {
      "cell_type": "markdown",
      "source": [
        "###Fastext"
      ],
      "metadata": {
        "id": "zGkXHF6U6iGT"
      }
    },
    {
      "cell_type": "markdown",
      "source": [
        "Representación con 100 elementos"
      ],
      "metadata": {
        "id": "xOekBsCm6jaC"
      }
    },
    {
      "cell_type": "code",
      "source": [
        "warnings.simplefilter(action='ignore', category=UserWarning)\n",
        "warnings.simplefilter(action='ignore', category=FutureWarning)\n",
        "\n",
        "api=TabularClassificationTask()\n",
        "api.search(\n",
        "    X_train=X_train_fast100,\n",
        "    y_train=Y_train,\n",
        "    X_test=X_test_fast100,\n",
        "    y_test=Y_test,\n",
        "    optimize_metric='accuracy',\n",
        "    total_walltime_limit=1200,\n",
        "    func_eval_time_limit_secs=120,\n",
        "    memory_limit=20000\n",
        ")"
      ],
      "metadata": {
        "id": "_cBU8ASry3X3"
      },
      "execution_count": null,
      "outputs": []
    },
    {
      "cell_type": "code",
      "source": [
        "y_pred = api.predict(X_test_fast100)\n",
        "score = api.score(y_pred, Y_test)\n",
        "print(score)\n",
        "print(api.show_models())\n",
        "# Print statistics from search\n",
        "print(api.sprint_statistics())"
      ],
      "metadata": {
        "colab": {
          "base_uri": "https://localhost:8080/"
        },
        "id": "TEux0M2Ky6ku",
        "outputId": "79f82932-d212-4700-81d7-eb86b7fd8dc8"
      },
      "execution_count": null,
      "outputs": [
        {
          "output_type": "stream",
          "name": "stdout",
          "text": [
            "{'accuracy': 0.6532}\n",
            "|    | Preprocessing                                                               | Estimator                                                 |   Weight |\n",
            "|---:|:----------------------------------------------------------------------------|:----------------------------------------------------------|---------:|\n",
            "|  0 | SimpleImputer,Variance Threshold,NoCoalescer,NoEncoder,MinMaxScaler,FastICA | no embedding,MLPBackbone,FullyConnectedHead,nn.Sequential |     0.5  |\n",
            "|  1 | None                                                                        | RFLearner                                                 |     0.2  |\n",
            "|  2 | None                                                                        | ETLearner                                                 |     0.18 |\n",
            "|  3 | None                                                                        | CBLearner                                                 |     0.1  |\n",
            "|  4 | None                                                                        | KNNLearner                                                |     0.02 |\n",
            "autoPyTorch results:\n",
            "\tDataset name: dfc7d05b-75bf-11ed-8045-0242ac1c000c\n",
            "\tOptimisation Metric: accuracy\n",
            "\tBest validation score: 0.6577651515151515\n",
            "\tNumber of target algorithm runs: 15\n",
            "\tNumber of successful target algorithm runs: 8\n",
            "\tNumber of crashed target algorithm runs: 0\n",
            "\tNumber of target algorithms that exceeded the time limit: 7\n",
            "\tNumber of target algorithms that exceeded the memory limit: 0\n",
            "\n"
          ]
        }
      ]
    },
    {
      "cell_type": "markdown",
      "source": [
        "Representación con 200 elementos"
      ],
      "metadata": {
        "id": "kD7Xbxtn6oL-"
      }
    },
    {
      "cell_type": "code",
      "source": [
        "warnings.simplefilter(action='ignore', category=UserWarning)\n",
        "warnings.simplefilter(action='ignore', category=FutureWarning)\n",
        "\n",
        "api=TabularClassificationTask()\n",
        "api.search(\n",
        "    X_train=X_train_fast200,\n",
        "    y_train=Y_train,\n",
        "    X_test=X_test_fast200,\n",
        "    y_test=Y_test,\n",
        "    optimize_metric='accuracy',\n",
        "    total_walltime_limit=1200,\n",
        "    func_eval_time_limit_secs=120,\n",
        "    memory_limit=20000\n",
        ")"
      ],
      "metadata": {
        "id": "9jO2RoWoy_fn"
      },
      "execution_count": null,
      "outputs": []
    },
    {
      "cell_type": "code",
      "source": [
        "y_pred = api.predict(X_test_fast200)\n",
        "score = api.score(y_pred, Y_test)\n",
        "print(score)\n",
        "print(api.show_models())\n",
        "# Print statistics from search\n",
        "print(api.sprint_statistics())"
      ],
      "metadata": {
        "colab": {
          "base_uri": "https://localhost:8080/"
        },
        "id": "iqZuqWkYzBKj",
        "outputId": "9438eb95-0ba5-4926-c479-4539ba4935e4"
      },
      "execution_count": null,
      "outputs": [
        {
          "output_type": "stream",
          "name": "stdout",
          "text": [
            "{'accuracy': 0.6238}\n",
            "|    | Preprocessing   | Estimator   |   Weight |\n",
            "|---:|:----------------|:------------|---------:|\n",
            "|  0 | None            | CBLearner   |     0.5  |\n",
            "|  1 | None            | ETLearner   |     0.36 |\n",
            "|  2 | None            | RFLearner   |     0.14 |\n",
            "autoPyTorch results:\n",
            "\tDataset name: 41ce217d-75c3-11ed-8045-0242ac1c000c\n",
            "\tOptimisation Metric: accuracy\n",
            "\tBest validation score: 0.6238636363636364\n",
            "\tNumber of target algorithm runs: 14\n",
            "\tNumber of successful target algorithm runs: 6\n",
            "\tNumber of crashed target algorithm runs: 0\n",
            "\tNumber of target algorithms that exceeded the time limit: 8\n",
            "\tNumber of target algorithms that exceeded the memory limit: 0\n",
            "\n"
          ]
        }
      ]
    },
    {
      "cell_type": "markdown",
      "source": [
        "###BOW"
      ],
      "metadata": {
        "id": "mp-q9Pbw6uyd"
      }
    },
    {
      "cell_type": "markdown",
      "source": [
        "Representación con 200 elementos"
      ],
      "metadata": {
        "id": "rseQ-HCT6xJR"
      }
    },
    {
      "cell_type": "code",
      "source": [
        "warnings.simplefilter(action='ignore', category=UserWarning)\n",
        "warnings.simplefilter(action='ignore', category=FutureWarning)\n",
        "\n",
        "api=TabularClassificationTask()\n",
        "api.search(\n",
        "    X_train=X_train_BOW200,\n",
        "    y_train=Y_train,\n",
        "    X_test=X_test_BOW200,\n",
        "    y_test=Y_test,\n",
        "    optimize_metric='accuracy',\n",
        "    total_walltime_limit=1200,\n",
        "    func_eval_time_limit_secs=120,\n",
        "    memory_limit=20000\n",
        ")"
      ],
      "metadata": {
        "id": "j0DyON8HzHf9"
      },
      "execution_count": null,
      "outputs": []
    },
    {
      "cell_type": "code",
      "source": [
        "y_pred = api.predict(X_test_BOW200)\n",
        "score = api.score(y_pred, Y_test)\n",
        "print(score)\n",
        "print(api.show_models())\n",
        "# Print statistics from search\n",
        "print(api.sprint_statistics())"
      ],
      "metadata": {
        "colab": {
          "base_uri": "https://localhost:8080/"
        },
        "id": "_KYY21PXzIwd",
        "outputId": "0a1beffa-ca30-454c-8302-add639a58a3b"
      },
      "execution_count": null,
      "outputs": [
        {
          "output_type": "stream",
          "name": "stdout",
          "text": [
            "{'accuracy': 0.6536}\n",
            "|    | Preprocessing                                                                                | Estimator                                                       |   Weight |\n",
            "|---:|:---------------------------------------------------------------------------------------------|:----------------------------------------------------------------|---------:|\n",
            "|  0 | SimpleImputer,Variance Threshold,NoCoalescer,NoEncoder,StandardScaler,NoFeaturePreprocessing | no embedding,ShapedMLPBackbone,FullyConnectedHead,nn.Sequential |     0.28 |\n",
            "|  1 | None                                                                                         | CBLearner                                                       |     0.22 |\n",
            "|  2 | None                                                                                         | ETLearner                                                       |     0.2  |\n",
            "|  3 | None                                                                                         | RFLearner                                                       |     0.16 |\n",
            "|  4 | None                                                                                         | KNNLearner                                                      |     0.08 |\n",
            "|  5 | SimpleImputer,Variance Threshold,NoCoalescer,NoEncoder,Normalizer,LinearSVC Preprocessor     | no embedding,ResNetBackbone,FullyConnectedHead,nn.Sequential    |     0.06 |\n",
            "autoPyTorch results:\n",
            "\tDataset name: b7dc1390-75c6-11ed-8045-0242ac1c000c\n",
            "\tOptimisation Metric: accuracy\n",
            "\tBest validation score: 0.7710227272727272\n",
            "\tNumber of target algorithm runs: 15\n",
            "\tNumber of successful target algorithm runs: 7\n",
            "\tNumber of crashed target algorithm runs: 1\n",
            "\tNumber of target algorithms that exceeded the time limit: 7\n",
            "\tNumber of target algorithms that exceeded the memory limit: 0\n",
            "\n"
          ]
        }
      ]
    },
    {
      "cell_type": "markdown",
      "source": [
        "Representación con 500 elementos"
      ],
      "metadata": {
        "id": "3wEA4B6v61IG"
      }
    },
    {
      "cell_type": "code",
      "source": [
        "warnings.simplefilter(action='ignore', category=UserWarning)\n",
        "warnings.simplefilter(action='ignore', category=FutureWarning)\n",
        "\n",
        "api=TabularClassificationTask()\n",
        "api.search(\n",
        "    X_train=X_train_BOW500,\n",
        "    y_train=Y_train,\n",
        "    X_test=X_test_BOW500,\n",
        "    y_test=Y_test,\n",
        "    optimize_metric='accuracy',\n",
        "    total_walltime_limit=1200,\n",
        "    func_eval_time_limit_secs=120,\n",
        "    memory_limit=20000\n",
        ")"
      ],
      "metadata": {
        "id": "Hv3tX0XgzONP"
      },
      "execution_count": null,
      "outputs": []
    },
    {
      "cell_type": "code",
      "source": [
        "y_pred = api.predict(X_test_BOW500)\n",
        "score = api.score(y_pred, Y_test)\n",
        "print(score)\n",
        "print(api.show_models())\n",
        "# Print statistics from search\n",
        "print(api.sprint_statistics())"
      ],
      "metadata": {
        "colab": {
          "base_uri": "https://localhost:8080/"
        },
        "id": "otbnz8oozRDl",
        "outputId": "6c31402c-de55-4284-e32c-f0ec146b38a6"
      },
      "execution_count": null,
      "outputs": [
        {
          "output_type": "stream",
          "name": "stdout",
          "text": [
            "{'accuracy': 0.5638}\n",
            "|    | Preprocessing                                                                                | Estimator                                                       |   Weight |\n",
            "|---:|:---------------------------------------------------------------------------------------------|:----------------------------------------------------------------|---------:|\n",
            "|  0 | None                                                                                         | CBLearner                                                       |     0.38 |\n",
            "|  1 | None                                                                                         | RFLearner                                                       |     0.26 |\n",
            "|  2 | SimpleImputer,Variance Threshold,NoCoalescer,NoEncoder,StandardScaler,NoFeaturePreprocessing | no embedding,ShapedMLPBackbone,FullyConnectedHead,nn.Sequential |     0.2  |\n",
            "|  3 | None                                                                                         | ETLearner                                                       |     0.1  |\n",
            "|  4 | None                                                                                         | KNNLearner                                                      |     0.06 |\n",
            "autoPyTorch results:\n",
            "\tDataset name: 04e13f23-75ca-11ed-8045-0242ac1c000c\n",
            "\tOptimisation Metric: accuracy\n",
            "\tBest validation score: 0.7884469696969697\n",
            "\tNumber of target algorithm runs: 14\n",
            "\tNumber of successful target algorithm runs: 5\n",
            "\tNumber of crashed target algorithm runs: 0\n",
            "\tNumber of target algorithms that exceeded the time limit: 9\n",
            "\tNumber of target algorithms that exceeded the memory limit: 0\n",
            "\n"
          ]
        }
      ]
    },
    {
      "cell_type": "markdown",
      "metadata": {
        "id": "hG8wx51bnaqx"
      },
      "source": [
        "##Opiniones Resumidas"
      ]
    },
    {
      "cell_type": "markdown",
      "source": [
        "###Fastext"
      ],
      "metadata": {
        "id": "7EhoikxM7Lea"
      }
    },
    {
      "cell_type": "markdown",
      "source": [
        "Representación con 100 elementos"
      ],
      "metadata": {
        "id": "GojXS13_7NHh"
      }
    },
    {
      "cell_type": "code",
      "source": [
        "warnings.simplefilter(action='ignore', category=UserWarning)\n",
        "warnings.simplefilter(action='ignore', category=FutureWarning)\n",
        "\n",
        "api=TabularClassificationTask()\n",
        "api.search(\n",
        "    X_train=X_train_fast100,\n",
        "    y_train=Y_train,\n",
        "    X_test=X_test_fast100,\n",
        "    y_test=Y_test,\n",
        "    optimize_metric='accuracy',\n",
        "    total_walltime_limit=1200,\n",
        "    func_eval_time_limit_secs=120,\n",
        "    memory_limit=20000\n",
        ")"
      ],
      "metadata": {
        "id": "ytL7natCC0uQ"
      },
      "execution_count": null,
      "outputs": []
    },
    {
      "cell_type": "code",
      "source": [
        "y_pred = api.predict(X_test_fast100)\n",
        "score = api.score(y_pred, Y_test)\n",
        "print(score)\n",
        "print(api.show_models())\n",
        "# Print statistics from search\n",
        "print(api.sprint_statistics())"
      ],
      "metadata": {
        "colab": {
          "base_uri": "https://localhost:8080/"
        },
        "id": "dIXVRPKqC4oG",
        "outputId": "8e9b1cfb-9acc-42a7-caff-9aadd50948d7"
      },
      "execution_count": null,
      "outputs": [
        {
          "output_type": "stream",
          "name": "stdout",
          "text": [
            "{'accuracy': 0.6404}\n",
            "|    | Preprocessing                                                                              | Estimator                                                       |   Weight |\n",
            "|---:|:-------------------------------------------------------------------------------------------|:----------------------------------------------------------------|---------:|\n",
            "|  0 | SimpleImputer,Variance Threshold,NoCoalescer,NoEncoder,MinMaxScaler,FastICA                | no embedding,MLPBackbone,FullyConnectedHead,nn.Sequential       |     0.4  |\n",
            "|  1 | SimpleImputer,Variance Threshold,NoCoalescer,NoEncoder,StandardScaler,FeatureAgglomeration | no embedding,ShapedMLPBackbone,FullyConnectedHead,nn.Sequential |     0.2  |\n",
            "|  2 | None                                                                                       | ETLearner                                                       |     0.2  |\n",
            "|  3 | None                                                                                       | CBLearner                                                       |     0.14 |\n",
            "|  4 | None                                                                                       | KNNLearner                                                      |     0.04 |\n",
            "|  5 | None                                                                                       | RFLearner                                                       |     0.02 |\n",
            "autoPyTorch results:\n",
            "\tDataset name: 5ff05301-75cf-11ed-8045-0242ac1c000c\n",
            "\tOptimisation Metric: accuracy\n",
            "\tBest validation score: 0.6339015151515152\n",
            "\tNumber of target algorithm runs: 15\n",
            "\tNumber of successful target algorithm runs: 8\n",
            "\tNumber of crashed target algorithm runs: 0\n",
            "\tNumber of target algorithms that exceeded the time limit: 7\n",
            "\tNumber of target algorithms that exceeded the memory limit: 0\n",
            "\n"
          ]
        }
      ]
    },
    {
      "cell_type": "markdown",
      "source": [
        "Representación con 200 elementos"
      ],
      "metadata": {
        "id": "ekXD1Pdl7TWG"
      }
    },
    {
      "cell_type": "code",
      "source": [
        "warnings.simplefilter(action='ignore', category=UserWarning)\n",
        "warnings.simplefilter(action='ignore', category=FutureWarning)\n",
        "\n",
        "api=TabularClassificationTask()\n",
        "api.search(\n",
        "    X_train=X_train_fast200,\n",
        "    y_train=Y_train,\n",
        "    X_test=X_test_fast200,\n",
        "    y_test=Y_test,\n",
        "    optimize_metric='accuracy',\n",
        "    total_walltime_limit=1200,\n",
        "    func_eval_time_limit_secs=120,\n",
        "    memory_limit=20000\n",
        ")"
      ],
      "metadata": {
        "id": "NY_FWILeDBTo"
      },
      "execution_count": null,
      "outputs": []
    },
    {
      "cell_type": "code",
      "source": [
        "y_pred = api.predict(X_test_fast200)\n",
        "score = api.score(y_pred, Y_test)\n",
        "print(score)\n",
        "print(api.show_models())\n",
        "# Print statistics from search\n",
        "print(api.sprint_statistics())"
      ],
      "metadata": {
        "colab": {
          "base_uri": "https://localhost:8080/"
        },
        "id": "DRvwY-Vo4HoG",
        "outputId": "bba5eb78-24d8-4112-d29f-4d6dacdb0387"
      },
      "execution_count": null,
      "outputs": [
        {
          "output_type": "stream",
          "name": "stdout",
          "text": [
            "{'accuracy': 0.6074}\n",
            "|    | Preprocessing   | Estimator   |   Weight |\n",
            "|---:|:----------------|:------------|---------:|\n",
            "|  0 | None            | CBLearner   |     0.5  |\n",
            "|  1 | None            | RFLearner   |     0.36 |\n",
            "|  2 | None            | ETLearner   |     0.14 |\n",
            "autoPyTorch results:\n",
            "\tDataset name: c55c0b11-75d2-11ed-8045-0242ac1c000c\n",
            "\tOptimisation Metric: accuracy\n",
            "\tBest validation score: 0.6051136363636364\n",
            "\tNumber of target algorithm runs: 15\n",
            "\tNumber of successful target algorithm runs: 5\n",
            "\tNumber of crashed target algorithm runs: 0\n",
            "\tNumber of target algorithms that exceeded the time limit: 10\n",
            "\tNumber of target algorithms that exceeded the memory limit: 0\n",
            "\n"
          ]
        }
      ]
    },
    {
      "cell_type": "markdown",
      "source": [
        "###BOW"
      ],
      "metadata": {
        "id": "tmA_Ns3G7Wlq"
      }
    },
    {
      "cell_type": "markdown",
      "source": [
        "Representación con 200 elementos"
      ],
      "metadata": {
        "id": "1RzW3gNr7ZPz"
      }
    },
    {
      "cell_type": "code",
      "source": [
        "warnings.simplefilter(action='ignore', category=UserWarning)\n",
        "warnings.simplefilter(action='ignore', category=FutureWarning)\n",
        "\n",
        "api=TabularClassificationTask()\n",
        "api.search(\n",
        "    X_train=X_train_BOW200,\n",
        "    y_train=Y_train,\n",
        "    X_test=X_test_BOW200,\n",
        "    y_test=Y_test,\n",
        "    optimize_metric='accuracy',\n",
        "    total_walltime_limit=1200,\n",
        "    func_eval_time_limit_secs=120,\n",
        "    memory_limit=20000\n",
        ")"
      ],
      "metadata": {
        "id": "R5T2Y1rKDHB3"
      },
      "execution_count": null,
      "outputs": []
    },
    {
      "cell_type": "code",
      "source": [
        "y_pred = api.predict(X_test_BOW200)\n",
        "score = api.score(y_pred, Y_test)\n",
        "print(score)\n",
        "print(api.show_models())\n",
        "# Print statistics from search\n",
        "print(api.sprint_statistics())"
      ],
      "metadata": {
        "colab": {
          "base_uri": "https://localhost:8080/"
        },
        "id": "srF8NqA9DIY-",
        "outputId": "54d30e57-b5d5-47be-c269-631aaf2caf29"
      },
      "execution_count": null,
      "outputs": [
        {
          "output_type": "stream",
          "name": "stdout",
          "text": [
            "{'accuracy': 0.5404}\n",
            "|    | Preprocessing                                                                                | Estimator                                                       |   Weight |\n",
            "|---:|:---------------------------------------------------------------------------------------------|:----------------------------------------------------------------|---------:|\n",
            "|  0 | None                                                                                         | ETLearner                                                       |     0.32 |\n",
            "|  1 | None                                                                                         | RFLearner                                                       |     0.2  |\n",
            "|  2 | SimpleImputer,Variance Threshold,NoCoalescer,NoEncoder,StandardScaler,NoFeaturePreprocessing | no embedding,ShapedMLPBackbone,FullyConnectedHead,nn.Sequential |     0.2  |\n",
            "|  3 | SimpleImputer,Variance Threshold,NoCoalescer,NoEncoder,Normalizer,LinearSVC Preprocessor     | no embedding,ResNetBackbone,FullyConnectedHead,nn.Sequential    |     0.16 |\n",
            "|  4 | None                                                                                         | CBLearner                                                       |     0.12 |\n",
            "autoPyTorch results:\n",
            "\tDataset name: 31606e34-75d6-11ed-8045-0242ac1c000c\n",
            "\tOptimisation Metric: accuracy\n",
            "\tBest validation score: 0.740909090909091\n",
            "\tNumber of target algorithm runs: 15\n",
            "\tNumber of successful target algorithm runs: 7\n",
            "\tNumber of crashed target algorithm runs: 1\n",
            "\tNumber of target algorithms that exceeded the time limit: 7\n",
            "\tNumber of target algorithms that exceeded the memory limit: 0\n",
            "\n"
          ]
        }
      ]
    },
    {
      "cell_type": "markdown",
      "source": [
        "Representación con 500 elementos"
      ],
      "metadata": {
        "id": "cGlx8Z1G7cw0"
      }
    },
    {
      "cell_type": "code",
      "source": [
        "warnings.simplefilter(action='ignore', category=UserWarning)\n",
        "warnings.simplefilter(action='ignore', category=FutureWarning)\n",
        "\n",
        "api=TabularClassificationTask()\n",
        "api.search(\n",
        "    X_train=X_train_BOW500,\n",
        "    y_train=Y_train,\n",
        "    X_test=X_test_BOW500,\n",
        "    y_test=Y_test,\n",
        "    optimize_metric='accuracy',\n",
        "    total_walltime_limit=1200,\n",
        "    func_eval_time_limit_secs=120,\n",
        "    memory_limit=20000\n",
        ")"
      ],
      "metadata": {
        "id": "vrLF-hgpDM0v"
      },
      "execution_count": null,
      "outputs": []
    },
    {
      "cell_type": "code",
      "source": [
        "y_pred = api.predict(X_test_BOW500)\n",
        "score = api.score(y_pred, Y_test)\n",
        "print(score)\n",
        "print(api.show_models())\n",
        "# Print statistics from search\n",
        "print(api.sprint_statistics())"
      ],
      "metadata": {
        "colab": {
          "base_uri": "https://localhost:8080/"
        },
        "id": "bobA1hU6DOau",
        "outputId": "92ca5db8-1bdb-4e1b-9dfb-09787ac02829"
      },
      "execution_count": null,
      "outputs": [
        {
          "output_type": "stream",
          "name": "stdout",
          "text": [
            "{'accuracy': 0.561}\n",
            "|    | Preprocessing                                                                                | Estimator                                                       |   Weight |\n",
            "|---:|:---------------------------------------------------------------------------------------------|:----------------------------------------------------------------|---------:|\n",
            "|  0 | None                                                                                         | ETLearner                                                       |     0.46 |\n",
            "|  1 | None                                                                                         | CBLearner                                                       |     0.32 |\n",
            "|  2 | SimpleImputer,Variance Threshold,NoCoalescer,NoEncoder,StandardScaler,NoFeaturePreprocessing | no embedding,ShapedMLPBackbone,FullyConnectedHead,nn.Sequential |     0.14 |\n",
            "|  3 | None                                                                                         | RFLearner                                                       |     0.08 |\n",
            "autoPyTorch results:\n",
            "\tDataset name: 7bbe7a2c-75d9-11ed-8045-0242ac1c000c\n",
            "\tOptimisation Metric: accuracy\n",
            "\tBest validation score: 0.7581439393939394\n",
            "\tNumber of target algorithm runs: 14\n",
            "\tNumber of successful target algorithm runs: 5\n",
            "\tNumber of crashed target algorithm runs: 0\n",
            "\tNumber of target algorithms that exceeded the time limit: 9\n",
            "\tNumber of target algorithms that exceeded the memory limit: 0\n",
            "\n"
          ]
        }
      ]
    },
    {
      "cell_type": "markdown",
      "source": [
        "#Random Search paralelizado"
      ],
      "metadata": {
        "id": "qviGak59m_vi"
      }
    },
    {
      "cell_type": "markdown",
      "source": [
        "*Funcion que genera una cantidad de pipelines finito, para que su ajuste sea paralelizad*"
      ],
      "metadata": {
        "id": "NNxjYr-vXpjv"
      }
    },
    {
      "cell_type": "code",
      "source": [
        "import numpy as np\n",
        "import random\n",
        "def generador(num_elementos):\n",
        "  parametros=[]\n",
        "  for i in range(num_elementos):\n",
        "    hiper=[]\n",
        "    #Agregamos un elemento para la representacion FAST o BOW\n",
        "    hiper.append(random.choice([1,2]))\n",
        "    #Agregamos un elemento para ladimension\n",
        "    hiper.append(random.choice([1,2]))\n",
        "    #Agregamos uno para estandarizacion\n",
        "    hiper.append(random.choice([1,2]))\n",
        "    #Agregamos uno para la reduccion\n",
        "    hiper.append(random.choice([1,2]))\n",
        "    #Agregamos uno para la dimension\n",
        "    hiper.append(random.choice([50,51,52,53,54,55,56,57,58,59,60]))\n",
        "    #Uno para el algoritmo\n",
        "    hiper.append(random.choice([1,2,3,4]))\n",
        "    parametros.append(hiper)\n",
        "  return(parametros)"
      ],
      "metadata": {
        "id": "59DxAwxxnrKT"
      },
      "execution_count": null,
      "outputs": []
    },
    {
      "cell_type": "markdown",
      "source": [
        "*La funcion toma un conjunto de parametros, hace el ajuste correspondiente y guarda los hiperparametros del clasificador y su metrica (MSE)*"
      ],
      "metadata": {
        "id": "rkEpzB3OXvDd"
      }
    },
    {
      "cell_type": "code",
      "source": [
        "import random\n",
        "import numpy as np\n",
        "def Random_search2(params):\n",
        "  global X_train_fast100, X_test_fast100, X_train_fast200, X_test_fast200, X_train_BOW200,X_test_BOW200, X_train_BOW500, X_test_BOW500, Y_train, Y_test\n",
        "  #Copia porque luego se modifica la original\n",
        "  X_train1, X_test1= np.zeros((10,10)), np.zeros((10,10))\n",
        "  X_train2, X_test2= np.zeros((10,10)), np.zeros((10,10))\n",
        "  Y_train1=Y_train\n",
        "  Y_test1=Y_test\n",
        "\n",
        "  #Seleccionamos la representacion que se quiera usar:\n",
        "  Rep=params[0]\n",
        "  #Primer argumento para Fastext\n",
        "  dim=params[1]\n",
        "  if(Rep==1 & dim==1):\n",
        "    X_train1, X_test1= X_train_fast100, X_test_fast100\n",
        "  elif(Rep==1 & dim==2):\n",
        "    X_train1, X_test1=X_train_fast200, X_test_fast200\n",
        "  elif(Rep==2 & dim==1):\n",
        "    X_train1,X_test1=X_train_BOW200,X_test_BOW200\n",
        "  else:\n",
        "    X_train1, X_test1=X_train_BOW500, X_test_BOW500\n",
        "\n",
        "  if(params[2]==1):\n",
        "    scalerS = StandardScaler()\n",
        "    scalerS.fit(X_train1)\n",
        "    X_train1=scalerS.transform(X_train1)\n",
        "    X_test1=scalerS.transform(X_test1)\n",
        "  else:\n",
        "    scaler = MinMaxScaler()\n",
        "    scaler.fit(X_train1)\n",
        "    X_train1=scaler.transform(X_train1)\n",
        "    X_test1=scaler.transform(X_test1)\n",
        "  #Ahora aplicamos un metodo de reduccion:\n",
        "\n",
        "  if(params[3]==1):\n",
        "    pca=PCA(svd_solver='auto', n_components=params[4])\n",
        "    pca.fit(X_train1)\n",
        "    X_train2=pca.transform(X_train1)\n",
        "    X_test2=pca.transform(X_test1)\n",
        "  else:\n",
        "    X_train2=Information_Selection(X_train1,Y_train, params[4])\n",
        "    X_test2=Information_Selection(X_test1,Y_test, params[4])\n",
        "\n",
        "  #Ahora tomamos el algoritmo:\n",
        "  if(params[5]==1):\n",
        "    #Asignamos parametros aleatoriamente\n",
        "    p=[random.choice(['linear', 'poly', 'rbf', 'sigmoid']), random.choice(['scale', 'auto'])]\n",
        "    clfSVC=SVC(kernel=p[0], gamma=p[1])\n",
        "    clfSVC.fit(X_train1, Y_train1)\n",
        "    Y_pred = clfSVC.predict(X_test1)\n",
        "    mse=mean_squared_error(Y_test1, Y_pred)\n",
        "    #Regresamos el conjunto de hiperparametros y su MSE\n",
        "    res=[p, mse]\n",
        "    return(res)\n",
        "  elif(params[5]==2):\n",
        "    #Asignamos parametros aleatoriamente\n",
        "    p=[np.random.randint(1,10),random.choice(['uniform', 'distance'])]\n",
        "    clfKNN = KNeighborsClassifier(n_neighbors=p[0], weights=p[1])\n",
        "    clfKNN.fit(X_train1, Y_train1)\n",
        "    Y_pred=clfKNN.predict(X_test1)\n",
        "    mse=mean_squared_error(Y_test1, Y_pred)\n",
        "    #Regresamos el conjunto de hiperparametros y su MSE\n",
        "    res=[p, mse]\n",
        "    return(res)\n",
        "  elif(params[5]==3):\n",
        "    #Asignamos parametros aleatoriamente\n",
        "    p=[random.choice(['gini', 'entropy']), np.random.randint(1,5)]\n",
        "    clfDT=DecisionTreeClassifier(criterion=p[0], max_depth=p[1])\n",
        "    clfDT.fit(X_train1,Y_train1)\n",
        "    Y_pred=clfDT.predict(X_test1)\n",
        "    mse=mean_squared_error(Y_test1, Y_pred)\n",
        "    #Regresamos el conjunto de hiperparametros y su MSE\n",
        "    res=[p, mse]\n",
        "    return(res)\n",
        "  else:\n",
        "    #Asignamos parametros aleatoriamente\n",
        "    p=[np.random.randint(20,40), random.choice(['gini', 'entropy']), np.random.randint(1,5)]\n",
        "    clfRF=RandomForestClassifier(n_estimators=p[0], criterion=p[1], max_depth=p[2])\n",
        "    clfRF.fit(X_train1,Y_train1)\n",
        "    Y_pred=clfRF.predict(X_test1)\n",
        "    mse=mean_squared_error(Y_test1, Y_pred)\n",
        "    #Regresamos el conjunto de hiperparametros y su MSE\n",
        "    res=[p, mse]\n",
        "    return(res)\n"
      ],
      "metadata": {
        "id": "2ZH8lH-snGHV"
      },
      "execution_count": null,
      "outputs": []
    },
    {
      "cell_type": "markdown",
      "source": [
        "##Funcion final de busqueda aleatoria:"
      ],
      "metadata": {
        "id": "JuYxfTP_UW7M"
      }
    },
    {
      "cell_type": "code",
      "source": [
        "def Soluciones_Aleatorias(num_sol):\n",
        "  Data=generador(num_sol)\n",
        "  Data_rdd=sc.parallelize(Data)\n",
        "  Resultado=Data_rdd.map(Random_search2).collect()\n",
        "  MSE=[]\n",
        "  for i in Resultados_resumen:\n",
        "    MSE.append(i[1])\n",
        "  index=MSE.index(min(MSE))\n",
        "  print(X_rdd.collect()[index])\n",
        "  print(Resultados_resumen[index])"
      ],
      "metadata": {
        "id": "iN0dWfl8UWNR"
      },
      "execution_count": null,
      "outputs": []
    },
    {
      "cell_type": "markdown",
      "source": [
        "##Opiniones originales:"
      ],
      "metadata": {
        "id": "F2GiXvxV7yqY"
      }
    },
    {
      "cell_type": "markdown",
      "source": [
        "Generamos un conjunto de pipelines aleatorios y mostramos un ejemplo"
      ],
      "metadata": {
        "id": "AcBr_2DJVBjl"
      }
    },
    {
      "cell_type": "code",
      "source": [
        "X=generador(50)\n",
        "params1=X[0]\n",
        "print(X[0])"
      ],
      "metadata": {
        "colab": {
          "base_uri": "https://localhost:8080/"
        },
        "id": "93U_v5_RsaLl",
        "outputId": "b1dfbeef-191c-4bd8-ac07-b543621af6d0"
      },
      "execution_count": null,
      "outputs": [
        {
          "output_type": "execute_result",
          "data": {
            "text/plain": [
              "[2, 1, 2, 2, 55, 1]"
            ]
          },
          "metadata": {},
          "execution_count": 18
        }
      ]
    },
    {
      "cell_type": "markdown",
      "source": [
        "Paralelizamos el objeto haciendo uso del contexto"
      ],
      "metadata": {
        "id": "UVatnDI5VHwP"
      }
    },
    {
      "cell_type": "code",
      "source": [
        "X_rdd=sc.parallelize(X)"
      ],
      "metadata": {
        "id": "DMEY_eGnsPgK"
      },
      "execution_count": null,
      "outputs": []
    },
    {
      "cell_type": "markdown",
      "source": [
        "Observe que el objeto es el mismo, pero como un rdd"
      ],
      "metadata": {
        "id": "0kNYxNyUVL1U"
      }
    },
    {
      "cell_type": "code",
      "source": [
        "X_rdd.collect()[0]"
      ],
      "metadata": {
        "colab": {
          "base_uri": "https://localhost:8080/"
        },
        "id": "rsQSE8hPsUyO",
        "outputId": "edfb75e9-7474-4c1c-8474-673d75e3b7ec"
      },
      "execution_count": null,
      "outputs": [
        {
          "output_type": "execute_result",
          "data": {
            "text/plain": [
              "[2, 1, 2, 2, 55, 1]"
            ]
          },
          "metadata": {},
          "execution_count": 22
        }
      ]
    },
    {
      "cell_type": "markdown",
      "source": [
        "###Resultado"
      ],
      "metadata": {
        "id": "lcwqgyk_8NIN"
      }
    },
    {
      "cell_type": "markdown",
      "source": [
        "Ejecutamos de forma paralela cada elemento en el rdd, ajustando el modelo correspondiente"
      ],
      "metadata": {
        "id": "0P6b8oLsVUib"
      }
    },
    {
      "cell_type": "code",
      "source": [
        "Resultados_original=X_rdd.map(Random_search2).collect()"
      ],
      "metadata": {
        "id": "lGco4TG-8MLc"
      },
      "execution_count": null,
      "outputs": []
    },
    {
      "cell_type": "markdown",
      "source": [
        "Para cada elemento resultante, almacenamos su MSE"
      ],
      "metadata": {
        "id": "dmKHvL_4V724"
      }
    },
    {
      "cell_type": "code",
      "source": [
        "MSE=[]\n",
        "for i in Resultados_original:\n",
        "  MSE.append(i[1])"
      ],
      "metadata": {
        "id": "3L1rPJyPRHUl"
      },
      "execution_count": null,
      "outputs": []
    },
    {
      "cell_type": "markdown",
      "source": [
        "Guardamos el indice de la lista de MSE que contenga al menor elemento de MSE"
      ],
      "metadata": {
        "id": "J7P2ep68WBSH"
      }
    },
    {
      "cell_type": "code",
      "source": [
        "index=MSE.index(min(MSE))"
      ],
      "metadata": {
        "id": "e_nxjWO5R488"
      },
      "execution_count": null,
      "outputs": []
    },
    {
      "cell_type": "markdown",
      "source": [
        "Mostramos el mejor algoritmo, imprimiento el elemento correspondiente del rdd y del MSE"
      ],
      "metadata": {
        "id": "TZzOi1akSBZl"
      }
    },
    {
      "cell_type": "code",
      "source": [
        "print(X_rdd.collect()[index])\n",
        "print(Resultados_original[index])"
      ],
      "metadata": {
        "colab": {
          "base_uri": "https://localhost:8080/"
        },
        "id": "JBkFR1vWR_jN",
        "outputId": "4c17f9fe-541a-4bf4-ba11-b77316eed532"
      },
      "execution_count": null,
      "outputs": [
        {
          "output_type": "stream",
          "name": "stdout",
          "text": [
            "[1, 1, 2, 2, 52, 1]\n",
            "[['poly', 'scale'], 0.344]\n"
          ]
        }
      ]
    },
    {
      "cell_type": "markdown",
      "source": [
        "La interpretacion es la siguiente:\n",
        "\n",
        "El mejor pipeline obtenido fue uno utilizando la representacion Fastext con 100 elementos, a esta se le aplica una estandarizacion Min Max seguido de una seleccion de caracteristicas basado en ganancia de informacion con 52 elementos.\n",
        "Al conjunto final se le aplico un clasificador basado en SVC, con un kernel polinomial y un gamma 'scale', permitiendonos lograr un MSE de 0.344 o un accuracy de .656"
      ],
      "metadata": {
        "id": "iu4WOkhXG1Cx"
      }
    },
    {
      "cell_type": "markdown",
      "source": [
        "##Opiniones resumidas"
      ],
      "metadata": {
        "id": "lv4J6qX-bY9i"
      }
    },
    {
      "cell_type": "markdown",
      "source": [
        "Generamos el conjunto de pipelines aleatoriamente y mostramos un ejemplo para ver que se paralelice el proceso adecuadamente"
      ],
      "metadata": {
        "id": "EpdVx3MHWue3"
      }
    },
    {
      "cell_type": "code",
      "source": [
        "X=generador(50)\n",
        "params1=X[0]\n",
        "X[0]"
      ],
      "metadata": {
        "colab": {
          "base_uri": "https://localhost:8080/"
        },
        "id": "YxHLOHk8bc-J",
        "outputId": "bf02489a-4ec9-42b1-fc05-5d14fa59f62d"
      },
      "execution_count": null,
      "outputs": [
        {
          "output_type": "execute_result",
          "data": {
            "text/plain": [
              "[1, 1, 2, 1, 60, 2]"
            ]
          },
          "metadata": {},
          "execution_count": 17
        }
      ]
    },
    {
      "cell_type": "markdown",
      "source": [
        "Paralelizamos el objeto con los pipelines"
      ],
      "metadata": {
        "id": "t5_WJhqEXA73"
      }
    },
    {
      "cell_type": "code",
      "source": [
        "X_rdd=sc.parallelize(X)"
      ],
      "metadata": {
        "id": "UFXOqzaebewP"
      },
      "execution_count": null,
      "outputs": []
    },
    {
      "cell_type": "markdown",
      "source": [
        "Confirmamos que es el mismo objeto pero como rdd"
      ],
      "metadata": {
        "id": "bRLWMWpYXEYe"
      }
    },
    {
      "cell_type": "code",
      "source": [
        "X_rdd.collect()[0]"
      ],
      "metadata": {
        "id": "KsWejYV_bgx8",
        "colab": {
          "base_uri": "https://localhost:8080/"
        },
        "outputId": "2f9f5e98-db04-41c9-a002-bfe8d223b445"
      },
      "execution_count": null,
      "outputs": [
        {
          "output_type": "execute_result",
          "data": {
            "text/plain": [
              "[1, 1, 2, 1, 60, 2]"
            ]
          },
          "metadata": {},
          "execution_count": 19
        }
      ]
    },
    {
      "cell_type": "markdown",
      "source": [
        "###Resultado"
      ],
      "metadata": {
        "id": "q6a4BBT5bi2P"
      }
    },
    {
      "cell_type": "markdown",
      "source": [
        "Hacemos los ajustes de forma paralela y almacenamos los MSE correspondientes"
      ],
      "metadata": {
        "id": "tNH2Gb0eXPop"
      }
    },
    {
      "cell_type": "code",
      "source": [
        "Resultados_resumen=X_rdd.map(Random_search2).collect()\n",
        "MSE=[]\n",
        "for i in Resultados_resumen:\n",
        "  MSE.append(i[1])"
      ],
      "metadata": {
        "id": "051a8Ma1bkxb"
      },
      "execution_count": null,
      "outputs": []
    },
    {
      "cell_type": "markdown",
      "source": [
        "Guardamos el indices correspondiente al modelo con MSE menor"
      ],
      "metadata": {
        "id": "59nJKKDUXWmA"
      }
    },
    {
      "cell_type": "code",
      "source": [
        "index=MSE.index(min(MSE))"
      ],
      "metadata": {
        "id": "YKNLByTrbor3"
      },
      "execution_count": null,
      "outputs": []
    },
    {
      "cell_type": "markdown",
      "source": [
        "Mostramos el resultado de ls busqueda"
      ],
      "metadata": {
        "id": "bT6zos_HXa1d"
      }
    },
    {
      "cell_type": "code",
      "source": [
        "print(X_rdd.collect()[index])\n",
        "print(Resultados_resumen[index])"
      ],
      "metadata": {
        "id": "qUJKv43Sbqci",
        "colab": {
          "base_uri": "https://localhost:8080/"
        },
        "outputId": "798f632b-b66a-4d68-f625-b69767ed00cf"
      },
      "execution_count": null,
      "outputs": [
        {
          "output_type": "stream",
          "name": "stdout",
          "text": [
            "[1, 1, 1, 2, 51, 1]\n",
            "[['linear', 'auto'], 0.352]\n"
          ]
        }
      ]
    },
    {
      "cell_type": "markdown",
      "source": [
        "La interpretacion es la siguiente:\n",
        "\n",
        "El mejor pipeline obtenido hace uso de la representacion Fastext con 100 elementos, a esta se le aplica un Standar Scaler seguido de una seleccion de atributos basado en ganancia de informacion con 51 elementos, finalmente ajustando un modelo de clasificacion basado en SVC con un kernel lineal y un gamma 'auto'. Todo lo anterior nos permite obtener un MSE de 0.352 o un accuracy de .648"
      ],
      "metadata": {
        "id": "RXtRrr2mHUmO"
      }
    }
  ],
  "metadata": {
    "colab": {
      "provenance": [],
      "toc_visible": true,
      "collapsed_sections": [
        "7k2R80YfeZiq",
        "TNAX11jeiAqw",
        "72JXdfjwkGDr",
        "JZtT8yb8VwM9",
        "hm3ViFOpVz9u",
        "StajbQBan4cc",
        "4ejPL0kXv8sv"
      ]
    },
    "gpuClass": "standard",
    "kernelspec": {
      "display_name": "Python 3",
      "name": "python3"
    },
    "language_info": {
      "name": "python"
    },
    "widgets": {
      "application/vnd.jupyter.widget-state+json": {
        "021a3bd798c04763ba32fd8e0bdc8785": {
          "model_module": "@jupyter-widgets/controls",
          "model_module_version": "1.5.0",
          "model_name": "ProgressStyleModel",
          "state": {
            "_model_module": "@jupyter-widgets/controls",
            "_model_module_version": "1.5.0",
            "_model_name": "ProgressStyleModel",
            "_view_count": null,
            "_view_module": "@jupyter-widgets/base",
            "_view_module_version": "1.2.0",
            "_view_name": "StyleView",
            "bar_color": null,
            "description_width": ""
          }
        },
        "0751680cc37944db8245b4efb694d89d": {
          "model_module": "@jupyter-widgets/base",
          "model_module_version": "1.2.0",
          "model_name": "LayoutModel",
          "state": {
            "_model_module": "@jupyter-widgets/base",
            "_model_module_version": "1.2.0",
            "_model_name": "LayoutModel",
            "_view_count": null,
            "_view_module": "@jupyter-widgets/base",
            "_view_module_version": "1.2.0",
            "_view_name": "LayoutView",
            "align_content": null,
            "align_items": null,
            "align_self": null,
            "border": null,
            "bottom": null,
            "display": null,
            "flex": null,
            "flex_flow": null,
            "grid_area": null,
            "grid_auto_columns": null,
            "grid_auto_flow": null,
            "grid_auto_rows": null,
            "grid_column": null,
            "grid_gap": null,
            "grid_row": null,
            "grid_template_areas": null,
            "grid_template_columns": null,
            "grid_template_rows": null,
            "height": null,
            "justify_content": null,
            "justify_items": null,
            "left": null,
            "margin": null,
            "max_height": null,
            "max_width": null,
            "min_height": null,
            "min_width": null,
            "object_fit": null,
            "object_position": null,
            "order": null,
            "overflow": null,
            "overflow_x": null,
            "overflow_y": null,
            "padding": null,
            "right": null,
            "top": null,
            "visibility": null,
            "width": null
          }
        },
        "09ab9480b97b41c9b15ee62e11f632bc": {
          "model_module": "@jupyter-widgets/controls",
          "model_module_version": "1.5.0",
          "model_name": "HTMLModel",
          "state": {
            "_dom_classes": [],
            "_model_module": "@jupyter-widgets/controls",
            "_model_module_version": "1.5.0",
            "_model_name": "HTMLModel",
            "_view_count": null,
            "_view_module": "@jupyter-widgets/controls",
            "_view_module_version": "1.5.0",
            "_view_name": "HTMLView",
            "description": "",
            "description_tooltip": null,
            "layout": "IPY_MODEL_54c89e86d691425ca0fb4fb9d1646715",
            "placeholder": "​",
            "style": "IPY_MODEL_81b8b14d25d6408f93653884e3a098ed",
            "value": " 242k/242k [00:00&lt;00:00, 1.32MB/s]"
          }
        },
        "0ad3508ce2164e14b071d38ecd569b2f": {
          "model_module": "@jupyter-widgets/base",
          "model_module_version": "1.2.0",
          "model_name": "LayoutModel",
          "state": {
            "_model_module": "@jupyter-widgets/base",
            "_model_module_version": "1.2.0",
            "_model_name": "LayoutModel",
            "_view_count": null,
            "_view_module": "@jupyter-widgets/base",
            "_view_module_version": "1.2.0",
            "_view_name": "LayoutView",
            "align_content": null,
            "align_items": null,
            "align_self": null,
            "border": null,
            "bottom": null,
            "display": null,
            "flex": null,
            "flex_flow": null,
            "grid_area": null,
            "grid_auto_columns": null,
            "grid_auto_flow": null,
            "grid_auto_rows": null,
            "grid_column": null,
            "grid_gap": null,
            "grid_row": null,
            "grid_template_areas": null,
            "grid_template_columns": null,
            "grid_template_rows": null,
            "height": null,
            "justify_content": null,
            "justify_items": null,
            "left": null,
            "margin": null,
            "max_height": null,
            "max_width": null,
            "min_height": null,
            "min_width": null,
            "object_fit": null,
            "object_position": null,
            "order": null,
            "overflow": null,
            "overflow_x": null,
            "overflow_y": null,
            "padding": null,
            "right": null,
            "top": null,
            "visibility": null,
            "width": null
          }
        },
        "0add8e5933aa43ca972f5e25dc591206": {
          "model_module": "@jupyter-widgets/controls",
          "model_module_version": "1.5.0",
          "model_name": "FloatProgressModel",
          "state": {
            "_dom_classes": [],
            "_model_module": "@jupyter-widgets/controls",
            "_model_module_version": "1.5.0",
            "_model_name": "FloatProgressModel",
            "_view_count": null,
            "_view_module": "@jupyter-widgets/controls",
            "_view_module_version": "1.5.0",
            "_view_name": "ProgressView",
            "bar_style": "success",
            "description": "",
            "description_tooltip": null,
            "layout": "IPY_MODEL_0ad3508ce2164e14b071d38ecd569b2f",
            "max": 520,
            "min": 0,
            "orientation": "horizontal",
            "style": "IPY_MODEL_d15f8f2ba0634b689dd79360862c7525",
            "value": 520
          }
        },
        "0fa2256eddff45f4b570ee0ebf29eff1": {
          "model_module": "@jupyter-widgets/controls",
          "model_module_version": "1.5.0",
          "model_name": "HBoxModel",
          "state": {
            "_dom_classes": [],
            "_model_module": "@jupyter-widgets/controls",
            "_model_module_version": "1.5.0",
            "_model_name": "HBoxModel",
            "_view_count": null,
            "_view_module": "@jupyter-widgets/controls",
            "_view_module_version": "1.5.0",
            "_view_name": "HBoxView",
            "box_style": "",
            "children": [
              "IPY_MODEL_50a06fea06024a8fb1da81e83821f631",
              "IPY_MODEL_0add8e5933aa43ca972f5e25dc591206",
              "IPY_MODEL_84916b4e7bc046f3ba03e818ddb52dae"
            ],
            "layout": "IPY_MODEL_7c4a92159e3144b0b3138dc83eae5239"
          }
        },
        "112ff6d2b45e4cb391dde479d434aa1f": {
          "model_module": "@jupyter-widgets/controls",
          "model_module_version": "1.5.0",
          "model_name": "FloatProgressModel",
          "state": {
            "_dom_classes": [],
            "_model_module": "@jupyter-widgets/controls",
            "_model_module_version": "1.5.0",
            "_model_name": "FloatProgressModel",
            "_view_count": null,
            "_view_module": "@jupyter-widgets/controls",
            "_view_module_version": "1.5.0",
            "_view_name": "ProgressView",
            "bar_style": "success",
            "description": "",
            "description_tooltip": null,
            "layout": "IPY_MODEL_4602882c35e44ba79f283719c6763c1b",
            "max": 112,
            "min": 0,
            "orientation": "horizontal",
            "style": "IPY_MODEL_4b1a33a8ae37480291c07d2c72f9a47b",
            "value": 112
          }
        },
        "18478c7db3dc430c8de8b0d95c70b532": {
          "model_module": "@jupyter-widgets/base",
          "model_module_version": "1.2.0",
          "model_name": "LayoutModel",
          "state": {
            "_model_module": "@jupyter-widgets/base",
            "_model_module_version": "1.2.0",
            "_model_name": "LayoutModel",
            "_view_count": null,
            "_view_module": "@jupyter-widgets/base",
            "_view_module_version": "1.2.0",
            "_view_name": "LayoutView",
            "align_content": null,
            "align_items": null,
            "align_self": null,
            "border": null,
            "bottom": null,
            "display": null,
            "flex": null,
            "flex_flow": null,
            "grid_area": null,
            "grid_auto_columns": null,
            "grid_auto_flow": null,
            "grid_auto_rows": null,
            "grid_column": null,
            "grid_gap": null,
            "grid_row": null,
            "grid_template_areas": null,
            "grid_template_columns": null,
            "grid_template_rows": null,
            "height": null,
            "justify_content": null,
            "justify_items": null,
            "left": null,
            "margin": null,
            "max_height": null,
            "max_width": null,
            "min_height": null,
            "min_width": null,
            "object_fit": null,
            "object_position": null,
            "order": null,
            "overflow": null,
            "overflow_x": null,
            "overflow_y": null,
            "padding": null,
            "right": null,
            "top": null,
            "visibility": null,
            "width": null
          }
        },
        "1a3e416a552642fca6c011b66c4955e7": {
          "model_module": "@jupyter-widgets/controls",
          "model_module_version": "1.5.0",
          "model_name": "DescriptionStyleModel",
          "state": {
            "_model_module": "@jupyter-widgets/controls",
            "_model_module_version": "1.5.0",
            "_model_name": "DescriptionStyleModel",
            "_view_count": null,
            "_view_module": "@jupyter-widgets/base",
            "_view_module_version": "1.2.0",
            "_view_name": "StyleView",
            "description_width": ""
          }
        },
        "1da44b13c17942a39f15fb5bb6edc333": {
          "model_module": "@jupyter-widgets/base",
          "model_module_version": "1.2.0",
          "model_name": "LayoutModel",
          "state": {
            "_model_module": "@jupyter-widgets/base",
            "_model_module_version": "1.2.0",
            "_model_name": "LayoutModel",
            "_view_count": null,
            "_view_module": "@jupyter-widgets/base",
            "_view_module_version": "1.2.0",
            "_view_name": "LayoutView",
            "align_content": null,
            "align_items": null,
            "align_self": null,
            "border": null,
            "bottom": null,
            "display": null,
            "flex": null,
            "flex_flow": null,
            "grid_area": null,
            "grid_auto_columns": null,
            "grid_auto_flow": null,
            "grid_auto_rows": null,
            "grid_column": null,
            "grid_gap": null,
            "grid_row": null,
            "grid_template_areas": null,
            "grid_template_columns": null,
            "grid_template_rows": null,
            "height": null,
            "justify_content": null,
            "justify_items": null,
            "left": null,
            "margin": null,
            "max_height": null,
            "max_width": null,
            "min_height": null,
            "min_width": null,
            "object_fit": null,
            "object_position": null,
            "order": null,
            "overflow": null,
            "overflow_x": null,
            "overflow_y": null,
            "padding": null,
            "right": null,
            "top": null,
            "visibility": null,
            "width": null
          }
        },
        "2ca0c93e95a34a2da4014e97eb1da240": {
          "model_module": "@jupyter-widgets/controls",
          "model_module_version": "1.5.0",
          "model_name": "HTMLModel",
          "state": {
            "_dom_classes": [],
            "_model_module": "@jupyter-widgets/controls",
            "_model_module_version": "1.5.0",
            "_model_name": "HTMLModel",
            "_view_count": null,
            "_view_module": "@jupyter-widgets/controls",
            "_view_module_version": "1.5.0",
            "_view_name": "HTMLView",
            "description": "",
            "description_tooltip": null,
            "layout": "IPY_MODEL_868c7746688e46dfb2d6eb02be2a0f59",
            "placeholder": "​",
            "style": "IPY_MODEL_aca9c62368a7463f91622ef74a61d5f0",
            "value": "Downloading: 100%"
          }
        },
        "2ebc6f69aae0462e819f9daec0a300d7": {
          "model_module": "@jupyter-widgets/base",
          "model_module_version": "1.2.0",
          "model_name": "LayoutModel",
          "state": {
            "_model_module": "@jupyter-widgets/base",
            "_model_module_version": "1.2.0",
            "_model_name": "LayoutModel",
            "_view_count": null,
            "_view_module": "@jupyter-widgets/base",
            "_view_module_version": "1.2.0",
            "_view_name": "LayoutView",
            "align_content": null,
            "align_items": null,
            "align_self": null,
            "border": null,
            "bottom": null,
            "display": null,
            "flex": null,
            "flex_flow": null,
            "grid_area": null,
            "grid_auto_columns": null,
            "grid_auto_flow": null,
            "grid_auto_rows": null,
            "grid_column": null,
            "grid_gap": null,
            "grid_row": null,
            "grid_template_areas": null,
            "grid_template_columns": null,
            "grid_template_rows": null,
            "height": null,
            "justify_content": null,
            "justify_items": null,
            "left": null,
            "margin": null,
            "max_height": null,
            "max_width": null,
            "min_height": null,
            "min_width": null,
            "object_fit": null,
            "object_position": null,
            "order": null,
            "overflow": null,
            "overflow_x": null,
            "overflow_y": null,
            "padding": null,
            "right": null,
            "top": null,
            "visibility": null,
            "width": null
          }
        },
        "3081f36420844453a2260d54b873f320": {
          "model_module": "@jupyter-widgets/controls",
          "model_module_version": "1.5.0",
          "model_name": "HBoxModel",
          "state": {
            "_dom_classes": [],
            "_model_module": "@jupyter-widgets/controls",
            "_model_module_version": "1.5.0",
            "_model_name": "HBoxModel",
            "_view_count": null,
            "_view_module": "@jupyter-widgets/controls",
            "_view_module_version": "1.5.0",
            "_view_name": "HBoxView",
            "box_style": "",
            "children": [
              "IPY_MODEL_d903ffaad4b14bd4a236e54666016791",
              "IPY_MODEL_112ff6d2b45e4cb391dde479d434aa1f",
              "IPY_MODEL_685f60acdc1a49ce817b8947cf2e9014"
            ],
            "layout": "IPY_MODEL_5830a07a2a544701870ee82dddc191fe"
          }
        },
        "42c91914f76d4fb89124691b1e6e741f": {
          "model_module": "@jupyter-widgets/controls",
          "model_module_version": "1.5.0",
          "model_name": "FloatProgressModel",
          "state": {
            "_dom_classes": [],
            "_model_module": "@jupyter-widgets/controls",
            "_model_module_version": "1.5.0",
            "_model_name": "FloatProgressModel",
            "_view_count": null,
            "_view_module": "@jupyter-widgets/controls",
            "_view_module_version": "1.5.0",
            "_view_name": "ProgressView",
            "bar_style": "success",
            "description": "",
            "description_tooltip": null,
            "layout": "IPY_MODEL_2ebc6f69aae0462e819f9daec0a300d7",
            "max": 555561637,
            "min": 0,
            "orientation": "horizontal",
            "style": "IPY_MODEL_795d6c1d75b74c5984dff80ee9f27af6",
            "value": 555561637
          }
        },
        "444965ab70a54147ac2dbe8c5d0a1eb0": {
          "model_module": "@jupyter-widgets/base",
          "model_module_version": "1.2.0",
          "model_name": "LayoutModel",
          "state": {
            "_model_module": "@jupyter-widgets/base",
            "_model_module_version": "1.2.0",
            "_model_name": "LayoutModel",
            "_view_count": null,
            "_view_module": "@jupyter-widgets/base",
            "_view_module_version": "1.2.0",
            "_view_name": "LayoutView",
            "align_content": null,
            "align_items": null,
            "align_self": null,
            "border": null,
            "bottom": null,
            "display": null,
            "flex": null,
            "flex_flow": null,
            "grid_area": null,
            "grid_auto_columns": null,
            "grid_auto_flow": null,
            "grid_auto_rows": null,
            "grid_column": null,
            "grid_gap": null,
            "grid_row": null,
            "grid_template_areas": null,
            "grid_template_columns": null,
            "grid_template_rows": null,
            "height": null,
            "justify_content": null,
            "justify_items": null,
            "left": null,
            "margin": null,
            "max_height": null,
            "max_width": null,
            "min_height": null,
            "min_width": null,
            "object_fit": null,
            "object_position": null,
            "order": null,
            "overflow": null,
            "overflow_x": null,
            "overflow_y": null,
            "padding": null,
            "right": null,
            "top": null,
            "visibility": null,
            "width": null
          }
        },
        "4602882c35e44ba79f283719c6763c1b": {
          "model_module": "@jupyter-widgets/base",
          "model_module_version": "1.2.0",
          "model_name": "LayoutModel",
          "state": {
            "_model_module": "@jupyter-widgets/base",
            "_model_module_version": "1.2.0",
            "_model_name": "LayoutModel",
            "_view_count": null,
            "_view_module": "@jupyter-widgets/base",
            "_view_module_version": "1.2.0",
            "_view_name": "LayoutView",
            "align_content": null,
            "align_items": null,
            "align_self": null,
            "border": null,
            "bottom": null,
            "display": null,
            "flex": null,
            "flex_flow": null,
            "grid_area": null,
            "grid_auto_columns": null,
            "grid_auto_flow": null,
            "grid_auto_rows": null,
            "grid_column": null,
            "grid_gap": null,
            "grid_row": null,
            "grid_template_areas": null,
            "grid_template_columns": null,
            "grid_template_rows": null,
            "height": null,
            "justify_content": null,
            "justify_items": null,
            "left": null,
            "margin": null,
            "max_height": null,
            "max_width": null,
            "min_height": null,
            "min_width": null,
            "object_fit": null,
            "object_position": null,
            "order": null,
            "overflow": null,
            "overflow_x": null,
            "overflow_y": null,
            "padding": null,
            "right": null,
            "top": null,
            "visibility": null,
            "width": null
          }
        },
        "4b1a33a8ae37480291c07d2c72f9a47b": {
          "model_module": "@jupyter-widgets/controls",
          "model_module_version": "1.5.0",
          "model_name": "ProgressStyleModel",
          "state": {
            "_model_module": "@jupyter-widgets/controls",
            "_model_module_version": "1.5.0",
            "_model_name": "ProgressStyleModel",
            "_view_count": null,
            "_view_module": "@jupyter-widgets/base",
            "_view_module_version": "1.2.0",
            "_view_name": "StyleView",
            "bar_color": null,
            "description_width": ""
          }
        },
        "507bda55128f40f69a3c90f55f4a338b": {
          "model_module": "@jupyter-widgets/base",
          "model_module_version": "1.2.0",
          "model_name": "LayoutModel",
          "state": {
            "_model_module": "@jupyter-widgets/base",
            "_model_module_version": "1.2.0",
            "_model_name": "LayoutModel",
            "_view_count": null,
            "_view_module": "@jupyter-widgets/base",
            "_view_module_version": "1.2.0",
            "_view_name": "LayoutView",
            "align_content": null,
            "align_items": null,
            "align_self": null,
            "border": null,
            "bottom": null,
            "display": null,
            "flex": null,
            "flex_flow": null,
            "grid_area": null,
            "grid_auto_columns": null,
            "grid_auto_flow": null,
            "grid_auto_rows": null,
            "grid_column": null,
            "grid_gap": null,
            "grid_row": null,
            "grid_template_areas": null,
            "grid_template_columns": null,
            "grid_template_rows": null,
            "height": null,
            "justify_content": null,
            "justify_items": null,
            "left": null,
            "margin": null,
            "max_height": null,
            "max_width": null,
            "min_height": null,
            "min_width": null,
            "object_fit": null,
            "object_position": null,
            "order": null,
            "overflow": null,
            "overflow_x": null,
            "overflow_y": null,
            "padding": null,
            "right": null,
            "top": null,
            "visibility": null,
            "width": null
          }
        },
        "508ba4c5d51c4240a665a0b098575c22": {
          "model_module": "@jupyter-widgets/controls",
          "model_module_version": "1.5.0",
          "model_name": "HBoxModel",
          "state": {
            "_dom_classes": [],
            "_model_module": "@jupyter-widgets/controls",
            "_model_module_version": "1.5.0",
            "_model_name": "HBoxModel",
            "_view_count": null,
            "_view_module": "@jupyter-widgets/controls",
            "_view_module_version": "1.5.0",
            "_view_name": "HBoxView",
            "box_style": "",
            "children": [
              "IPY_MODEL_ebf62e482b45492bb7c30454d08be3b7",
              "IPY_MODEL_66e02d82175b4dcb8654196c414ab993",
              "IPY_MODEL_09ab9480b97b41c9b15ee62e11f632bc"
            ],
            "layout": "IPY_MODEL_efc93dca4c014d0794efa0d1bc360c14"
          }
        },
        "50a06fea06024a8fb1da81e83821f631": {
          "model_module": "@jupyter-widgets/controls",
          "model_module_version": "1.5.0",
          "model_name": "HTMLModel",
          "state": {
            "_dom_classes": [],
            "_model_module": "@jupyter-widgets/controls",
            "_model_module_version": "1.5.0",
            "_model_name": "HTMLModel",
            "_view_count": null,
            "_view_module": "@jupyter-widgets/controls",
            "_view_module_version": "1.5.0",
            "_view_name": "HTMLView",
            "description": "",
            "description_tooltip": null,
            "layout": "IPY_MODEL_b6ec8f91912345ff91eabc3d0326b395",
            "placeholder": "​",
            "style": "IPY_MODEL_8a23d630a4fd42f2aea4b47cbaa7aff4",
            "value": "Downloading: 100%"
          }
        },
        "54c89e86d691425ca0fb4fb9d1646715": {
          "model_module": "@jupyter-widgets/base",
          "model_module_version": "1.2.0",
          "model_name": "LayoutModel",
          "state": {
            "_model_module": "@jupyter-widgets/base",
            "_model_module_version": "1.2.0",
            "_model_name": "LayoutModel",
            "_view_count": null,
            "_view_module": "@jupyter-widgets/base",
            "_view_module_version": "1.2.0",
            "_view_name": "LayoutView",
            "align_content": null,
            "align_items": null,
            "align_self": null,
            "border": null,
            "bottom": null,
            "display": null,
            "flex": null,
            "flex_flow": null,
            "grid_area": null,
            "grid_auto_columns": null,
            "grid_auto_flow": null,
            "grid_auto_rows": null,
            "grid_column": null,
            "grid_gap": null,
            "grid_row": null,
            "grid_template_areas": null,
            "grid_template_columns": null,
            "grid_template_rows": null,
            "height": null,
            "justify_content": null,
            "justify_items": null,
            "left": null,
            "margin": null,
            "max_height": null,
            "max_width": null,
            "min_height": null,
            "min_width": null,
            "object_fit": null,
            "object_position": null,
            "order": null,
            "overflow": null,
            "overflow_x": null,
            "overflow_y": null,
            "padding": null,
            "right": null,
            "top": null,
            "visibility": null,
            "width": null
          }
        },
        "5830a07a2a544701870ee82dddc191fe": {
          "model_module": "@jupyter-widgets/base",
          "model_module_version": "1.2.0",
          "model_name": "LayoutModel",
          "state": {
            "_model_module": "@jupyter-widgets/base",
            "_model_module_version": "1.2.0",
            "_model_name": "LayoutModel",
            "_view_count": null,
            "_view_module": "@jupyter-widgets/base",
            "_view_module_version": "1.2.0",
            "_view_name": "LayoutView",
            "align_content": null,
            "align_items": null,
            "align_self": null,
            "border": null,
            "bottom": null,
            "display": null,
            "flex": null,
            "flex_flow": null,
            "grid_area": null,
            "grid_auto_columns": null,
            "grid_auto_flow": null,
            "grid_auto_rows": null,
            "grid_column": null,
            "grid_gap": null,
            "grid_row": null,
            "grid_template_areas": null,
            "grid_template_columns": null,
            "grid_template_rows": null,
            "height": null,
            "justify_content": null,
            "justify_items": null,
            "left": null,
            "margin": null,
            "max_height": null,
            "max_width": null,
            "min_height": null,
            "min_width": null,
            "object_fit": null,
            "object_position": null,
            "order": null,
            "overflow": null,
            "overflow_x": null,
            "overflow_y": null,
            "padding": null,
            "right": null,
            "top": null,
            "visibility": null,
            "width": null
          }
        },
        "5e263e6c35124ebabe23c181146c660b": {
          "model_module": "@jupyter-widgets/base",
          "model_module_version": "1.2.0",
          "model_name": "LayoutModel",
          "state": {
            "_model_module": "@jupyter-widgets/base",
            "_model_module_version": "1.2.0",
            "_model_name": "LayoutModel",
            "_view_count": null,
            "_view_module": "@jupyter-widgets/base",
            "_view_module_version": "1.2.0",
            "_view_name": "LayoutView",
            "align_content": null,
            "align_items": null,
            "align_self": null,
            "border": null,
            "bottom": null,
            "display": null,
            "flex": null,
            "flex_flow": null,
            "grid_area": null,
            "grid_auto_columns": null,
            "grid_auto_flow": null,
            "grid_auto_rows": null,
            "grid_column": null,
            "grid_gap": null,
            "grid_row": null,
            "grid_template_areas": null,
            "grid_template_columns": null,
            "grid_template_rows": null,
            "height": null,
            "justify_content": null,
            "justify_items": null,
            "left": null,
            "margin": null,
            "max_height": null,
            "max_width": null,
            "min_height": null,
            "min_width": null,
            "object_fit": null,
            "object_position": null,
            "order": null,
            "overflow": null,
            "overflow_x": null,
            "overflow_y": null,
            "padding": null,
            "right": null,
            "top": null,
            "visibility": null,
            "width": null
          }
        },
        "5f0b042abbb6460ab41a7697912a9045": {
          "model_module": "@jupyter-widgets/base",
          "model_module_version": "1.2.0",
          "model_name": "LayoutModel",
          "state": {
            "_model_module": "@jupyter-widgets/base",
            "_model_module_version": "1.2.0",
            "_model_name": "LayoutModel",
            "_view_count": null,
            "_view_module": "@jupyter-widgets/base",
            "_view_module_version": "1.2.0",
            "_view_name": "LayoutView",
            "align_content": null,
            "align_items": null,
            "align_self": null,
            "border": null,
            "bottom": null,
            "display": null,
            "flex": null,
            "flex_flow": null,
            "grid_area": null,
            "grid_auto_columns": null,
            "grid_auto_flow": null,
            "grid_auto_rows": null,
            "grid_column": null,
            "grid_gap": null,
            "grid_row": null,
            "grid_template_areas": null,
            "grid_template_columns": null,
            "grid_template_rows": null,
            "height": null,
            "justify_content": null,
            "justify_items": null,
            "left": null,
            "margin": null,
            "max_height": null,
            "max_width": null,
            "min_height": null,
            "min_width": null,
            "object_fit": null,
            "object_position": null,
            "order": null,
            "overflow": null,
            "overflow_x": null,
            "overflow_y": null,
            "padding": null,
            "right": null,
            "top": null,
            "visibility": null,
            "width": null
          }
        },
        "644565b5bfb64a26b4249afbfa782f85": {
          "model_module": "@jupyter-widgets/controls",
          "model_module_version": "1.5.0",
          "model_name": "HTMLModel",
          "state": {
            "_dom_classes": [],
            "_model_module": "@jupyter-widgets/controls",
            "_model_module_version": "1.5.0",
            "_model_name": "HTMLModel",
            "_view_count": null,
            "_view_module": "@jupyter-widgets/controls",
            "_view_module_version": "1.5.0",
            "_view_name": "HTMLView",
            "description": "",
            "description_tooltip": null,
            "layout": "IPY_MODEL_18478c7db3dc430c8de8b0d95c70b532",
            "placeholder": "​",
            "style": "IPY_MODEL_f5df0ecfa36149bca09d498ad91ad226",
            "value": " 556M/556M [00:20&lt;00:00, 42.9MB/s]"
          }
        },
        "66e02d82175b4dcb8654196c414ab993": {
          "model_module": "@jupyter-widgets/controls",
          "model_module_version": "1.5.0",
          "model_name": "FloatProgressModel",
          "state": {
            "_dom_classes": [],
            "_model_module": "@jupyter-widgets/controls",
            "_model_module_version": "1.5.0",
            "_model_name": "FloatProgressModel",
            "_view_count": null,
            "_view_module": "@jupyter-widgets/controls",
            "_view_module_version": "1.5.0",
            "_view_name": "ProgressView",
            "bar_style": "success",
            "description": "",
            "description_tooltip": null,
            "layout": "IPY_MODEL_5f0b042abbb6460ab41a7697912a9045",
            "max": 241796,
            "min": 0,
            "orientation": "horizontal",
            "style": "IPY_MODEL_021a3bd798c04763ba32fd8e0bdc8785",
            "value": 241796
          }
        },
        "683a492a65d047a6a52751c775f7572a": {
          "model_module": "@jupyter-widgets/controls",
          "model_module_version": "1.5.0",
          "model_name": "DescriptionStyleModel",
          "state": {
            "_model_module": "@jupyter-widgets/controls",
            "_model_module_version": "1.5.0",
            "_model_name": "DescriptionStyleModel",
            "_view_count": null,
            "_view_module": "@jupyter-widgets/base",
            "_view_module_version": "1.2.0",
            "_view_name": "StyleView",
            "description_width": ""
          }
        },
        "685f60acdc1a49ce817b8947cf2e9014": {
          "model_module": "@jupyter-widgets/controls",
          "model_module_version": "1.5.0",
          "model_name": "HTMLModel",
          "state": {
            "_dom_classes": [],
            "_model_module": "@jupyter-widgets/controls",
            "_model_module_version": "1.5.0",
            "_model_name": "HTMLModel",
            "_view_count": null,
            "_view_module": "@jupyter-widgets/controls",
            "_view_module_version": "1.5.0",
            "_view_name": "HTMLView",
            "description": "",
            "description_tooltip": null,
            "layout": "IPY_MODEL_0751680cc37944db8245b4efb694d89d",
            "placeholder": "​",
            "style": "IPY_MODEL_7adc9ec398294079be355c7364ee2aec",
            "value": " 112/112 [00:00&lt;00:00, 1.09kB/s]"
          }
        },
        "795d6c1d75b74c5984dff80ee9f27af6": {
          "model_module": "@jupyter-widgets/controls",
          "model_module_version": "1.5.0",
          "model_name": "ProgressStyleModel",
          "state": {
            "_model_module": "@jupyter-widgets/controls",
            "_model_module_version": "1.5.0",
            "_model_name": "ProgressStyleModel",
            "_view_count": null,
            "_view_module": "@jupyter-widgets/base",
            "_view_module_version": "1.2.0",
            "_view_name": "StyleView",
            "bar_color": null,
            "description_width": ""
          }
        },
        "7adc9ec398294079be355c7364ee2aec": {
          "model_module": "@jupyter-widgets/controls",
          "model_module_version": "1.5.0",
          "model_name": "DescriptionStyleModel",
          "state": {
            "_model_module": "@jupyter-widgets/controls",
            "_model_module_version": "1.5.0",
            "_model_name": "DescriptionStyleModel",
            "_view_count": null,
            "_view_module": "@jupyter-widgets/base",
            "_view_module_version": "1.2.0",
            "_view_name": "StyleView",
            "description_width": ""
          }
        },
        "7c4a92159e3144b0b3138dc83eae5239": {
          "model_module": "@jupyter-widgets/base",
          "model_module_version": "1.2.0",
          "model_name": "LayoutModel",
          "state": {
            "_model_module": "@jupyter-widgets/base",
            "_model_module_version": "1.2.0",
            "_model_name": "LayoutModel",
            "_view_count": null,
            "_view_module": "@jupyter-widgets/base",
            "_view_module_version": "1.2.0",
            "_view_name": "LayoutView",
            "align_content": null,
            "align_items": null,
            "align_self": null,
            "border": null,
            "bottom": null,
            "display": null,
            "flex": null,
            "flex_flow": null,
            "grid_area": null,
            "grid_auto_columns": null,
            "grid_auto_flow": null,
            "grid_auto_rows": null,
            "grid_column": null,
            "grid_gap": null,
            "grid_row": null,
            "grid_template_areas": null,
            "grid_template_columns": null,
            "grid_template_rows": null,
            "height": null,
            "justify_content": null,
            "justify_items": null,
            "left": null,
            "margin": null,
            "max_height": null,
            "max_width": null,
            "min_height": null,
            "min_width": null,
            "object_fit": null,
            "object_position": null,
            "order": null,
            "overflow": null,
            "overflow_x": null,
            "overflow_y": null,
            "padding": null,
            "right": null,
            "top": null,
            "visibility": null,
            "width": null
          }
        },
        "81b8b14d25d6408f93653884e3a098ed": {
          "model_module": "@jupyter-widgets/controls",
          "model_module_version": "1.5.0",
          "model_name": "DescriptionStyleModel",
          "state": {
            "_model_module": "@jupyter-widgets/controls",
            "_model_module_version": "1.5.0",
            "_model_name": "DescriptionStyleModel",
            "_view_count": null,
            "_view_module": "@jupyter-widgets/base",
            "_view_module_version": "1.2.0",
            "_view_name": "StyleView",
            "description_width": ""
          }
        },
        "84916b4e7bc046f3ba03e818ddb52dae": {
          "model_module": "@jupyter-widgets/controls",
          "model_module_version": "1.5.0",
          "model_name": "HTMLModel",
          "state": {
            "_dom_classes": [],
            "_model_module": "@jupyter-widgets/controls",
            "_model_module_version": "1.5.0",
            "_model_name": "HTMLModel",
            "_view_count": null,
            "_view_module": "@jupyter-widgets/controls",
            "_view_module_version": "1.5.0",
            "_view_name": "HTMLView",
            "description": "",
            "description_tooltip": null,
            "layout": "IPY_MODEL_444965ab70a54147ac2dbe8c5d0a1eb0",
            "placeholder": "​",
            "style": "IPY_MODEL_d0d32439b60e4816abe49818f891c5f2",
            "value": " 520/520 [00:00&lt;00:00, 5.71kB/s]"
          }
        },
        "868c7746688e46dfb2d6eb02be2a0f59": {
          "model_module": "@jupyter-widgets/base",
          "model_module_version": "1.2.0",
          "model_name": "LayoutModel",
          "state": {
            "_model_module": "@jupyter-widgets/base",
            "_model_module_version": "1.2.0",
            "_model_name": "LayoutModel",
            "_view_count": null,
            "_view_module": "@jupyter-widgets/base",
            "_view_module_version": "1.2.0",
            "_view_name": "LayoutView",
            "align_content": null,
            "align_items": null,
            "align_self": null,
            "border": null,
            "bottom": null,
            "display": null,
            "flex": null,
            "flex_flow": null,
            "grid_area": null,
            "grid_auto_columns": null,
            "grid_auto_flow": null,
            "grid_auto_rows": null,
            "grid_column": null,
            "grid_gap": null,
            "grid_row": null,
            "grid_template_areas": null,
            "grid_template_columns": null,
            "grid_template_rows": null,
            "height": null,
            "justify_content": null,
            "justify_items": null,
            "left": null,
            "margin": null,
            "max_height": null,
            "max_width": null,
            "min_height": null,
            "min_width": null,
            "object_fit": null,
            "object_position": null,
            "order": null,
            "overflow": null,
            "overflow_x": null,
            "overflow_y": null,
            "padding": null,
            "right": null,
            "top": null,
            "visibility": null,
            "width": null
          }
        },
        "8a23d630a4fd42f2aea4b47cbaa7aff4": {
          "model_module": "@jupyter-widgets/controls",
          "model_module_version": "1.5.0",
          "model_name": "DescriptionStyleModel",
          "state": {
            "_model_module": "@jupyter-widgets/controls",
            "_model_module_version": "1.5.0",
            "_model_name": "DescriptionStyleModel",
            "_view_count": null,
            "_view_module": "@jupyter-widgets/base",
            "_view_module_version": "1.2.0",
            "_view_name": "StyleView",
            "description_width": ""
          }
        },
        "8a9206eef7294cf6becef11f6bb911c4": {
          "model_module": "@jupyter-widgets/controls",
          "model_module_version": "1.5.0",
          "model_name": "HTMLModel",
          "state": {
            "_dom_classes": [],
            "_model_module": "@jupyter-widgets/controls",
            "_model_module_version": "1.5.0",
            "_model_name": "HTMLModel",
            "_view_count": null,
            "_view_module": "@jupyter-widgets/controls",
            "_view_module_version": "1.5.0",
            "_view_name": "HTMLView",
            "description": "",
            "description_tooltip": null,
            "layout": "IPY_MODEL_df62b2aefa7b45e0a2a789f271a9c59e",
            "placeholder": "​",
            "style": "IPY_MODEL_f9466a31726546059661827671ded60d",
            "value": "Downloading: 100%"
          }
        },
        "8dbe8c7460254f29a893a76dc959d624": {
          "model_module": "@jupyter-widgets/controls",
          "model_module_version": "1.5.0",
          "model_name": "ProgressStyleModel",
          "state": {
            "_model_module": "@jupyter-widgets/controls",
            "_model_module_version": "1.5.0",
            "_model_name": "ProgressStyleModel",
            "_view_count": null,
            "_view_module": "@jupyter-widgets/base",
            "_view_module_version": "1.2.0",
            "_view_name": "StyleView",
            "bar_color": null,
            "description_width": ""
          }
        },
        "9c52a30f5a58481e96960ba20997edfd": {
          "model_module": "@jupyter-widgets/base",
          "model_module_version": "1.2.0",
          "model_name": "LayoutModel",
          "state": {
            "_model_module": "@jupyter-widgets/base",
            "_model_module_version": "1.2.0",
            "_model_name": "LayoutModel",
            "_view_count": null,
            "_view_module": "@jupyter-widgets/base",
            "_view_module_version": "1.2.0",
            "_view_name": "LayoutView",
            "align_content": null,
            "align_items": null,
            "align_self": null,
            "border": null,
            "bottom": null,
            "display": null,
            "flex": null,
            "flex_flow": null,
            "grid_area": null,
            "grid_auto_columns": null,
            "grid_auto_flow": null,
            "grid_auto_rows": null,
            "grid_column": null,
            "grid_gap": null,
            "grid_row": null,
            "grid_template_areas": null,
            "grid_template_columns": null,
            "grid_template_rows": null,
            "height": null,
            "justify_content": null,
            "justify_items": null,
            "left": null,
            "margin": null,
            "max_height": null,
            "max_width": null,
            "min_height": null,
            "min_width": null,
            "object_fit": null,
            "object_position": null,
            "order": null,
            "overflow": null,
            "overflow_x": null,
            "overflow_y": null,
            "padding": null,
            "right": null,
            "top": null,
            "visibility": null,
            "width": null
          }
        },
        "a2798b7756a34f889d5aa65b6958983c": {
          "model_module": "@jupyter-widgets/base",
          "model_module_version": "1.2.0",
          "model_name": "LayoutModel",
          "state": {
            "_model_module": "@jupyter-widgets/base",
            "_model_module_version": "1.2.0",
            "_model_name": "LayoutModel",
            "_view_count": null,
            "_view_module": "@jupyter-widgets/base",
            "_view_module_version": "1.2.0",
            "_view_name": "LayoutView",
            "align_content": null,
            "align_items": null,
            "align_self": null,
            "border": null,
            "bottom": null,
            "display": null,
            "flex": null,
            "flex_flow": null,
            "grid_area": null,
            "grid_auto_columns": null,
            "grid_auto_flow": null,
            "grid_auto_rows": null,
            "grid_column": null,
            "grid_gap": null,
            "grid_row": null,
            "grid_template_areas": null,
            "grid_template_columns": null,
            "grid_template_rows": null,
            "height": null,
            "justify_content": null,
            "justify_items": null,
            "left": null,
            "margin": null,
            "max_height": null,
            "max_width": null,
            "min_height": null,
            "min_width": null,
            "object_fit": null,
            "object_position": null,
            "order": null,
            "overflow": null,
            "overflow_x": null,
            "overflow_y": null,
            "padding": null,
            "right": null,
            "top": null,
            "visibility": null,
            "width": null
          }
        },
        "aca9c62368a7463f91622ef74a61d5f0": {
          "model_module": "@jupyter-widgets/controls",
          "model_module_version": "1.5.0",
          "model_name": "DescriptionStyleModel",
          "state": {
            "_model_module": "@jupyter-widgets/controls",
            "_model_module_version": "1.5.0",
            "_model_name": "DescriptionStyleModel",
            "_view_count": null,
            "_view_module": "@jupyter-widgets/base",
            "_view_module_version": "1.2.0",
            "_view_name": "StyleView",
            "description_width": ""
          }
        },
        "ae5234b5f7124cf6aa8c001c4752a4fc": {
          "model_module": "@jupyter-widgets/controls",
          "model_module_version": "1.5.0",
          "model_name": "FloatProgressModel",
          "state": {
            "_dom_classes": [],
            "_model_module": "@jupyter-widgets/controls",
            "_model_module_version": "1.5.0",
            "_model_name": "FloatProgressModel",
            "_view_count": null,
            "_view_module": "@jupyter-widgets/controls",
            "_view_module_version": "1.5.0",
            "_view_name": "ProgressView",
            "bar_style": "success",
            "description": "",
            "description_tooltip": null,
            "layout": "IPY_MODEL_c50ee2f7e4c948d9871d7523793f59cb",
            "max": 4506,
            "min": 0,
            "orientation": "horizontal",
            "style": "IPY_MODEL_8dbe8c7460254f29a893a76dc959d624",
            "value": 4506
          }
        },
        "b6239042c7d1420daf62c075a7c0e251": {
          "model_module": "@jupyter-widgets/controls",
          "model_module_version": "1.5.0",
          "model_name": "DescriptionStyleModel",
          "state": {
            "_model_module": "@jupyter-widgets/controls",
            "_model_module_version": "1.5.0",
            "_model_name": "DescriptionStyleModel",
            "_view_count": null,
            "_view_module": "@jupyter-widgets/base",
            "_view_module_version": "1.2.0",
            "_view_name": "StyleView",
            "description_width": ""
          }
        },
        "b6ec8f91912345ff91eabc3d0326b395": {
          "model_module": "@jupyter-widgets/base",
          "model_module_version": "1.2.0",
          "model_name": "LayoutModel",
          "state": {
            "_model_module": "@jupyter-widgets/base",
            "_model_module_version": "1.2.0",
            "_model_name": "LayoutModel",
            "_view_count": null,
            "_view_module": "@jupyter-widgets/base",
            "_view_module_version": "1.2.0",
            "_view_name": "LayoutView",
            "align_content": null,
            "align_items": null,
            "align_self": null,
            "border": null,
            "bottom": null,
            "display": null,
            "flex": null,
            "flex_flow": null,
            "grid_area": null,
            "grid_auto_columns": null,
            "grid_auto_flow": null,
            "grid_auto_rows": null,
            "grid_column": null,
            "grid_gap": null,
            "grid_row": null,
            "grid_template_areas": null,
            "grid_template_columns": null,
            "grid_template_rows": null,
            "height": null,
            "justify_content": null,
            "justify_items": null,
            "left": null,
            "margin": null,
            "max_height": null,
            "max_width": null,
            "min_height": null,
            "min_width": null,
            "object_fit": null,
            "object_position": null,
            "order": null,
            "overflow": null,
            "overflow_x": null,
            "overflow_y": null,
            "padding": null,
            "right": null,
            "top": null,
            "visibility": null,
            "width": null
          }
        },
        "bb3f1c6c64094ced88effeb56ec65177": {
          "model_module": "@jupyter-widgets/controls",
          "model_module_version": "1.5.0",
          "model_name": "HTMLModel",
          "state": {
            "_dom_classes": [],
            "_model_module": "@jupyter-widgets/controls",
            "_model_module_version": "1.5.0",
            "_model_name": "HTMLModel",
            "_view_count": null,
            "_view_module": "@jupyter-widgets/controls",
            "_view_module_version": "1.5.0",
            "_view_name": "HTMLView",
            "description": "",
            "description_tooltip": null,
            "layout": "IPY_MODEL_5e263e6c35124ebabe23c181146c660b",
            "placeholder": "​",
            "style": "IPY_MODEL_b6239042c7d1420daf62c075a7c0e251",
            "value": " 4.51k/4.51k [00:00&lt;00:00, 7.22kB/s]"
          }
        },
        "c50ee2f7e4c948d9871d7523793f59cb": {
          "model_module": "@jupyter-widgets/base",
          "model_module_version": "1.2.0",
          "model_name": "LayoutModel",
          "state": {
            "_model_module": "@jupyter-widgets/base",
            "_model_module_version": "1.2.0",
            "_model_name": "LayoutModel",
            "_view_count": null,
            "_view_module": "@jupyter-widgets/base",
            "_view_module_version": "1.2.0",
            "_view_name": "LayoutView",
            "align_content": null,
            "align_items": null,
            "align_self": null,
            "border": null,
            "bottom": null,
            "display": null,
            "flex": null,
            "flex_flow": null,
            "grid_area": null,
            "grid_auto_columns": null,
            "grid_auto_flow": null,
            "grid_auto_rows": null,
            "grid_column": null,
            "grid_gap": null,
            "grid_row": null,
            "grid_template_areas": null,
            "grid_template_columns": null,
            "grid_template_rows": null,
            "height": null,
            "justify_content": null,
            "justify_items": null,
            "left": null,
            "margin": null,
            "max_height": null,
            "max_width": null,
            "min_height": null,
            "min_width": null,
            "object_fit": null,
            "object_position": null,
            "order": null,
            "overflow": null,
            "overflow_x": null,
            "overflow_y": null,
            "padding": null,
            "right": null,
            "top": null,
            "visibility": null,
            "width": null
          }
        },
        "cc386c7a549b4d6eaa9fc72d7bc7d5bc": {
          "model_module": "@jupyter-widgets/controls",
          "model_module_version": "1.5.0",
          "model_name": "HBoxModel",
          "state": {
            "_dom_classes": [],
            "_model_module": "@jupyter-widgets/controls",
            "_model_module_version": "1.5.0",
            "_model_name": "HBoxModel",
            "_view_count": null,
            "_view_module": "@jupyter-widgets/controls",
            "_view_module_version": "1.5.0",
            "_view_name": "HBoxView",
            "box_style": "",
            "children": [
              "IPY_MODEL_2ca0c93e95a34a2da4014e97eb1da240",
              "IPY_MODEL_42c91914f76d4fb89124691b1e6e741f",
              "IPY_MODEL_644565b5bfb64a26b4249afbfa782f85"
            ],
            "layout": "IPY_MODEL_1da44b13c17942a39f15fb5bb6edc333"
          }
        },
        "d0d32439b60e4816abe49818f891c5f2": {
          "model_module": "@jupyter-widgets/controls",
          "model_module_version": "1.5.0",
          "model_name": "DescriptionStyleModel",
          "state": {
            "_model_module": "@jupyter-widgets/controls",
            "_model_module_version": "1.5.0",
            "_model_name": "DescriptionStyleModel",
            "_view_count": null,
            "_view_module": "@jupyter-widgets/base",
            "_view_module_version": "1.2.0",
            "_view_name": "StyleView",
            "description_width": ""
          }
        },
        "d15f8f2ba0634b689dd79360862c7525": {
          "model_module": "@jupyter-widgets/controls",
          "model_module_version": "1.5.0",
          "model_name": "ProgressStyleModel",
          "state": {
            "_model_module": "@jupyter-widgets/controls",
            "_model_module_version": "1.5.0",
            "_model_name": "ProgressStyleModel",
            "_view_count": null,
            "_view_module": "@jupyter-widgets/base",
            "_view_module_version": "1.2.0",
            "_view_name": "StyleView",
            "bar_color": null,
            "description_width": ""
          }
        },
        "d903ffaad4b14bd4a236e54666016791": {
          "model_module": "@jupyter-widgets/controls",
          "model_module_version": "1.5.0",
          "model_name": "HTMLModel",
          "state": {
            "_dom_classes": [],
            "_model_module": "@jupyter-widgets/controls",
            "_model_module_version": "1.5.0",
            "_model_name": "HTMLModel",
            "_view_count": null,
            "_view_module": "@jupyter-widgets/controls",
            "_view_module_version": "1.5.0",
            "_view_name": "HTMLView",
            "description": "",
            "description_tooltip": null,
            "layout": "IPY_MODEL_a2798b7756a34f889d5aa65b6958983c",
            "placeholder": "​",
            "style": "IPY_MODEL_1a3e416a552642fca6c011b66c4955e7",
            "value": "Downloading: 100%"
          }
        },
        "df62b2aefa7b45e0a2a789f271a9c59e": {
          "model_module": "@jupyter-widgets/base",
          "model_module_version": "1.2.0",
          "model_name": "LayoutModel",
          "state": {
            "_model_module": "@jupyter-widgets/base",
            "_model_module_version": "1.2.0",
            "_model_name": "LayoutModel",
            "_view_count": null,
            "_view_module": "@jupyter-widgets/base",
            "_view_module_version": "1.2.0",
            "_view_name": "LayoutView",
            "align_content": null,
            "align_items": null,
            "align_self": null,
            "border": null,
            "bottom": null,
            "display": null,
            "flex": null,
            "flex_flow": null,
            "grid_area": null,
            "grid_auto_columns": null,
            "grid_auto_flow": null,
            "grid_auto_rows": null,
            "grid_column": null,
            "grid_gap": null,
            "grid_row": null,
            "grid_template_areas": null,
            "grid_template_columns": null,
            "grid_template_rows": null,
            "height": null,
            "justify_content": null,
            "justify_items": null,
            "left": null,
            "margin": null,
            "max_height": null,
            "max_width": null,
            "min_height": null,
            "min_width": null,
            "object_fit": null,
            "object_position": null,
            "order": null,
            "overflow": null,
            "overflow_x": null,
            "overflow_y": null,
            "padding": null,
            "right": null,
            "top": null,
            "visibility": null,
            "width": null
          }
        },
        "e00674c18a844ea9bcc6fde7c825c7d4": {
          "model_module": "@jupyter-widgets/controls",
          "model_module_version": "1.5.0",
          "model_name": "HBoxModel",
          "state": {
            "_dom_classes": [],
            "_model_module": "@jupyter-widgets/controls",
            "_model_module_version": "1.5.0",
            "_model_name": "HBoxModel",
            "_view_count": null,
            "_view_module": "@jupyter-widgets/controls",
            "_view_module_version": "1.5.0",
            "_view_name": "HBoxView",
            "box_style": "",
            "children": [
              "IPY_MODEL_8a9206eef7294cf6becef11f6bb911c4",
              "IPY_MODEL_ae5234b5f7124cf6aa8c001c4752a4fc",
              "IPY_MODEL_bb3f1c6c64094ced88effeb56ec65177"
            ],
            "layout": "IPY_MODEL_507bda55128f40f69a3c90f55f4a338b"
          }
        },
        "ebf62e482b45492bb7c30454d08be3b7": {
          "model_module": "@jupyter-widgets/controls",
          "model_module_version": "1.5.0",
          "model_name": "HTMLModel",
          "state": {
            "_dom_classes": [],
            "_model_module": "@jupyter-widgets/controls",
            "_model_module_version": "1.5.0",
            "_model_name": "HTMLModel",
            "_view_count": null,
            "_view_module": "@jupyter-widgets/controls",
            "_view_module_version": "1.5.0",
            "_view_name": "HTMLView",
            "description": "",
            "description_tooltip": null,
            "layout": "IPY_MODEL_9c52a30f5a58481e96960ba20997edfd",
            "placeholder": "​",
            "style": "IPY_MODEL_683a492a65d047a6a52751c775f7572a",
            "value": "Downloading: 100%"
          }
        },
        "efc93dca4c014d0794efa0d1bc360c14": {
          "model_module": "@jupyter-widgets/base",
          "model_module_version": "1.2.0",
          "model_name": "LayoutModel",
          "state": {
            "_model_module": "@jupyter-widgets/base",
            "_model_module_version": "1.2.0",
            "_model_name": "LayoutModel",
            "_view_count": null,
            "_view_module": "@jupyter-widgets/base",
            "_view_module_version": "1.2.0",
            "_view_name": "LayoutView",
            "align_content": null,
            "align_items": null,
            "align_self": null,
            "border": null,
            "bottom": null,
            "display": null,
            "flex": null,
            "flex_flow": null,
            "grid_area": null,
            "grid_auto_columns": null,
            "grid_auto_flow": null,
            "grid_auto_rows": null,
            "grid_column": null,
            "grid_gap": null,
            "grid_row": null,
            "grid_template_areas": null,
            "grid_template_columns": null,
            "grid_template_rows": null,
            "height": null,
            "justify_content": null,
            "justify_items": null,
            "left": null,
            "margin": null,
            "max_height": null,
            "max_width": null,
            "min_height": null,
            "min_width": null,
            "object_fit": null,
            "object_position": null,
            "order": null,
            "overflow": null,
            "overflow_x": null,
            "overflow_y": null,
            "padding": null,
            "right": null,
            "top": null,
            "visibility": null,
            "width": null
          }
        },
        "f5df0ecfa36149bca09d498ad91ad226": {
          "model_module": "@jupyter-widgets/controls",
          "model_module_version": "1.5.0",
          "model_name": "DescriptionStyleModel",
          "state": {
            "_model_module": "@jupyter-widgets/controls",
            "_model_module_version": "1.5.0",
            "_model_name": "DescriptionStyleModel",
            "_view_count": null,
            "_view_module": "@jupyter-widgets/base",
            "_view_module_version": "1.2.0",
            "_view_name": "StyleView",
            "description_width": ""
          }
        },
        "f9466a31726546059661827671ded60d": {
          "model_module": "@jupyter-widgets/controls",
          "model_module_version": "1.5.0",
          "model_name": "DescriptionStyleModel",
          "state": {
            "_model_module": "@jupyter-widgets/controls",
            "_model_module_version": "1.5.0",
            "_model_name": "DescriptionStyleModel",
            "_view_count": null,
            "_view_module": "@jupyter-widgets/base",
            "_view_module_version": "1.2.0",
            "_view_name": "StyleView",
            "description_width": ""
          }
        }
      }
    }
  },
  "nbformat": 4,
  "nbformat_minor": 0
}